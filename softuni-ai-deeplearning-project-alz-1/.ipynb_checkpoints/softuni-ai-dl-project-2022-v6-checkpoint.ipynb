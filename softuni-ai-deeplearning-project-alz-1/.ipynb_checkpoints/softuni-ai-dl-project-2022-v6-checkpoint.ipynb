{
 "cells": [
  {
   "cell_type": "code",
   "execution_count": null,
   "metadata": {
    "id": "iT9IlWKuPrjJ"
   },
   "outputs": [],
   "source": [
    "%matplotlib inline"
   ]
  },
  {
   "cell_type": "code",
   "execution_count": null,
   "metadata": {
    "colab": {
     "base_uri": "https://localhost:8080/"
    },
    "executionInfo": {
     "elapsed": 8231,
     "status": "ok",
     "timestamp": 1644652177210,
     "user": {
      "displayName": "Atanas Kuzmanov",
      "photoUrl": "https://lh3.googleusercontent.com/a-/AOh14GjkQ5zRgLa90vqKiGMiIgsyj9hf9t6u5qTGDXfKnWE=s64",
      "userId": "16147571627289237693"
     },
     "user_tz": -120
    },
    "id": "LU2dGmWEjgqG",
    "outputId": "64808cb4-2a60-41d5-f041-dedd7cabb898"
   },
   "outputs": [
    {
     "name": "stdout",
     "output_type": "stream",
     "text": [
      "Collecting tensorflow_addons\n",
      "  Downloading tensorflow_addons-0.15.0-cp37-cp37m-manylinux_2_12_x86_64.manylinux2010_x86_64.whl (1.1 MB)\n",
      "\u001b[K     |████████████████████████████████| 1.1 MB 5.0 MB/s \n",
      "\u001b[?25hRequirement already satisfied: typeguard>=2.7 in /usr/local/lib/python3.7/dist-packages (from tensorflow_addons) (2.7.1)\n",
      "Installing collected packages: tensorflow-addons\n",
      "Successfully installed tensorflow-addons-0.15.0\n"
     ]
    }
   ],
   "source": [
    "### Some necesary installs:\n",
    "\n",
    "!pip install tensorflow_addons"
   ]
  },
  {
   "cell_type": "code",
   "execution_count": null,
   "metadata": {
    "id": "au-TJsR5PrjL"
   },
   "outputs": [],
   "source": [
    "### Usual imports:\n",
    "import pandas as pd\n",
    "import sympy\n",
    "import math\n",
    "import cmath\n",
    "import numpy as np\n",
    "import numpy.polynomial.polynomial as p\n",
    "import matplotlib.pyplot as plt\n",
    "import seaborn as sns\n",
    "import re\n",
    "import skimage.io\n",
    "import time\n",
    "import unittest\n",
    "from sklearn.preprocessing import OneHotEncoder\n",
    "from sklearn.model_selection import train_test_split\n",
    "from sklearn.preprocessing import StandardScaler\n",
    "from scipy.stats import pearsonr"
   ]
  },
  {
   "cell_type": "code",
   "execution_count": null,
   "metadata": {
    "colab": {
     "base_uri": "https://localhost:8080/"
    },
    "executionInfo": {
     "elapsed": 3098,
     "status": "ok",
     "timestamp": 1644652182752,
     "user": {
      "displayName": "Atanas Kuzmanov",
      "photoUrl": "https://lh3.googleusercontent.com/a-/AOh14GjkQ5zRgLa90vqKiGMiIgsyj9hf9t6u5qTGDXfKnWE=s64",
      "userId": "16147571627289237693"
     },
     "user_tz": -120
    },
    "id": "R-T36e52jKlI",
    "outputId": "63b333f5-4c8c-472d-988d-241335d3cb08"
   },
   "outputs": [
    {
     "name": "stdout",
     "output_type": "stream",
     "text": [
      "2.7.0\n",
      "2.7.0\n"
     ]
    }
   ],
   "source": [
    "### Deep Learning imports:\n",
    "import sys\n",
    "import os\n",
    "import tensorflow as tf\n",
    "\n",
    "### Other imports:\n",
    "import PIL\n",
    "import numpy as np\n",
    "import pandas as pd\n",
    "import seaborn as sns\n",
    "import tensorflow as tf\n",
    "import matplotlib.pyplot as plt\n",
    "\n",
    "import os\n",
    "from distutils.dir_util import copy_tree, remove_tree\n",
    "\n",
    "from PIL import Image\n",
    "from random import randint\n",
    "\n",
    "from imblearn.over_sampling import SMOTE\n",
    "from sklearn.model_selection import train_test_split\n",
    "from sklearn.metrics import matthews_corrcoef as MCC\n",
    "from sklearn.metrics import balanced_accuracy_score as BAS\n",
    "from sklearn.metrics import classification_report, confusion_matrix\n",
    "\n",
    "import tensorflow_addons as tfa\n",
    "from keras.utils.vis_utils import plot_model\n",
    "from tensorflow.keras import Sequential, Input\n",
    "from tensorflow.keras.layers import Dense, Dropout\n",
    "from tensorflow.keras.layers import Conv2D, Flatten\n",
    "from tensorflow.keras.callbacks import ReduceLROnPlateau\n",
    "from tensorflow.keras.applications.inception_v3 import InceptionV3\n",
    "from tensorflow.keras.preprocessing.image import ImageDataGenerator as IDG\n",
    "from tensorflow.keras.layers import SeparableConv2D, BatchNormalization, GlobalAveragePooling2D\n",
    "from tensorflow.keras.utils import to_categorical\n",
    "\n",
    "import warnings\n",
    "warnings.filterwarnings(\"ignore\")\n",
    "from tensorflow.keras import Sequential\n",
    "from tensorflow.keras.layers import *\n",
    "from tensorflow.keras.optimizers import *\n",
    "from tensorflow.keras.metrics import *\n",
    "\n",
    "import keras"
   ]
  },
  {
   "cell_type": "code",
   "execution_count": null,
   "metadata": {},
   "outputs": [],
   "source": [
    "### Verifying versions:\n",
    "\n",
    "print(tf.__version__)\n",
    "print(keras.__version__)"
   ]
  },
  {
   "cell_type": "code",
   "execution_count": 7,
   "metadata": {
    "colab": {
     "base_uri": "https://localhost:8080/"
    },
    "executionInfo": {
     "elapsed": 2315,
     "status": "ok",
     "timestamp": 1644653820124,
     "user": {
      "displayName": "Atanas Kuzmanov",
      "photoUrl": "https://lh3.googleusercontent.com/a-/AOh14GjkQ5zRgLa90vqKiGMiIgsyj9hf9t6u5qTGDXfKnWE=s64",
      "userId": "16147571627289237693"
     },
     "user_tz": -120
    },
    "id": "kd-l1v2WeUe9",
    "outputId": "cdd48b4e-835a-4e8c-9869-f62a7cb9092a"
   },
   "outputs": [
    {
     "name": "stdout",
     "output_type": "stream",
     "text": [
      "Drive already mounted at /content/gdrive; to attempt to forcibly remount, call drive.mount(\"/content/gdrive\", force_remount=True).\n"
     ]
    }
   ],
   "source": [
    "### Setting up Google Drive to work with Google Colab\n",
    "\n",
    "from google.colab import drive\n",
    "drive.mount('/content/gdrive')"
   ]
  },
  {
   "cell_type": "code",
   "execution_count": 8,
   "metadata": {
    "colab": {
     "base_uri": "https://localhost:8080/"
    },
    "executionInfo": {
     "elapsed": 16,
     "status": "ok",
     "timestamp": 1644653820125,
     "user": {
      "displayName": "Atanas Kuzmanov",
      "photoUrl": "https://lh3.googleusercontent.com/a-/AOh14GjkQ5zRgLa90vqKiGMiIgsyj9hf9t6u5qTGDXfKnWE=s64",
      "userId": "16147571627289237693"
     },
     "user_tz": -120
    },
    "id": "aj2dOYokeWyD",
    "outputId": "17138ce6-5776-49c3-861f-56523391d6ec"
   },
   "outputs": [
    {
     "name": "stdout",
     "output_type": "stream",
     "text": [
      "/content/gdrive/MyDrive/Colab-Notebooks/softuni-ai-deeplearning-project-alz-1\n",
      "total 289166\n",
      "-rw------- 1 root root 97655936 Feb 11 20:23  alzheimer_inception_cnn_model_2022_02_08_1627\n",
      "-rw------- 1 root root 97656368 Feb 11 22:48  alzheimer_inception_cnn_model_2022_02_08_1627_2\n",
      "-rw------- 1 root root 97656368 Feb 12 00:29  alzheimer_inception_cnn_model_2022_02_08_1627_3\n",
      "drwx------ 2 root root     4096 Feb  7 09:22  \u001b[0m\u001b[01;34mdata\u001b[0m/\n",
      "drwx------ 2 root root     4096 Feb  7 16:10  \u001b[01;34mdata-aug\u001b[0m/\n",
      "drwx------ 2 root root     4096 Feb  7 13:03  \u001b[01;34mdataset\u001b[0m/\n",
      "drwx------ 2 root root     4096 Feb  7 12:20  \u001b[01;34mdataset-bkp-2022-02-07-1420-exp-0\u001b[0m/\n",
      "drwx------ 2 root root     4096 Feb  8 10:48 \u001b[01;34m'dataset copy'\u001b[0m/\n",
      "drwx------ 2 root root     4096 Feb  7 13:16 \u001b[01;34m'dataset copy (1)'\u001b[0m/\n",
      "drwx------ 2 root root     4096 Feb 12 07:20  \u001b[01;34m.ipynb_checkpoints\u001b[0m/\n",
      "drwx------ 2 root root     4096 Feb  7 12:12  \u001b[01;34mmodels\u001b[0m/\n",
      "drwx------ 3 root root     4096 Feb  7 09:19  \u001b[01;34mresources\u001b[0m/\n",
      "drwx------ 2 root root     4096 Feb  7 10:29  \u001b[01;34mscreens\u001b[0m/\n",
      "drwx------ 2 root root     4096 Feb  8 10:27  \u001b[01;34msoftuni-ai-dl-project-2022-v2-bkps\u001b[0m/\n",
      "drwx------ 2 root root     4096 Feb 11 14:35  \u001b[01;34msoftuni-ai-dl-project-2022-v3-bkps\u001b[0m/\n",
      "-rw------- 1 root root  1050635 Feb  9 22:43  softuni-ai-dl-project-2022-v3.ipynb\n",
      "-rw------- 1 root root   183682 Feb 11 15:53 'softuni-ai-dl-project-2022-v4 copy 2.ipynb'\n",
      "-rw------- 1 root root   224118 Feb 11 18:52 'softuni-ai-dl-project-2022-v4 copy 3.ipynb'\n",
      "-rw------- 1 root root   230941 Feb 11 20:59 'softuni-ai-dl-project-2022-v4 copy 4.ipynb'\n",
      "-rw------- 1 root root   225831 Feb 12 07:00 'softuni-ai-dl-project-2022-v4 copy 5.ipynb'\n",
      "-rw------- 1 root root   198387 Feb 11 15:04 'softuni-ai-dl-project-2022-v4 copy.ipynb'\n",
      "-rw------- 1 root root   226719 Feb 12 07:29  softuni-ai-dl-project-2022-v4.ipynb\n",
      "-rw------- 1 root root   260469 Feb 12 07:33  softuni-ai-dl-project-2022-v5.ipynb\n",
      "-rw------- 1 root root   230481 Feb 12 08:04 'softuni-ai-dl-project-2022-v6 copy.ipynb'\n",
      "-rw------- 1 root root   251961 Feb 12 08:16  softuni-ai-dl-project-2022-v6.ipynb\n"
     ]
    }
   ],
   "source": [
    "%cd /content/gdrive/MyDrive/Colab-Notebooks/softuni-ai-deeplearning-project-alz-1/\n",
    "%ls -la"
   ]
  },
  {
   "cell_type": "markdown",
   "metadata": {
    "id": "aComvLFmPrjM"
   },
   "source": [
    "# Alzheimer's Disease Classification using Deep Learning\n",
    "\n",
    "---\n",
    "---\n",
    "---"
   ]
  },
  {
   "cell_type": "markdown",
   "metadata": {
    "id": "rDnI8gX3PrjN"
   },
   "source": [
    "![header-image](https://storage.googleapis.com/kaggle-datasets-images/457093/861496/0e1367b46c9e96bdf3823ec7833b965d/dataset-cover.jpg)\n",
    "\n",
    "<div style=\"text-align: center\">Image referenced below.</div>\n",
    "\n",
    "[[Reference]](#Alzheimer's-Dataset-(-4-class-of-Images)---Header-image)"
   ]
  },
  {
   "cell_type": "markdown",
   "metadata": {
    "id": "UJIuF8w-PrjO"
   },
   "source": [
    "---"
   ]
  },
  {
   "cell_type": "markdown",
   "metadata": {
    "id": "QtqCiH5JPrjO"
   },
   "source": [
    "## Introduction\n",
    "\n",
    "***Author:*** Atanas Kuzmanov\n",
    "\n",
    "***Date:*** 2022-February-20\n",
    "\n",
    "*This is an article developed as a scientific notebook for an exam project assignment for a Deep Learning course from an Artificial Intelligence module.*\n",
    "\n",
    "*One of the aims of this article is to understand some Deep Learning (DL) basics, more specifically to understand Neural Networks (NNs) and how to improve them, so we can create models, train them, test them and extract predictions and information we might be interested in.*"
   ]
  },
  {
   "cell_type": "markdown",
   "metadata": {
    "id": "MKYmmexiPrjO"
   },
   "source": [
    "---"
   ]
  },
  {
   "cell_type": "markdown",
   "metadata": {
    "id": "fA_YM_0VPrjP"
   },
   "source": [
    "## Abstract"
   ]
  },
  {
   "cell_type": "markdown",
   "metadata": {
    "id": "3fM43thEPrjP"
   },
   "source": [
    "_This notebook implements a neural network model to predict the status (non-demented, moderate demented, very mild demented, mild demented) associated to the brain captured in MRI images._\n"
   ]
  },
  {
   "cell_type": "markdown",
   "metadata": {
    "id": "mQ7Ftu9uPrjP"
   },
   "source": [
    "*This article is an exploration and extension inspired by the following articles:*\n",
    "\n",
    "**Main inspiration articles:**\n",
    "\n",
    "- mri_image_classification_using_transfer_learning [[Reference]](#mri_image_classification_using_transfer_learning)\n",
    "\n",
    "- Alzheimer's-Disease-Classification---InceptionV3 [[Reference]](#Alzheimer's-Disease-Classification---InceptionV3)\n",
    "\n",
    "- Alzheimer-MRI-Model-+-TensorFlow-2.3-Data-Loading [[Reference]](#Alzheimer-MRI-Model-+-TensorFlow-2.3-Data-Loading)\n",
    "\n",
    "**Data:**\n",
    "\n",
    "- Alzheimer's-Dataset-(-4-class-of-Images) [[Reference]](#Alzheimer's-Dataset-(-4-class-of-Images))\n",
    "\n",
    "**Other inspiration articles:**\n",
    "\n",
    "- The-Alzheimer's-Disease-Prediction-Of-Longitudinal-Evolution-(TADPOLE)-Challenge:-Results-after-1-Year-Follow-up [[Reference]](#The-Alzheimer's-Disease-Prediction-Of-Longitudinal-Evolution-(TADPOLE)-Challenge:-Results-after-1-Year-Follow-up---arxiv.org)\n",
    "\n",
    "- Preclinical-Stage-Alzheimer’s-Disease-Detection-Using-MRI-Scans [[Reference]](#Preclinical-Stage-Alzheimer’s-Disease-Detection-Using-MRI-Scans)\n",
    "\n",
    "- OASIS-Brains-project [[Reference]](#OASIS-Brains-project)\n",
    "\n",
    "- Deep-Learning-in-Alzheimer's-disease:-Diagnostic-Classification-and-Prognostic-Prediction-using-Neuroimaging-Data [[Reference]](#Deep-Learning-in-Alzheimer's-disease:-Diagnostic-Classification-and-Prognostic-Prediction-using-Neuroimaging-Data)\n",
    "\n",
    "- Automatic-Assessment-of-Alzheimer's-Disease-Diagnosis-Based-on-Deep-Learning-Techniques [[Reference]](#Automatic-Assessment-of-Alzheimer's-Disease-Diagnosis-Based-on-Deep-Learning-Techniques)\n",
    "\n",
    "- An-explainable-two-dimensional-single-model-deep-learning-approach-for-Alzheimer's-disease-diagnosis-and-brain-atrophy-localization [[References]](#An-explainable-two-dimensional-single-model-deep-learning-approach-for-Alzheimer's-disease-diagnosis-and-brain-atrophy-localization)\n",
    "\n",
    "- Convolutional-Neural-Networks-for-Classification-of-Alzheimer's-Disease:-Overview-and-Reproducible-Evaluation [[References]](#Convolutional-Neural-Networks-for-Classification-of-Alzheimer's-Disease:-Overview-and-Reproducible-Evaluation)\n",
    "\n",
    "- Improving-3D-convolutional-neural-network-comprehensibility-via-interactive-visualization-of-relevance-maps:-Evaluation-in-Alzheimer's-disease [[Reference]](#Improving-3D-convolutional-neural-network-comprehensibility-via-interactive-visualization-of-relevance-maps:-Evaluation-in-Alzheimer's-disease)\n",
    "\n",
    "- Diagnosis-of-Alzheimer's-Disease-via-Multi-modality-3D-Convolutional-Neural-Network [[Reference]](#Diagnosis-of-Alzheimer's-Disease-via-Multi-modality-3D-Convolutional-Neural-Network)\n",
    "\n",
    "- Detection-of-Alzheimers-Disease-from-MRI-using-Convolutional-Neural-Networks,-Exploring-Transfer-Learning-And-BellCNN [[Reference]](#Detection-of-Alzheimers-Disease-from-MRI-using-Convolutional-Neural-Networks,-Exploring-Transfer-Learning-And-BellCNN)\n",
    "\n",
    "- Detecting-Alzheimer's-Disease-Using-Gated-Convolutional-Neural-Network-from-Audio-Data [[Reference]](#Detecting-Alzheimer's-Disease-Using-Gated-Convolutional-Neural-Network-from-Audio-Data)\n",
    "\n",
    "- Deep-Convolutional-Neural-Network-based-Classification-of-Alzheimer's-Disease-using-MRI-data [[Reference]](#Deep-Convolutional-Neural-Network-based-Classification-of-Alzheimer's-Disease-using-MRI-data)\n",
    "\n"
   ]
  },
  {
   "cell_type": "markdown",
   "metadata": {
    "id": "3Yr5HCZWPrjP"
   },
   "source": [
    "---"
   ]
  },
  {
   "cell_type": "markdown",
   "metadata": {
    "id": "Z3RwxqLQPrjQ"
   },
   "source": [
    "## Notes"
   ]
  },
  {
   "cell_type": "markdown",
   "metadata": {
    "id": "abd4996a"
   },
   "source": [
    "### Foreword\n",
    "\n",
    "_One of the aims of this article is to understand some Deep Learning (DL) basics, basic concepts and intuitions._\n",
    "\n",
    "_Because of that goal it is important to be able to train and test models multiple times, so we can determine the best hyperparameters and tune models to improve them. Unfortunately at the time of writing this article, in the year 2022, I am using my personal laptop from 2015. I thought this machine has fared rather well for it's age, and have great respect for it and what I have put it through, as we have been together through thick and thin. That was until I had to actually do DL on it for this article when I realized it is not going to fare well for this purpose. Most of the models were unable to run or finish running once I tried to train them, or once I tried to change the hyperparameters to improve them. My machine would just heat up with fans running at the highest rpms and still seem stuck on executing a cell for more than 30min. If I had carried on like this I would not have been able to finish this article, so instead most or all of the hyperparameters for the models are set to severely low or high, depending on the context, in order to reduce iterations or features of the data, so that this notebook would work and I would be able to demonstrate or give an example of the idea I am trying to explain. Please keep this in mind when going through the article._\n",
    "\n",
    "_This will be sufficient for the purpose of this article, just to demonstrate and help understand DL basics, basic concepts and intuitions, but if you need to try out some of the examples and extend and improve them for actual Deep Learning keep in mind you need a powerful machine with a good GPU, or you can use a cloud platform suitable for DL, such as Google Colab._"
   ]
  },
  {
   "cell_type": "markdown",
   "metadata": {
    "id": "1fed2f6a"
   },
   "source": [
    "### References Notes\n",
    "\n",
    "_Any and all references, citations, resources or other materials used to understand and explain, provide examples, and build this article have been referenced in order to give credit where credit is due and avoid plagiarism._\n",
    "_If a citation is the bigger part of a section, and has been edited, added to, modified, etc. the reference to that section would be at the end of it, separated with a horizontal line, like this example:_\n",
    "\n",
    "> ---\n",
    "> [[Example Reference]](#ExampleReference)\n",
    "\n",
    "_If a citation has been inserted and is relatively short, the relevant reference will be at the end of the sentence or paragraph, for example:_\n",
    "\n",
    "> Example. [[Example Reference]](#ExampleReference)\n",
    "\n",
    "_In case a reference is missed due to human error, all references can be found in the [References](#References) section. Anything which is found in the [References](#References) should be considered as a valid reference for everything in this paper, even if not explicitly referenced._"
   ]
  },
  {
   "cell_type": "markdown",
   "metadata": {
    "id": "48827ba5"
   },
   "source": [
    "### Narrative\n",
    "\n",
    "_I have tried to provide a nice flow, ease of read and a friendly and humorous tone of the article, and at the same time clear and understandable communication. In order to aid this I have provided a narrative to this article. In order to distinguish it I have used italics for it throughout the article. Please consider any text in italics, such as the one you are currently reading, as narrative. It can also be both in bold and italics._\n",
    "\n",
    "> _Example narrative._\n",
    "\n",
    "### Code\n",
    "\n",
    "_Currently most of the code in the article has been refactored into separate functions and most of the other code in the article is left fragmented throughout. There is a very good reason for this, which is that one of the aims of this article is to also understand a bit of Deep Learning. This is why the fragments of code throughout this article are used to help us and illustrate and demonstrate different parts of ML as a whole._\n",
    "\n",
    "_Some of the code quality has been improved by making some functions idempotent with special checks, so that they have the same effect, no matter how many times they are ran._\n",
    "\n",
    "_Most of the commented out code in this article is left on purpose to serve as information, as part of the intent for this article is for it to be a knowledgebase._\n",
    "\n",
    "### Table of Contents (TOC)\n",
    "\n",
    "_Please refer to the [Table of Contents](#Table-of-Contents) section in [Appendix A](#Appendix-A) for instructions on how you can use get a Table of Contents for this article in Jupyter Notebook._\n",
    "\n",
    "### Running this Jupyter Notebook\n",
    "\n",
    "_This Jupyter Notebook is quite feature packed and it might take a bit longer to load, depending on the machine on which you are running it on. Please allow sufficient time for all of it to run all the way, until the last LaTeX formula, Markdown, Python, graphs, plots, images, etc. have loaded and executed. This also valid if you use `Kernel -> Restart & Run All`._\n",
    "\n",
    "### Testing\n",
    "\n",
    "#### Project tests\n",
    "\n",
    "- _Any mathematics in the project for which I have had doubts or have not understood I have tested using Wolfram Alpha._\n",
    "\n",
    "- _I have repeatedly ran \"Kernel -> Restart & Run All\" to confirm all is working and have fixed bugs when things have been broken._\n",
    "\n",
    "#### Code tests\n",
    "\n",
    "- _There are code test, however the focus of this notebook is not on code tests. Due to the nature of this notebook, being focused on ML, most of the tests of this note book are actually metrics, scoring, score analysis, model testing and cross-validation._\n",
    "\n",
    "- _There are tests in the project. Since code tests are outside of the focus of this project most of the tests are visual print outs of the data and visual confirmations._\n",
    "\n",
    "- _Most of the tests in this project are visual and are marked with this \"`### Test`\" comment above it._\n",
    "\n",
    "- _There are also tests which are more functional and for example print a message if an assertion error is not thrown._\n",
    "\n",
    "_I consider this amount of test coverage adequate for the purpose of this article._"
   ]
  },
  {
   "cell_type": "markdown",
   "metadata": {
    "id": "gtWaiAcgPrjR"
   },
   "source": [
    "---"
   ]
  },
  {
   "cell_type": "markdown",
   "metadata": {
    "id": "vElrEnYhPrjR"
   },
   "source": [
    "### Hypothesis<a id=\"Hypothesis\"></a>\n",
    "\n",
    "#### Null hypothesis $(H_{0})$<a id=\"NullHypothesis\"></a>\n",
    "\n",
    "*The Null hypothesis $(H_{0})$ tells us that the status quo is real, that nothing interesting happens.*\n",
    "\n",
    "*This is the hypothesis we are going to try and disprove, by demonstrating that an Alternative hypothesis $(H_{1})$ is true with experiments.*\n",
    "\n",
    "#### Alternative hypothesis $(H_{1})$<a id=\"AlternativeHypothesis\"></a>\n",
    "\n",
    "*The Alternative hypothesis $(H_{1})$ is what we are trying to demonstrate.*\n",
    "\n",
    "_**For the purpose of this article/notebook we will state the following topic, with it's Null and Alternative hypothesis.**_\n",
    "\n",
    "#### Topic: [---]\n",
    "\n",
    "##### Null hypothesis 1 $(H_{0})$<a id=\"NullHypothesis1\"></a>\n",
    "\n",
    "- Null hypothesis 1 $(H_{0})$:\n",
    "\n",
    "    **[---]**\n",
    "\n",
    "##### Alternative hypothesis 1 $(H_{1})$<a id=\"AlternativeHypothesis1\"></a>\n",
    "\n",
    "- Alternative hypothesis 2 $(H_{1})$:\n",
    "\n",
    "    **[---]**"
   ]
  },
  {
   "cell_type": "markdown",
   "metadata": {
    "id": "eDBXzl9-PrjT"
   },
   "source": [
    "---"
   ]
  },
  {
   "cell_type": "markdown",
   "metadata": {
    "id": "2LKTaAbePrjT"
   },
   "source": [
    "## Research"
   ]
  },
  {
   "cell_type": "markdown",
   "metadata": {
    "id": "0jbDiHWBPrjT"
   },
   "source": [
    "- The-Alzheimer's-Disease-Prediction-Of-Longitudinal-Evolution-(TADPOLE)-Challenge:-Results-after-1-Year-Follow-up [[Reference]](#The-Alzheimer's-Disease-Prediction-Of-Longitudinal-Evolution-(TADPOLE)-Challenge:-Results-after-1-Year-Follow-up---arxiv.org)\n",
    "\n",
    "- Preclinical-Stage-Alzheimer’s-Disease-Detection-Using-MRI-Scans [[Reference]](#Preclinical-Stage-Alzheimer’s-Disease-Detection-Using-MRI-Scans)\n",
    "\n",
    "- OASIS-Brains-project [[Reference]](#OASIS-Brains-project)\n",
    "\n",
    "- Deep-Learning-in-Alzheimer's-disease:-Diagnostic-Classification-and-Prognostic-Prediction-using-Neuroimaging-Data [[Reference]](#Deep-Learning-in-Alzheimer's-disease:-Diagnostic-Classification-and-Prognostic-Prediction-using-Neuroimaging-Data)\n",
    "\n",
    "- Automatic-Assessment-of-Alzheimer's-Disease-Diagnosis-Based-on-Deep-Learning-Techniques [[Reference]](#Automatic-Assessment-of-Alzheimer's-Disease-Diagnosis-Based-on-Deep-Learning-Techniques)\n",
    "\n",
    "- An-explainable-two-dimensional-single-model-deep-learning-approach-for-Alzheimer's-disease-diagnosis-and-brain-atrophy-localization [[References]](#An-explainable-two-dimensional-single-model-deep-learning-approach-for-Alzheimer's-disease-diagnosis-and-brain-atrophy-localization)\n",
    "\n",
    "- Convolutional-Neural-Networks-for-Classification-of-Alzheimer's-Disease:-Overview-and-Reproducible-Evaluation [[References]](#Convolutional-Neural-Networks-for-Classification-of-Alzheimer's-Disease:-Overview-and-Reproducible-Evaluation)\n",
    "\n",
    "- Improving-3D-convolutional-neural-network-comprehensibility-via-interactive-visualization-of-relevance-maps:-Evaluation-in-Alzheimer's-disease [[Reference]](#Improving-3D-convolutional-neural-network-comprehensibility-via-interactive-visualization-of-relevance-maps:-Evaluation-in-Alzheimer's-disease)\n",
    "\n",
    "- Diagnosis-of-Alzheimer's-Disease-via-Multi-modality-3D-Convolutional-Neural-Network [[Reference]](#Diagnosis-of-Alzheimer's-Disease-via-Multi-modality-3D-Convolutional-Neural-Network)\n",
    "\n",
    "- Detection-of-Alzheimers-Disease-from-MRI-using-Convolutional-Neural-Networks,-Exploring-Transfer-Learning-And-BellCNN [[Reference]](#Detection-of-Alzheimers-Disease-from-MRI-using-Convolutional-Neural-Networks,-Exploring-Transfer-Learning-And-BellCNN)\n",
    "\n",
    "- Detecting-Alzheimer's-Disease-Using-Gated-Convolutional-Neural-Network-from-Audio-Data [[Reference]](#Detecting-Alzheimer's-Disease-Using-Gated-Convolutional-Neural-Network-from-Audio-Data)\n",
    "\n",
    "- Deep-Convolutional-Neural-Network-based-Classification-of-Alzheimer's-Disease-using-MRI-data [[Reference]](#Deep-Convolutional-Neural-Network-based-Classification-of-Alzheimer's-Disease-using-MRI-data)\n"
   ]
  },
  {
   "cell_type": "markdown",
   "metadata": {
    "id": "acZES9aSPrjU"
   },
   "source": [
    "---"
   ]
  },
  {
   "cell_type": "markdown",
   "metadata": {
    "id": "-pATWw5nPrjU"
   },
   "source": [
    "## Data"
   ]
  },
  {
   "cell_type": "markdown",
   "metadata": {
    "id": "jyq_bh_cPrjU"
   },
   "source": [
    "_The data:_\n",
    "\n",
    "_Here is a data set from [[kaggle.com]](#kaggle.com)_\n",
    "\n",
    "- Alzheimer's-Dataset-(-4-class-of-Images) [[Reference]](#Alzheimer's-Dataset-(-4-class-of-Images))\n"
   ]
  },
  {
   "cell_type": "markdown",
   "metadata": {
    "id": "WK3xLtmPPrja"
   },
   "source": [
    "---"
   ]
  },
  {
   "cell_type": "markdown",
   "metadata": {
    "id": "z_clfA7FPrjV"
   },
   "source": [
    "### Setup"
   ]
  },
  {
   "cell_type": "markdown",
   "metadata": {
    "id": "28wLUB0FPrjU"
   },
   "source": [
    "_It's always a good idea to set constant variables instead of hard coding numbers into your code. It saves time later when you want to change certain parameters._"
   ]
  },
  {
   "cell_type": "code",
   "execution_count": null,
   "metadata": {
    "id": "YxVZhKI87GRo"
   },
   "outputs": [],
   "source": [
    "root_dir = \"./\"\n",
    "base_dir = \"/content/gdrive/MyDrive/Colab-Notebooks/softuni-ai-deeplearning-project-alz-1/data-aug/\"\n",
    "test_dir = base_dir + \"test/\"\n",
    "train_dir = base_dir + \"train/\"\n",
    "work_dir = root_dir + \"dataset/\"\n",
    "WORK_DIR = work_dir"
   ]
  },
  {
   "cell_type": "code",
   "execution_count": null,
   "metadata": {
    "id": "0JLXvF4V6NXY"
   },
   "outputs": [],
   "source": [
    "CLASSES = [ 'NonDemented',\n",
    "            'VeryMildDemented',\n",
    "            'MildDemented',\n",
    "            'ModerateDemented']\n",
    "\n",
    "NUM_CLASSES = len(CLASSES)\n",
    "\n",
    "IMG_SIZE = 176\n",
    "IMAGE_SIZE = [176, 176]\n",
    "DIM = (IMG_SIZE, IMG_SIZE)\n",
    "\n",
    "EPOCHS = 64"
   ]
  },
  {
   "cell_type": "code",
   "execution_count": null,
   "metadata": {},
   "outputs": [],
   "source": [
    "AUTO = tf.data.AUTOTUNE"
   ]
  },
  {
   "cell_type": "code",
   "execution_count": null,
   "metadata": {},
   "outputs": [],
   "source": [
    "tf.config.run_functions_eagerly(True)"
   ]
  },
  {
   "cell_type": "code",
   "execution_count": null,
   "metadata": {
    "colab": {
     "base_uri": "https://localhost:8080/"
    },
    "executionInfo": {
     "elapsed": 12,
     "status": "ok",
     "timestamp": 1644594951562,
     "user": {
      "displayName": "Atanas Kuzmanov",
      "photoUrl": "https://lh3.googleusercontent.com/a-/AOh14GjkQ5zRgLa90vqKiGMiIgsyj9hf9t6u5qTGDXfKnWE=s64",
      "userId": "16147571627289237693"
     },
     "user_tz": -120
    },
    "id": "mMDVS9kdbmFM",
    "outputId": "e115fc51-6748-4842-cf02-3855b96f303f"
   },
   "outputs": [
    {
     "name": "stdout",
     "output_type": "stream",
     "text": [
      "Number of replicas: 1\n"
     ]
    }
   ],
   "source": [
    "try:\n",
    "    tpu = tf.distribute.cluster_resolver.TPUClusterResolver()\n",
    "    print('Device:', tpu.master())\n",
    "    tf.config.experimental_connect_to_cluster(tpu)\n",
    "    tf.tpu.experimental.initialize_tpu_system(tpu)\n",
    "    strategy = tf.distribute.experimental.TPUStrategy(tpu)\n",
    "except:\n",
    "    strategy = tf.distribute.get_strategy()\n",
    "print('Number of replicas:', strategy.num_replicas_in_sync)"
   ]
  },
  {
   "cell_type": "markdown",
   "metadata": {},
   "source": [
    "_Use the below to clear the session and reset models:_"
   ]
  },
  {
   "cell_type": "code",
   "execution_count": null,
   "metadata": {},
   "outputs": [],
   "source": [
    "### Use the below to clear the session and reset models:\n",
    "\n",
    "# tf.keras.backend.clear_session"
   ]
  },
  {
   "cell_type": "markdown",
   "metadata": {
    "id": "v9p97fEdPrjb"
   },
   "source": [
    "---"
   ]
  },
  {
   "cell_type": "markdown",
   "metadata": {
    "id": "KjTVdyyaGwng"
   },
   "source": [
    "_Initially I was planning to read the data like this and have only two data sets - train and validation one._\n",
    "\n"
   ]
  },
  {
   "cell_type": "code",
   "execution_count": null,
   "metadata": {
    "id": "qiQKBJSMINmD"
   },
   "outputs": [],
   "source": [
    "# train_ds = tf.keras.preprocessing.image_dataset_from_directory(\n",
    "#     base_dir+\"train\",\n",
    "#     validation_split=0.2,\n",
    "#     subset=\"training\",\n",
    "#     seed=1337,\n",
    "#     image_size=IMAGE_SIZE,\n",
    "#     color_mode=\"rgb\"\n",
    "# )\n",
    "\n",
    "# val_ds = tf.keras.preprocessing.image_dataset_from_directory(\n",
    "#     base_dir+\"train\",\n",
    "#     validation_split=0.2,\n",
    "#     subset=\"validation\",\n",
    "#     seed=1337,\n",
    "#     image_size=IMAGE_SIZE,\n",
    "#     color_mode=\"rgb\"\n",
    "# )"
   ]
  },
  {
   "cell_type": "code",
   "execution_count": null,
   "metadata": {
    "id": "GKlC_oRLebTY"
   },
   "outputs": [],
   "source": [
    "# print(type(train_ds))"
   ]
  },
  {
   "cell_type": "markdown",
   "metadata": {
    "id": "V4XEBqqpJJiL"
   },
   "source": [
    "_I was thinking I would like to have a `test` dataset as well, so I went on to see what I can do._"
   ]
  },
  {
   "cell_type": "markdown",
   "metadata": {
    "id": "9ausB-UJPrjb"
   },
   "source": [
    "---"
   ]
  },
  {
   "cell_type": "markdown",
   "metadata": {
    "id": "4Esswg1sJZdh"
   },
   "source": [
    "_I also wanted to do image augmentations to have more data samples._"
   ]
  },
  {
   "cell_type": "markdown",
   "metadata": {
    "id": "zQOULO1nPrjV"
   },
   "source": [
    "_I know I can add an augmentation layer to the model, but I wanted to explore a way where the augmentation is done on the data set._\n",
    "\n",
    "_This is for the scenario where you have a pre-trained model which you cannot change for one reason or the other, and you still want to do some custom image augmentations._\n",
    "\n",
    "_So, for this goal we will be using an image generator below._"
   ]
  },
  {
   "cell_type": "code",
   "execution_count": null,
   "metadata": {
    "id": "atxajii66NXa"
   },
   "outputs": [],
   "source": [
    "#Performing Image Augmentation to have more data samples\n",
    "\n",
    "ZOOM = [.99, 1.01]\n",
    "BRIGHT_RANGE = [0.8, 1.2]\n",
    "HORZ_FLIP = True\n",
    "FILL_MODE = \"constant\"\n",
    "DATA_FORMAT = \"channels_last\"\n",
    "\n",
    "image_gen = IDG(rescale = 1./255, data_format=DATA_FORMAT, horizontal_flip=HORZ_FLIP)"
   ]
  },
  {
   "cell_type": "markdown",
   "metadata": {
    "id": "AyIX5HkxIfsf"
   },
   "source": [
    "_Then I was planning on having two separate image generators, however that took forever and caused me sync problems with GoogleDrive._"
   ]
  },
  {
   "cell_type": "code",
   "execution_count": null,
   "metadata": {
    "id": "rsNWkaon5IgZ"
   },
   "outputs": [],
   "source": [
    "# train_data_generator = image_gen.flow_from_directory(directory=train_dir, target_size=DIM, batch_size=6500, shuffle=False)"
   ]
  },
  {
   "cell_type": "code",
   "execution_count": null,
   "metadata": {
    "id": "TZoQGYSo8U-t"
   },
   "outputs": [],
   "source": [
    "# test_data_generator = image_gen.flow_from_directory(directory=test_dir, target_size=DIM, batch_size=6500, shuffle=False)"
   ]
  },
  {
   "cell_type": "code",
   "execution_count": null,
   "metadata": {
    "id": "PsKvXJiy8U7u"
   },
   "outputs": [],
   "source": [
    "# train_data, train_labels = train_data_generator.next()"
   ]
  },
  {
   "cell_type": "code",
   "execution_count": null,
   "metadata": {
    "id": "otrJoBNJ5IPJ"
   },
   "outputs": [],
   "source": [
    "# train_dataset = tf.data.Dataset.from_tensor_slices((train_data, train_labels))\n",
    "# train_dataset"
   ]
  },
  {
   "cell_type": "code",
   "execution_count": null,
   "metadata": {
    "id": "OnbaRwDN8VE1"
   },
   "outputs": [],
   "source": [
    "# test_data, test_labels = test_data_generator.next()"
   ]
  },
  {
   "cell_type": "code",
   "execution_count": null,
   "metadata": {
    "id": "3cLaDQ_Z5Ilc"
   },
   "outputs": [],
   "source": [
    "# test_dataset = tf.data.Dataset.from_tensor_slices((test_data, test_labels))\n",
    "# test_dataset"
   ]
  },
  {
   "cell_type": "markdown",
   "metadata": {
    "id": "QY4fpXywI5p_"
   },
   "source": [
    "_So I decided to go with just one image generator._"
   ]
  },
  {
   "cell_type": "markdown",
   "metadata": {
    "id": "e4uMh_0RHBbG"
   },
   "source": [
    "_However, albeit not entierly elegant, I tried using `train_test_split`, as this way I would get train, validation and test data._"
   ]
  },
  {
   "cell_type": "code",
   "execution_count": null,
   "metadata": {
    "id": "SoC3jI1RKvZb"
   },
   "outputs": [],
   "source": [
    "#Splitting the data into train, test, and validation sets\n",
    "\n",
    "# train_data, test_data, train_labels, test_labels = train_test_split(train_data, train_labels, test_size = 0.2, random_state=42)\n",
    "# train_data, val_data, train_labels, val_labels = train_test_split(train_data, train_labels, test_size = 0.2, random_state=42)"
   ]
  },
  {
   "cell_type": "code",
   "execution_count": null,
   "metadata": {
    "id": "SBMiYDFWSMDW"
   },
   "outputs": [],
   "source": [
    "# print(\">>> train_data.shape: \", train_data.shape)\n",
    "# print(\">>> train_labels.shape: \", train_labels.shape)\n",
    "# print(\">>> test_data.shape: \", test_data.shape)\n",
    "# print(\">>> test_labels.shape: \", test_labels.shape)\n",
    "# print(\">>> val_data.shape: \", val_data.shape)\n",
    "# print(\">>> val_labels.shape: \", val_labels.shape)"
   ]
  },
  {
   "cell_type": "code",
   "execution_count": null,
   "metadata": {
    "id": "A0EFV40Nktyn"
   },
   "outputs": [],
   "source": [
    "# train_data = train_data.astype(int)\n",
    "# train_labels = train_labels.astype(int)\n",
    "# test_data = test_data.astype(int)\n",
    "# test_labels = test_labels.astype(int)\n",
    "# val_data = val_data.astype(int)\n",
    "# val_labels = val_labels.astype(int)\n",
    "\n",
    "# # print(type(train_data[0][0][0][0]))\n",
    "\n",
    "# print(type(train_data))"
   ]
  },
  {
   "cell_type": "code",
   "execution_count": null,
   "metadata": {
    "id": "hY0HNRE75IjN"
   },
   "outputs": [],
   "source": [
    "# if os.path.exists(work_dir):\n",
    "#     remove_tree(work_dir)\n",
    "    \n",
    "\n",
    "# os.mkdir(work_dir)\n",
    "# copy_tree(train_dir, work_dir)\n",
    "# copy_tree(test_dir, work_dir)\n",
    "# print(\"Working Directory Contents:\", os.listdir(work_dir))"
   ]
  },
  {
   "cell_type": "markdown",
   "metadata": {
    "id": "0yR3zEMRK6MX"
   },
   "source": [
    "_I wanted to do oversampling, but the below code crashed my Google Colab session each time I tried to execute it._"
   ]
  },
  {
   "cell_type": "code",
   "execution_count": null,
   "metadata": {
    "id": "qE_4qy4aKvZb"
   },
   "outputs": [],
   "source": [
    "# new_train_ds\n",
    "\n",
    "# Performing over-sampling of the data, since the classes are imbalanced\n",
    "\n",
    "# sm = SMOTE(random_state=42)\n",
    "\n",
    "# train_data, train_labels = sm.fit_resample(train_data.reshape(-1, IMG_SIZE * IMG_SIZE * 3), train_labels)\n",
    "\n",
    "# train_data = train_data.reshape(-1, IMG_SIZE, IMG_SIZE, 3)\n",
    "\n",
    "# print(train_data.shape, train_labels.shape)"
   ]
  },
  {
   "cell_type": "markdown",
   "metadata": {},
   "source": [
    "_I was not happy using `train_test_split`, so I decided to explore what else can I do._"
   ]
  },
  {
   "cell_type": "markdown",
   "metadata": {
    "id": "TiIQJSJjPrjb"
   },
   "source": [
    "---"
   ]
  },
  {
   "cell_type": "markdown",
   "metadata": {},
   "source": [
    "_I decided to use `image_gen.flow_from_directory`._"
   ]
  },
  {
   "cell_type": "code",
   "execution_count": null,
   "metadata": {
    "colab": {
     "base_uri": "https://localhost:8080/"
    },
    "executionInfo": {
     "elapsed": 607,
     "status": "ok",
     "timestamp": 1644605318183,
     "user": {
      "displayName": "Atanas Kuzmanov",
      "photoUrl": "https://lh3.googleusercontent.com/a-/AOh14GjkQ5zRgLa90vqKiGMiIgsyj9hf9t6u5qTGDXfKnWE=s64",
      "userId": "16147571627289237693"
     },
     "user_tz": -120
    },
    "id": "Bd5BTzgm_2sU",
    "outputId": "9ca906cc-3275-43ad-9ad1-f1c7e2404ddf"
   },
   "outputs": [
    {
     "name": "stdout",
     "output_type": "stream",
     "text": [
      "Found 6400 images belonging to 4 classes.\n",
      "<class 'keras.preprocessing.image.ImageDataGenerator'>\n"
     ]
    }
   ],
   "source": [
    "BATCH_SIZE = 32 * strategy.num_replicas_in_sync\n",
    "\n",
    "train_data_gen = image_gen.flow_from_directory(directory=WORK_DIR, \n",
    "                                               target_size=(176, 176), \n",
    "                                               batch_size=BATCH_SIZE, \n",
    "                                               shuffle=True)\n",
    "\n",
    "print(type(image_gen))"
   ]
  },
  {
   "cell_type": "markdown",
   "metadata": {},
   "source": [
    "---"
   ]
  },
  {
   "cell_type": "markdown",
   "metadata": {},
   "source": [
    "_Initially I tried building the dataset using `slices` but that did not work out well._"
   ]
  },
  {
   "cell_type": "code",
   "execution_count": null,
   "metadata": {
    "id": "WQCKTuXf5IoJ"
   },
   "outputs": [],
   "source": [
    "# Retrieving the data from the ImageDataGenerator iterator\n",
    "\n",
    "# train_data, train_labels = train_data_gen.next()"
   ]
  },
  {
   "cell_type": "code",
   "execution_count": null,
   "metadata": {
    "id": "ASocAqIOKvZa"
   },
   "outputs": [],
   "source": [
    "# Getting to know the dimensions of our dataset\n",
    "\n",
    "# print(train_data.shape, train_labels.shape)"
   ]
  },
  {
   "cell_type": "code",
   "execution_count": null,
   "metadata": {
    "id": "xfRaYhGYHM4v"
   },
   "outputs": [],
   "source": [
    "# new_train_dataset = tf.data.Dataset.from_tensor_slices((train_images, train_labels))"
   ]
  },
  {
   "cell_type": "code",
   "execution_count": null,
   "metadata": {
    "id": "EkyX1zAEHhYM"
   },
   "outputs": [],
   "source": [
    "# print(new_train_dataset)\n",
    "# print(len(new_train_dataset))"
   ]
  },
  {
   "cell_type": "code",
   "execution_count": null,
   "metadata": {
    "id": "WzCmCKMk1PZa"
   },
   "outputs": [],
   "source": [
    "# new_train_dataset = new_train_dataset.cache().prefetch(buffer_size=AUTO)"
   ]
  },
  {
   "cell_type": "code",
   "execution_count": null,
   "metadata": {
    "id": "7BSCpm9S1VpG"
   },
   "outputs": [],
   "source": [
    "# print(new_train_dataset)\n",
    "# print(len(new_train_dataset))"
   ]
  },
  {
   "cell_type": "markdown",
   "metadata": {},
   "source": [
    "---"
   ]
  },
  {
   "cell_type": "markdown",
   "metadata": {},
   "source": [
    "_I decided to use `image_gen.flow_from_directory`._"
   ]
  },
  {
   "cell_type": "markdown",
   "metadata": {},
   "source": [
    "_Below we are building a dataset from the image generator._"
   ]
  },
  {
   "cell_type": "code",
   "execution_count": null,
   "metadata": {
    "colab": {
     "base_uri": "https://localhost:8080/"
    },
    "executionInfo": {
     "elapsed": 20,
     "status": "ok",
     "timestamp": 1644605320193,
     "user": {
      "displayName": "Atanas Kuzmanov",
      "photoUrl": "https://lh3.googleusercontent.com/a-/AOh14GjkQ5zRgLa90vqKiGMiIgsyj9hf9t6u5qTGDXfKnWE=s64",
      "userId": "16147571627289237693"
     },
     "user_tz": -120
    },
    "id": "SRAQIJWtU6-3",
    "outputId": "f88f849e-a56e-4b21-cc1a-277f99933451"
   },
   "outputs": [
    {
     "name": "stdout",
     "output_type": "stream",
     "text": [
      "<_AssertCardinalityDataset shapes: ((None, 176, 176, 3), (None, 4)), types: (tf.float32, tf.float32)>\n",
      "6400\n"
     ]
    }
   ],
   "source": [
    "### Building a dataset from the image generator:\n",
    "\n",
    "tr_datset = tf.data.Dataset.from_generator(lambda: train_data_gen,\n",
    "                                           output_types = (tf.float32, tf.float32),\n",
    "                                            output_shapes = ([None, 176, 176, 3], [None, 4]))\n",
    "\n",
    "tr_datset = tr_datset.apply(tf.data.experimental.assert_cardinality(6400)) # number of samples\n",
    "\n",
    "print(tr_datset)\n",
    "print(len(tr_datset))"
   ]
  },
  {
   "cell_type": "code",
   "execution_count": null,
   "metadata": {
    "id": "fx4d8hsWFtbq"
   },
   "outputs": [],
   "source": [
    "### Setting up repeat() for the dataset:\n",
    "\n",
    "tr_datset_rep = tr_datset.repeat()"
   ]
  },
  {
   "cell_type": "code",
   "execution_count": null,
   "metadata": {
    "id": "rbBEPQSeGz9_"
   },
   "outputs": [],
   "source": [
    "# Reference: https://towardsdatascience.com/how-to-split-a-tensorflow-dataset-into-train-validation-and-test-sets-526c8dd29438\n",
    "\n",
    "def get_dataset_partitions_tf(ds, ds_size, train_split=0.8, val_split=0.1, test_split=0.1, shuffle=True, shuffle_size=10000):\n",
    "    assert (train_split + test_split + val_split) == 1\n",
    "    \n",
    "    # if shuffle:\n",
    "        # Specify seed to always have the same split distribution between runs\n",
    "        # ds = ds.shuffle(shuffle_size, seed=12)\n",
    "\n",
    "    train_size = int(train_split * ds_size) // BATCH_SIZE\n",
    "    val_size = int(val_split * ds_size) // BATCH_SIZE\n",
    "    test_size = int(test_split * ds_size) // BATCH_SIZE\n",
    "\n",
    "    # train_size = int(train_split * ds_size)\n",
    "    # val_size = int(val_split * ds_size)\n",
    "\n",
    "    print(\"train_size \", train_size)\n",
    "    print(\"val size \", val_size)\n",
    "    print(\"test size \", test_size)\n",
    "\n",
    "    # train_ds = ds.take(train_size).batch(BATCH_SIZE)\n",
    "    # val_ds = ds.skip(train_size).take(val_size).batch(BATCH_SIZE)\n",
    "    # test_ds = ds.skip(train_size).skip(val_size).batch(BATCH_SIZE)\n",
    "\n",
    "    train_ds = ds.take(train_size)\n",
    "    val_ds = ds.skip(train_size).take(val_size)\n",
    "    test_ds = ds.skip(train_size).skip(val_size).take(test_size)\n",
    "    \n",
    "    return train_ds, val_ds, test_ds"
   ]
  },
  {
   "cell_type": "code",
   "execution_count": null,
   "metadata": {
    "id": "a5q0QaNgG7Ov"
   },
   "outputs": [],
   "source": [
    "# new_train_ds, new_val_ds, new_test_ds = get_dataset_partitions_tf(new_train_dataset, len(new_train_dataset))"
   ]
  },
  {
   "cell_type": "code",
   "execution_count": null,
   "metadata": {
    "id": "PoWZhsEvbCbx"
   },
   "outputs": [],
   "source": [
    "# new_train_ds, new_val_ds, new_test_ds = get_dataset_partitions_tf(tr_datset, len(tr_datset), shuffle_size=len(tr_datset))"
   ]
  },
  {
   "cell_type": "code",
   "execution_count": null,
   "metadata": {
    "colab": {
     "base_uri": "https://localhost:8080/"
    },
    "executionInfo": {
     "elapsed": 506,
     "status": "ok",
     "timestamp": 1644605516209,
     "user": {
      "displayName": "Atanas Kuzmanov",
      "photoUrl": "https://lh3.googleusercontent.com/a-/AOh14GjkQ5zRgLa90vqKiGMiIgsyj9hf9t6u5qTGDXfKnWE=s64",
      "userId": "16147571627289237693"
     },
     "user_tz": -120
    },
    "id": "Wp_R-zsFFz80",
    "outputId": "63c7a3f4-eac7-45b4-b8a5-9ecca635d419"
   },
   "outputs": [
    {
     "name": "stdout",
     "output_type": "stream",
     "text": [
      "train_size  640\n",
      "val size  80\n",
      "test size  80\n"
     ]
    }
   ],
   "source": [
    "new_train_ds, new_val_ds, new_test_ds = get_dataset_partitions_tf(tr_datset_rep, len(tr_datset_rep), shuffle_size=len(tr_datset_rep))"
   ]
  },
  {
   "cell_type": "code",
   "execution_count": null,
   "metadata": {
    "colab": {
     "base_uri": "https://localhost:8080/"
    },
    "executionInfo": {
     "elapsed": 401,
     "status": "ok",
     "timestamp": 1644605518261,
     "user": {
      "displayName": "Atanas Kuzmanov",
      "photoUrl": "https://lh3.googleusercontent.com/a-/AOh14GjkQ5zRgLa90vqKiGMiIgsyj9hf9t6u5qTGDXfKnWE=s64",
      "userId": "16147571627289237693"
     },
     "user_tz": -120
    },
    "id": "FEMzsvqQJGKT",
    "outputId": "8edf01a7-0392-4e89-c71e-ad73a65f8051"
   },
   "outputs": [
    {
     "name": "stdout",
     "output_type": "stream",
     "text": [
      ">>> new_train_ds:  <TakeDataset shapes: ((None, 176, 176, 3), (None, 4)), types: (tf.float32, tf.float32)>\n",
      ">>> new_val_ds:  <TakeDataset shapes: ((None, 176, 176, 3), (None, 4)), types: (tf.float32, tf.float32)>\n",
      ">>> new_test_ds:  <TakeDataset shapes: ((None, 176, 176, 3), (None, 4)), types: (tf.float32, tf.float32)>\n",
      ">>> len new_train_ds:  640\n",
      ">>> len new_val_ds:  80\n",
      ">>> len new_test_ds:  80\n"
     ]
    }
   ],
   "source": [
    "print(\">>> new_train_ds: \", new_train_ds)\n",
    "print(\">>> new_val_ds: \", new_val_ds)\n",
    "print(\">>> new_test_ds: \", new_test_ds)\n",
    "\n",
    "print(\">>> len new_train_ds: \", len(new_train_ds))\n",
    "print(\">>> len new_val_ds: \",  len(new_val_ds))\n",
    "print(\">>> len new_test_ds: \",  len(new_test_ds))"
   ]
  },
  {
   "cell_type": "code",
   "execution_count": null,
   "metadata": {
    "colab": {
     "base_uri": "https://localhost:8080/"
    },
    "executionInfo": {
     "elapsed": 400,
     "status": "ok",
     "timestamp": 1644604824590,
     "user": {
      "displayName": "Atanas Kuzmanov",
      "photoUrl": "https://lh3.googleusercontent.com/a-/AOh14GjkQ5zRgLa90vqKiGMiIgsyj9hf9t6u5qTGDXfKnWE=s64",
      "userId": "16147571627289237693"
     },
     "user_tz": -120
    },
    "id": "LR1whNrrFUxt",
    "outputId": "8c42ae6a-e910-42e8-a4ef-98f11d7a8f46"
   },
   "outputs": [
    {
     "name": "stdout",
     "output_type": "stream",
     "text": [
      "<RepeatDataset shapes: ((None, 176, 176, 3), (None, 4)), types: (tf.float32, tf.float32)>\n"
     ]
    }
   ],
   "source": [
    "# ### Repeat:\n",
    "\n",
    "# num_epochs = 4\n",
    "\n",
    "# new_train_ds_rep = new_train_ds.repeat(num_epochs)\n",
    "\n",
    "# new_val_ds_rep = new_val_ds.repeat(num_epochs)\n",
    "\n",
    "# new_test_ds_rep = new_test_ds.repeat(num_epochs)\n",
    "\n",
    "# print(\">>> new_train_ds_rep: \", new_train_ds_rep)\n",
    "# print(\">>> new_val_ds_rep: \", new_val_ds_rep)\n",
    "# print(\">>> new_test_ds_rep: \", new_test_ds_rep)\n",
    "\n",
    "# print(\">>> len new_train_ds_rep: \", len(new_train_ds_rep))\n",
    "# print(\">>> len new_val_ds_rep: \",  len(new_val_ds_rep))\n",
    "# print(\">>> len new_test_ds_rep: \",  len(new_test_ds_rep))"
   ]
  },
  {
   "cell_type": "markdown",
   "metadata": {},
   "source": [
    "_Like mentioned in the introductory notes, we currently do not have sufficient computing power at our disposal for proper hyperparameters._\n",
    "\n",
    "_If we did, we could use calculations such as the ones below to get good numbers for how many `steps` should we perform for `training` and `validation` per each of our `epochs` according to the `batches` of our `dataset`._"
   ]
  },
  {
   "cell_type": "code",
   "execution_count": null,
   "metadata": {
    "colab": {
     "base_uri": "https://localhost:8080/"
    },
    "executionInfo": {
     "elapsed": 14,
     "status": "ok",
     "timestamp": 1644594977595,
     "user": {
      "displayName": "Atanas Kuzmanov",
      "photoUrl": "https://lh3.googleusercontent.com/a-/AOh14GjkQ5zRgLa90vqKiGMiIgsyj9hf9t6u5qTGDXfKnWE=s64",
      "userId": "16147571627289237693"
     },
     "user_tz": -120
    },
    "id": "Lzsh2O_lYGAt",
    "outputId": "839a9124-160c-435b-b35d-5dff3a04337d"
   },
   "outputs": [
    {
     "name": "stdout",
     "output_type": "stream",
     "text": [
      ">>> STEPS_PER_EPOCH:  5\n",
      ">>> VAL_STEPS_PER_EPOCH:  0\n"
     ]
    }
   ],
   "source": [
    "STEPS_PER_EPOCH = len(new_train_ds) // BATCH_SIZE\n",
    "print(\">>> STEPS_PER_EPOCH: \", STEPS_PER_EPOCH)\n",
    "\n",
    "VAL_STEPS_PER_EPOCH = len(new_val_ds) // BATCH_SIZE\n",
    "print(\">>> VAL_STEPS_PER_EPOCH: \", VAL_STEPS_PER_EPOCH)"
   ]
  },
  {
   "cell_type": "markdown",
   "metadata": {
    "id": "cdh4KyOrPrja"
   },
   "source": [
    "---"
   ]
  },
  {
   "cell_type": "markdown",
   "metadata": {
    "id": "cdh4KyOrPrja"
   },
   "source": [
    "### Data visualization\n",
    "\n",
    "_Visualizing a bit of our data, just to get an idea._\n",
    "\n",
    "_Now that our data has been loaded in, the next step is to visualize our images. This helps us understand what is being used as an input for our model. It also serves as a check to see if our images have been loaded in correctly._"
   ]
  },
  {
   "cell_type": "code",
   "execution_count": null,
   "metadata": {
    "id": "jzThwZUMKvZU"
   },
   "outputs": [],
   "source": [
    "def show_images(generator,y_pred=None):\n",
    "    \"\"\"\n",
    "    Input: An image generator,predicted labels (optional)\n",
    "    Output: Displays a grid of 9 images with lables\n",
    "    \"\"\"\n",
    "    \n",
    "    # get image lables\n",
    "    labels =dict(zip([0,1,2,3], CLASSES))\n",
    "    \n",
    "    # get a batch of images\n",
    "    x,y = generator.next()\n",
    "    \n",
    "    # display a grid of 9 images\n",
    "    plt.figure(figsize=(10, 10))\n",
    "    if y_pred is None:\n",
    "        for i in range(9):\n",
    "            ax = plt.subplot(3, 3, i + 1)\n",
    "            idx = randint(0, 6400)\n",
    "            plt.imshow(x[idx])\n",
    "            plt.axis(\"off\")\n",
    "            plt.title(\"Class:{}\".format(labels[np.argmax(y[idx])]))\n",
    "                                                     \n",
    "    else:\n",
    "        for i in range(9):\n",
    "            ax = plt.subplot(3, 3, i + 1)\n",
    "            plt.imshow(x[i])\n",
    "            plt.axis(\"off\")\n",
    "            plt.title(\"Actual:{} \\nPredicted:{}\".format(labels[np.argmax(y[i])],labels[y_pred[i]]))\n",
    "    \n",
    "# Display Train Images\n",
    "# show_images(train_data_gen)"
   ]
  },
  {
   "cell_type": "code",
   "execution_count": null,
   "metadata": {},
   "outputs": [],
   "source": [
    "# If you want to retrieve more elements of the dataset, just increase the number inside the take method.\n",
    "# If you want all elements, just insert -1.\n",
    "\n",
    "for display_images, display_labels in train_dataset.take(1):\n",
    "    numpy_images = display_images.numpy()\n",
    "    numpy_labels = display_labels.numpy()"
   ]
  },
  {
   "cell_type": "code",
   "execution_count": null,
   "metadata": {
    "id": "jzThwZUMKvZU"
   },
   "outputs": [],
   "source": [
    "\n",
    "\n",
    "def show_images2(numpy_images, numpy_labels, y_pred=None):\n",
    "    \"\"\"\n",
    "    Input: numpy_images, numpy_labels, predicted labels (optional)\n",
    "    Output: Displays a grid of 9 images with lables\n",
    "    \"\"\"\n",
    "    \n",
    "    # get image lables\n",
    "    labels = dict(zip([0,1,2,3], CLASSES))\n",
    "    \n",
    "    # \n",
    "    x,y = numpy_images, numpy_labels\n",
    "    \n",
    "    # display a grid of 9 images\n",
    "    plt.figure(figsize=(10, 10))\n",
    "    if y_pred is None:\n",
    "        for i in range(9):\n",
    "            ax = plt.subplot(3, 3, i + 1)\n",
    "            idx = randint(0, 6400)\n",
    "            plt.imshow(x[idx])\n",
    "            plt.axis(\"off\")\n",
    "            plt.title(\"Class:{}\".format(labels[np.argmax(y[idx])]))\n",
    "                                                     \n",
    "    else:\n",
    "        for i in range(9):\n",
    "            ax = plt.subplot(3, 3, i + 1)\n",
    "            plt.imshow(x[i])\n",
    "            plt.axis(\"off\")\n",
    "            plt.title(\"Actual:{} \\nPredicted:{}\".format(labels[np.argmax(y[i])],labels[y_pred[i]]))\n",
    "    \n",
    "# Display Train Images\n",
    "# show_images2(numpy_images, numpy_labels)"
   ]
  },
  {
   "cell_type": "markdown",
   "metadata": {
    "id": "3j2BO4X9Prja"
   },
   "source": [
    "---"
   ]
  },
  {
   "cell_type": "markdown",
   "metadata": {
    "id": "xwnL235yLTD3"
   },
   "source": [
    "### Feature Engineering"
   ]
  },
  {
   "cell_type": "markdown",
   "metadata": {
    "id": "hE3UtqM-LQa4"
   },
   "source": [
    "_Because we are working with categorical and noncontinuous data, we want to convert our model into one-hot encodings._\n",
    "\n",
    "_One-hot encodings are a way for the model to understand that we're looking at categorical instead of continuous data._\n",
    "\n",
    "_Transforming features so that they'll be more understandable is called feature engineering._\n",
    "\n",
    "_We are in luck as our dataset is already one-hot encoded, so we do not need to do it._\n",
    "\n",
    "_But if it was not one-hot encoded, we would use, something like the code below._\n",
    "\n",
    "_We would not encode the test dataset as that should be as \"pure\" as possible and as close to a real world dataset or example as possible._"
   ]
  },
  {
   "cell_type": "code",
   "execution_count": null,
   "metadata": {
    "id": "967p5uLLLQX6"
   },
   "outputs": [],
   "source": [
    "# Assigning one hot encoding of labels to train and val dataset:\n",
    "\n",
    "# def one_hot_label(image, label):\n",
    "#     label = tf.one_hot(label, NUM_CLASSES)\n",
    "#     return image, label\n",
    "\n",
    "\n",
    "# train_dataset_ohe = new_train_ds.map(one_hot_label)\n",
    "# print(type(train_dataset_ohe))\n",
    "# print(train_dataset_ohe)\n",
    "# print(len(train_dataset_ohe))\n",
    "\n",
    "\n",
    "\n",
    "# val_dataset_ohe = val_dataset.map(new_val_ds) \n",
    "# print(type(val_dataset_ohe))\n",
    "# print(val_dataset_ohe)\n",
    "# print(len(val_dataset_ohe))"
   ]
  },
  {
   "cell_type": "code",
   "execution_count": null,
   "metadata": {
    "id": "F1g1kVEqPNE2"
   },
   "outputs": [],
   "source": [
    "# train_dataset_ohe = new_train_ds.map(lambda x, y: (x, tf.one_hot(y, depth=NUM_CLASSES)))\n",
    "\n",
    "# train_dataset_ohe"
   ]
  },
  {
   "cell_type": "markdown",
   "metadata": {
    "id": "jyP34mRZe565"
   },
   "source": [
    "---"
   ]
  },
  {
   "cell_type": "markdown",
   "metadata": {
    "id": "D8Zy5xLj5Jrw"
   },
   "source": [
    "### Inception v3"
   ]
  },
  {
   "cell_type": "markdown",
   "metadata": {
    "id": "JR2NtuA6KvZb"
   },
   "source": [
    "_We will be using the InceptionV3 model as a base model for the task._\n",
    "\n",
    "_Let's create the base model from the pre-trained InceptionV3 architecture._"
   ]
  },
  {
   "cell_type": "markdown",
   "metadata": {
    "id": "D8Zy5xLj5Jrw"
   },
   "source": [
    "#### Base Inception v3 model"
   ]
  },
  {
   "cell_type": "code",
   "execution_count": null,
   "metadata": {
    "id": "N0jW_5gZKvZc"
   },
   "outputs": [],
   "source": [
    "# Create the base model from the pre-trained InceptionV3 architecture\n",
    "\n",
    "base_inception_model = InceptionV3(input_shape=(176, 176, 3),\n",
    "                              include_top=False, \n",
    "                              weights=\"imagenet\")"
   ]
  },
  {
   "cell_type": "markdown",
   "metadata": {
    "id": "BRxTFUZTagTw"
   },
   "source": [
    "_We need to freeze the base model layers to prevent its weights from being modified._"
   ]
  },
  {
   "cell_type": "code",
   "execution_count": null,
   "metadata": {
    "id": "nDjq26xdKvZc"
   },
   "outputs": [],
   "source": [
    "### Freezing base_model layers:\n",
    "### This would also do: `base_inception_model.trainable = false`\n",
    "for layer in base_inception_model.layers:\n",
    "    layer.trainable=False"
   ]
  },
  {
   "cell_type": "markdown",
   "metadata": {
    "id": "Lu-HqMGprJ1l"
   },
   "source": [
    "_Let's check the base model's architecture._"
   ]
  },
  {
   "cell_type": "code",
   "execution_count": null,
   "metadata": {
    "colab": {
     "base_uri": "https://localhost:8080/"
    },
    "executionInfo": {
     "elapsed": 501,
     "status": "ok",
     "timestamp": 1644594976787,
     "user": {
      "displayName": "Atanas Kuzmanov",
      "photoUrl": "https://lh3.googleusercontent.com/a-/AOh14GjkQ5zRgLa90vqKiGMiIgsyj9hf9t6u5qTGDXfKnWE=s64",
      "userId": "16147571627289237693"
     },
     "user_tz": -120
    },
    "id": "8xNyCTIFKcmh",
    "outputId": "71e865cc-ad1e-471e-c3f4-317242363f9d"
   },
   "outputs": [
    {
     "name": "stdout",
     "output_type": "stream",
     "text": [
      "Model: \"inception_v3\"\n",
      "__________________________________________________________________________________________________\n",
      " Layer (type)                   Output Shape         Param #     Connected to                     \n",
      "==================================================================================================\n",
      " input_1 (InputLayer)           [(None, 176, 176, 3  0           []                               \n",
      "                                )]                                                                \n",
      "                                                                                                  \n",
      " conv2d (Conv2D)                (None, 87, 87, 32)   864         ['input_1[0][0]']                \n",
      "                                                                                                  \n",
      " batch_normalization (BatchNorm  (None, 87, 87, 32)  96          ['conv2d[0][0]']                 \n",
      " alization)                                                                                       \n",
      "                                                                                                  \n",
      " activation (Activation)        (None, 87, 87, 32)   0           ['batch_normalization[0][0]']    \n",
      "                                                                                                  \n",
      " conv2d_1 (Conv2D)              (None, 85, 85, 32)   9216        ['activation[0][0]']             \n",
      "                                                                                                  \n",
      " batch_normalization_1 (BatchNo  (None, 85, 85, 32)  96          ['conv2d_1[0][0]']               \n",
      " rmalization)                                                                                     \n",
      "                                                                                                  \n",
      " activation_1 (Activation)      (None, 85, 85, 32)   0           ['batch_normalization_1[0][0]']  \n",
      "                                                                                                  \n",
      " conv2d_2 (Conv2D)              (None, 85, 85, 64)   18432       ['activation_1[0][0]']           \n",
      "                                                                                                  \n",
      " batch_normalization_2 (BatchNo  (None, 85, 85, 64)  192         ['conv2d_2[0][0]']               \n",
      " rmalization)                                                                                     \n",
      "                                                                                                  \n",
      " activation_2 (Activation)      (None, 85, 85, 64)   0           ['batch_normalization_2[0][0]']  \n",
      "                                                                                                  \n",
      " max_pooling2d (MaxPooling2D)   (None, 42, 42, 64)   0           ['activation_2[0][0]']           \n",
      "                                                                                                  \n",
      " conv2d_3 (Conv2D)              (None, 42, 42, 80)   5120        ['max_pooling2d[0][0]']          \n",
      "                                                                                                  \n",
      " batch_normalization_3 (BatchNo  (None, 42, 42, 80)  240         ['conv2d_3[0][0]']               \n",
      " rmalization)                                                                                     \n",
      "                                                                                                  \n",
      " activation_3 (Activation)      (None, 42, 42, 80)   0           ['batch_normalization_3[0][0]']  \n",
      "                                                                                                  \n",
      " conv2d_4 (Conv2D)              (None, 40, 40, 192)  138240      ['activation_3[0][0]']           \n",
      "                                                                                                  \n",
      " batch_normalization_4 (BatchNo  (None, 40, 40, 192)  576        ['conv2d_4[0][0]']               \n",
      " rmalization)                                                                                     \n",
      "                                                                                                  \n",
      " activation_4 (Activation)      (None, 40, 40, 192)  0           ['batch_normalization_4[0][0]']  \n",
      "                                                                                                  \n",
      " max_pooling2d_1 (MaxPooling2D)  (None, 19, 19, 192)  0          ['activation_4[0][0]']           \n",
      "                                                                                                  \n",
      " conv2d_8 (Conv2D)              (None, 19, 19, 64)   12288       ['max_pooling2d_1[0][0]']        \n",
      "                                                                                                  \n",
      " batch_normalization_8 (BatchNo  (None, 19, 19, 64)  192         ['conv2d_8[0][0]']               \n",
      " rmalization)                                                                                     \n",
      "                                                                                                  \n",
      " activation_8 (Activation)      (None, 19, 19, 64)   0           ['batch_normalization_8[0][0]']  \n",
      "                                                                                                  \n",
      " conv2d_6 (Conv2D)              (None, 19, 19, 48)   9216        ['max_pooling2d_1[0][0]']        \n",
      "                                                                                                  \n",
      " conv2d_9 (Conv2D)              (None, 19, 19, 96)   55296       ['activation_8[0][0]']           \n",
      "                                                                                                  \n",
      " batch_normalization_6 (BatchNo  (None, 19, 19, 48)  144         ['conv2d_6[0][0]']               \n",
      " rmalization)                                                                                     \n",
      "                                                                                                  \n",
      " batch_normalization_9 (BatchNo  (None, 19, 19, 96)  288         ['conv2d_9[0][0]']               \n",
      " rmalization)                                                                                     \n",
      "                                                                                                  \n",
      " activation_6 (Activation)      (None, 19, 19, 48)   0           ['batch_normalization_6[0][0]']  \n",
      "                                                                                                  \n",
      " activation_9 (Activation)      (None, 19, 19, 96)   0           ['batch_normalization_9[0][0]']  \n",
      "                                                                                                  \n",
      " average_pooling2d (AveragePool  (None, 19, 19, 192)  0          ['max_pooling2d_1[0][0]']        \n",
      " ing2D)                                                                                           \n",
      "                                                                                                  \n",
      " conv2d_5 (Conv2D)              (None, 19, 19, 64)   12288       ['max_pooling2d_1[0][0]']        \n",
      "                                                                                                  \n",
      " conv2d_7 (Conv2D)              (None, 19, 19, 64)   76800       ['activation_6[0][0]']           \n",
      "                                                                                                  \n",
      " conv2d_10 (Conv2D)             (None, 19, 19, 96)   82944       ['activation_9[0][0]']           \n",
      "                                                                                                  \n",
      " conv2d_11 (Conv2D)             (None, 19, 19, 32)   6144        ['average_pooling2d[0][0]']      \n",
      "                                                                                                  \n",
      " batch_normalization_5 (BatchNo  (None, 19, 19, 64)  192         ['conv2d_5[0][0]']               \n",
      " rmalization)                                                                                     \n",
      "                                                                                                  \n",
      " batch_normalization_7 (BatchNo  (None, 19, 19, 64)  192         ['conv2d_7[0][0]']               \n",
      " rmalization)                                                                                     \n",
      "                                                                                                  \n",
      " batch_normalization_10 (BatchN  (None, 19, 19, 96)  288         ['conv2d_10[0][0]']              \n",
      " ormalization)                                                                                    \n",
      "                                                                                                  \n",
      " batch_normalization_11 (BatchN  (None, 19, 19, 32)  96          ['conv2d_11[0][0]']              \n",
      " ormalization)                                                                                    \n",
      "                                                                                                  \n",
      " activation_5 (Activation)      (None, 19, 19, 64)   0           ['batch_normalization_5[0][0]']  \n",
      "                                                                                                  \n",
      " activation_7 (Activation)      (None, 19, 19, 64)   0           ['batch_normalization_7[0][0]']  \n",
      "                                                                                                  \n",
      " activation_10 (Activation)     (None, 19, 19, 96)   0           ['batch_normalization_10[0][0]'] \n",
      "                                                                                                  \n",
      " activation_11 (Activation)     (None, 19, 19, 32)   0           ['batch_normalization_11[0][0]'] \n",
      "                                                                                                  \n",
      " mixed0 (Concatenate)           (None, 19, 19, 256)  0           ['activation_5[0][0]',           \n",
      "                                                                  'activation_7[0][0]',           \n",
      "                                                                  'activation_10[0][0]',          \n",
      "                                                                  'activation_11[0][0]']          \n",
      "                                                                                                  \n",
      " conv2d_15 (Conv2D)             (None, 19, 19, 64)   16384       ['mixed0[0][0]']                 \n",
      "                                                                                                  \n",
      " batch_normalization_15 (BatchN  (None, 19, 19, 64)  192         ['conv2d_15[0][0]']              \n",
      " ormalization)                                                                                    \n",
      "                                                                                                  \n",
      " activation_15 (Activation)     (None, 19, 19, 64)   0           ['batch_normalization_15[0][0]'] \n",
      "                                                                                                  \n",
      " conv2d_13 (Conv2D)             (None, 19, 19, 48)   12288       ['mixed0[0][0]']                 \n",
      "                                                                                                  \n",
      " conv2d_16 (Conv2D)             (None, 19, 19, 96)   55296       ['activation_15[0][0]']          \n",
      "                                                                                                  \n",
      " batch_normalization_13 (BatchN  (None, 19, 19, 48)  144         ['conv2d_13[0][0]']              \n",
      " ormalization)                                                                                    \n",
      "                                                                                                  \n",
      " batch_normalization_16 (BatchN  (None, 19, 19, 96)  288         ['conv2d_16[0][0]']              \n",
      " ormalization)                                                                                    \n",
      "                                                                                                  \n",
      " activation_13 (Activation)     (None, 19, 19, 48)   0           ['batch_normalization_13[0][0]'] \n",
      "                                                                                                  \n",
      " activation_16 (Activation)     (None, 19, 19, 96)   0           ['batch_normalization_16[0][0]'] \n",
      "                                                                                                  \n",
      " average_pooling2d_1 (AveragePo  (None, 19, 19, 256)  0          ['mixed0[0][0]']                 \n",
      " oling2D)                                                                                         \n",
      "                                                                                                  \n",
      " conv2d_12 (Conv2D)             (None, 19, 19, 64)   16384       ['mixed0[0][0]']                 \n",
      "                                                                                                  \n",
      " conv2d_14 (Conv2D)             (None, 19, 19, 64)   76800       ['activation_13[0][0]']          \n",
      "                                                                                                  \n",
      " conv2d_17 (Conv2D)             (None, 19, 19, 96)   82944       ['activation_16[0][0]']          \n",
      "                                                                                                  \n",
      " conv2d_18 (Conv2D)             (None, 19, 19, 64)   16384       ['average_pooling2d_1[0][0]']    \n",
      "                                                                                                  \n",
      " batch_normalization_12 (BatchN  (None, 19, 19, 64)  192         ['conv2d_12[0][0]']              \n",
      " ormalization)                                                                                    \n",
      "                                                                                                  \n",
      " batch_normalization_14 (BatchN  (None, 19, 19, 64)  192         ['conv2d_14[0][0]']              \n",
      " ormalization)                                                                                    \n",
      "                                                                                                  \n",
      " batch_normalization_17 (BatchN  (None, 19, 19, 96)  288         ['conv2d_17[0][0]']              \n",
      " ormalization)                                                                                    \n",
      "                                                                                                  \n",
      " batch_normalization_18 (BatchN  (None, 19, 19, 64)  192         ['conv2d_18[0][0]']              \n",
      " ormalization)                                                                                    \n",
      "                                                                                                  \n",
      " activation_12 (Activation)     (None, 19, 19, 64)   0           ['batch_normalization_12[0][0]'] \n",
      "                                                                                                  \n",
      " activation_14 (Activation)     (None, 19, 19, 64)   0           ['batch_normalization_14[0][0]'] \n",
      "                                                                                                  \n",
      " activation_17 (Activation)     (None, 19, 19, 96)   0           ['batch_normalization_17[0][0]'] \n",
      "                                                                                                  \n",
      " activation_18 (Activation)     (None, 19, 19, 64)   0           ['batch_normalization_18[0][0]'] \n",
      "                                                                                                  \n",
      " mixed1 (Concatenate)           (None, 19, 19, 288)  0           ['activation_12[0][0]',          \n",
      "                                                                  'activation_14[0][0]',          \n",
      "                                                                  'activation_17[0][0]',          \n",
      "                                                                  'activation_18[0][0]']          \n",
      "                                                                                                  \n",
      " conv2d_22 (Conv2D)             (None, 19, 19, 64)   18432       ['mixed1[0][0]']                 \n",
      "                                                                                                  \n",
      " batch_normalization_22 (BatchN  (None, 19, 19, 64)  192         ['conv2d_22[0][0]']              \n",
      " ormalization)                                                                                    \n",
      "                                                                                                  \n",
      " activation_22 (Activation)     (None, 19, 19, 64)   0           ['batch_normalization_22[0][0]'] \n",
      "                                                                                                  \n",
      " conv2d_20 (Conv2D)             (None, 19, 19, 48)   13824       ['mixed1[0][0]']                 \n",
      "                                                                                                  \n",
      " conv2d_23 (Conv2D)             (None, 19, 19, 96)   55296       ['activation_22[0][0]']          \n",
      "                                                                                                  \n",
      " batch_normalization_20 (BatchN  (None, 19, 19, 48)  144         ['conv2d_20[0][0]']              \n",
      " ormalization)                                                                                    \n",
      "                                                                                                  \n",
      " batch_normalization_23 (BatchN  (None, 19, 19, 96)  288         ['conv2d_23[0][0]']              \n",
      " ormalization)                                                                                    \n",
      "                                                                                                  \n",
      " activation_20 (Activation)     (None, 19, 19, 48)   0           ['batch_normalization_20[0][0]'] \n",
      "                                                                                                  \n",
      " activation_23 (Activation)     (None, 19, 19, 96)   0           ['batch_normalization_23[0][0]'] \n",
      "                                                                                                  \n",
      " average_pooling2d_2 (AveragePo  (None, 19, 19, 288)  0          ['mixed1[0][0]']                 \n",
      " oling2D)                                                                                         \n",
      "                                                                                                  \n",
      " conv2d_19 (Conv2D)             (None, 19, 19, 64)   18432       ['mixed1[0][0]']                 \n",
      "                                                                                                  \n",
      " conv2d_21 (Conv2D)             (None, 19, 19, 64)   76800       ['activation_20[0][0]']          \n",
      "                                                                                                  \n",
      " conv2d_24 (Conv2D)             (None, 19, 19, 96)   82944       ['activation_23[0][0]']          \n",
      "                                                                                                  \n",
      " conv2d_25 (Conv2D)             (None, 19, 19, 64)   18432       ['average_pooling2d_2[0][0]']    \n",
      "                                                                                                  \n",
      " batch_normalization_19 (BatchN  (None, 19, 19, 64)  192         ['conv2d_19[0][0]']              \n",
      " ormalization)                                                                                    \n",
      "                                                                                                  \n",
      " batch_normalization_21 (BatchN  (None, 19, 19, 64)  192         ['conv2d_21[0][0]']              \n",
      " ormalization)                                                                                    \n",
      "                                                                                                  \n",
      " batch_normalization_24 (BatchN  (None, 19, 19, 96)  288         ['conv2d_24[0][0]']              \n",
      " ormalization)                                                                                    \n",
      "                                                                                                  \n",
      " batch_normalization_25 (BatchN  (None, 19, 19, 64)  192         ['conv2d_25[0][0]']              \n",
      " ormalization)                                                                                    \n",
      "                                                                                                  \n",
      " activation_19 (Activation)     (None, 19, 19, 64)   0           ['batch_normalization_19[0][0]'] \n",
      "                                                                                                  \n",
      " activation_21 (Activation)     (None, 19, 19, 64)   0           ['batch_normalization_21[0][0]'] \n",
      "                                                                                                  \n",
      " activation_24 (Activation)     (None, 19, 19, 96)   0           ['batch_normalization_24[0][0]'] \n",
      "                                                                                                  \n",
      " activation_25 (Activation)     (None, 19, 19, 64)   0           ['batch_normalization_25[0][0]'] \n",
      "                                                                                                  \n",
      " mixed2 (Concatenate)           (None, 19, 19, 288)  0           ['activation_19[0][0]',          \n",
      "                                                                  'activation_21[0][0]',          \n",
      "                                                                  'activation_24[0][0]',          \n",
      "                                                                  'activation_25[0][0]']          \n",
      "                                                                                                  \n",
      " conv2d_27 (Conv2D)             (None, 19, 19, 64)   18432       ['mixed2[0][0]']                 \n",
      "                                                                                                  \n",
      " batch_normalization_27 (BatchN  (None, 19, 19, 64)  192         ['conv2d_27[0][0]']              \n",
      " ormalization)                                                                                    \n",
      "                                                                                                  \n",
      " activation_27 (Activation)     (None, 19, 19, 64)   0           ['batch_normalization_27[0][0]'] \n",
      "                                                                                                  \n",
      " conv2d_28 (Conv2D)             (None, 19, 19, 96)   55296       ['activation_27[0][0]']          \n",
      "                                                                                                  \n",
      " batch_normalization_28 (BatchN  (None, 19, 19, 96)  288         ['conv2d_28[0][0]']              \n",
      " ormalization)                                                                                    \n",
      "                                                                                                  \n",
      " activation_28 (Activation)     (None, 19, 19, 96)   0           ['batch_normalization_28[0][0]'] \n",
      "                                                                                                  \n",
      " conv2d_26 (Conv2D)             (None, 9, 9, 384)    995328      ['mixed2[0][0]']                 \n",
      "                                                                                                  \n",
      " conv2d_29 (Conv2D)             (None, 9, 9, 96)     82944       ['activation_28[0][0]']          \n",
      "                                                                                                  \n",
      " batch_normalization_26 (BatchN  (None, 9, 9, 384)   1152        ['conv2d_26[0][0]']              \n",
      " ormalization)                                                                                    \n",
      "                                                                                                  \n",
      " batch_normalization_29 (BatchN  (None, 9, 9, 96)    288         ['conv2d_29[0][0]']              \n",
      " ormalization)                                                                                    \n",
      "                                                                                                  \n",
      " activation_26 (Activation)     (None, 9, 9, 384)    0           ['batch_normalization_26[0][0]'] \n",
      "                                                                                                  \n",
      " activation_29 (Activation)     (None, 9, 9, 96)     0           ['batch_normalization_29[0][0]'] \n",
      "                                                                                                  \n",
      " max_pooling2d_2 (MaxPooling2D)  (None, 9, 9, 288)   0           ['mixed2[0][0]']                 \n",
      "                                                                                                  \n",
      " mixed3 (Concatenate)           (None, 9, 9, 768)    0           ['activation_26[0][0]',          \n",
      "                                                                  'activation_29[0][0]',          \n",
      "                                                                  'max_pooling2d_2[0][0]']        \n",
      "                                                                                                  \n",
      " conv2d_34 (Conv2D)             (None, 9, 9, 128)    98304       ['mixed3[0][0]']                 \n",
      "                                                                                                  \n",
      " batch_normalization_34 (BatchN  (None, 9, 9, 128)   384         ['conv2d_34[0][0]']              \n",
      " ormalization)                                                                                    \n",
      "                                                                                                  \n",
      " activation_34 (Activation)     (None, 9, 9, 128)    0           ['batch_normalization_34[0][0]'] \n",
      "                                                                                                  \n",
      " conv2d_35 (Conv2D)             (None, 9, 9, 128)    114688      ['activation_34[0][0]']          \n",
      "                                                                                                  \n",
      " batch_normalization_35 (BatchN  (None, 9, 9, 128)   384         ['conv2d_35[0][0]']              \n",
      " ormalization)                                                                                    \n",
      "                                                                                                  \n",
      " activation_35 (Activation)     (None, 9, 9, 128)    0           ['batch_normalization_35[0][0]'] \n",
      "                                                                                                  \n",
      " conv2d_31 (Conv2D)             (None, 9, 9, 128)    98304       ['mixed3[0][0]']                 \n",
      "                                                                                                  \n",
      " conv2d_36 (Conv2D)             (None, 9, 9, 128)    114688      ['activation_35[0][0]']          \n",
      "                                                                                                  \n",
      " batch_normalization_31 (BatchN  (None, 9, 9, 128)   384         ['conv2d_31[0][0]']              \n",
      " ormalization)                                                                                    \n",
      "                                                                                                  \n",
      " batch_normalization_36 (BatchN  (None, 9, 9, 128)   384         ['conv2d_36[0][0]']              \n",
      " ormalization)                                                                                    \n",
      "                                                                                                  \n",
      " activation_31 (Activation)     (None, 9, 9, 128)    0           ['batch_normalization_31[0][0]'] \n",
      "                                                                                                  \n",
      " activation_36 (Activation)     (None, 9, 9, 128)    0           ['batch_normalization_36[0][0]'] \n",
      "                                                                                                  \n",
      " conv2d_32 (Conv2D)             (None, 9, 9, 128)    114688      ['activation_31[0][0]']          \n",
      "                                                                                                  \n",
      " conv2d_37 (Conv2D)             (None, 9, 9, 128)    114688      ['activation_36[0][0]']          \n",
      "                                                                                                  \n",
      " batch_normalization_32 (BatchN  (None, 9, 9, 128)   384         ['conv2d_32[0][0]']              \n",
      " ormalization)                                                                                    \n",
      "                                                                                                  \n",
      " batch_normalization_37 (BatchN  (None, 9, 9, 128)   384         ['conv2d_37[0][0]']              \n",
      " ormalization)                                                                                    \n",
      "                                                                                                  \n",
      " activation_32 (Activation)     (None, 9, 9, 128)    0           ['batch_normalization_32[0][0]'] \n",
      "                                                                                                  \n",
      " activation_37 (Activation)     (None, 9, 9, 128)    0           ['batch_normalization_37[0][0]'] \n",
      "                                                                                                  \n",
      " average_pooling2d_3 (AveragePo  (None, 9, 9, 768)   0           ['mixed3[0][0]']                 \n",
      " oling2D)                                                                                         \n",
      "                                                                                                  \n",
      " conv2d_30 (Conv2D)             (None, 9, 9, 192)    147456      ['mixed3[0][0]']                 \n",
      "                                                                                                  \n",
      " conv2d_33 (Conv2D)             (None, 9, 9, 192)    172032      ['activation_32[0][0]']          \n",
      "                                                                                                  \n",
      " conv2d_38 (Conv2D)             (None, 9, 9, 192)    172032      ['activation_37[0][0]']          \n",
      "                                                                                                  \n",
      " conv2d_39 (Conv2D)             (None, 9, 9, 192)    147456      ['average_pooling2d_3[0][0]']    \n",
      "                                                                                                  \n",
      " batch_normalization_30 (BatchN  (None, 9, 9, 192)   576         ['conv2d_30[0][0]']              \n",
      " ormalization)                                                                                    \n",
      "                                                                                                  \n",
      " batch_normalization_33 (BatchN  (None, 9, 9, 192)   576         ['conv2d_33[0][0]']              \n",
      " ormalization)                                                                                    \n",
      "                                                                                                  \n",
      " batch_normalization_38 (BatchN  (None, 9, 9, 192)   576         ['conv2d_38[0][0]']              \n",
      " ormalization)                                                                                    \n",
      "                                                                                                  \n",
      " batch_normalization_39 (BatchN  (None, 9, 9, 192)   576         ['conv2d_39[0][0]']              \n",
      " ormalization)                                                                                    \n",
      "                                                                                                  \n",
      " activation_30 (Activation)     (None, 9, 9, 192)    0           ['batch_normalization_30[0][0]'] \n",
      "                                                                                                  \n",
      " activation_33 (Activation)     (None, 9, 9, 192)    0           ['batch_normalization_33[0][0]'] \n",
      "                                                                                                  \n",
      " activation_38 (Activation)     (None, 9, 9, 192)    0           ['batch_normalization_38[0][0]'] \n",
      "                                                                                                  \n",
      " activation_39 (Activation)     (None, 9, 9, 192)    0           ['batch_normalization_39[0][0]'] \n",
      "                                                                                                  \n",
      " mixed4 (Concatenate)           (None, 9, 9, 768)    0           ['activation_30[0][0]',          \n",
      "                                                                  'activation_33[0][0]',          \n",
      "                                                                  'activation_38[0][0]',          \n",
      "                                                                  'activation_39[0][0]']          \n",
      "                                                                                                  \n",
      " conv2d_44 (Conv2D)             (None, 9, 9, 160)    122880      ['mixed4[0][0]']                 \n",
      "                                                                                                  \n",
      " batch_normalization_44 (BatchN  (None, 9, 9, 160)   480         ['conv2d_44[0][0]']              \n",
      " ormalization)                                                                                    \n",
      "                                                                                                  \n",
      " activation_44 (Activation)     (None, 9, 9, 160)    0           ['batch_normalization_44[0][0]'] \n",
      "                                                                                                  \n",
      " conv2d_45 (Conv2D)             (None, 9, 9, 160)    179200      ['activation_44[0][0]']          \n",
      "                                                                                                  \n",
      " batch_normalization_45 (BatchN  (None, 9, 9, 160)   480         ['conv2d_45[0][0]']              \n",
      " ormalization)                                                                                    \n",
      "                                                                                                  \n",
      " activation_45 (Activation)     (None, 9, 9, 160)    0           ['batch_normalization_45[0][0]'] \n",
      "                                                                                                  \n",
      " conv2d_41 (Conv2D)             (None, 9, 9, 160)    122880      ['mixed4[0][0]']                 \n",
      "                                                                                                  \n",
      " conv2d_46 (Conv2D)             (None, 9, 9, 160)    179200      ['activation_45[0][0]']          \n",
      "                                                                                                  \n",
      " batch_normalization_41 (BatchN  (None, 9, 9, 160)   480         ['conv2d_41[0][0]']              \n",
      " ormalization)                                                                                    \n",
      "                                                                                                  \n",
      " batch_normalization_46 (BatchN  (None, 9, 9, 160)   480         ['conv2d_46[0][0]']              \n",
      " ormalization)                                                                                    \n",
      "                                                                                                  \n",
      " activation_41 (Activation)     (None, 9, 9, 160)    0           ['batch_normalization_41[0][0]'] \n",
      "                                                                                                  \n",
      " activation_46 (Activation)     (None, 9, 9, 160)    0           ['batch_normalization_46[0][0]'] \n",
      "                                                                                                  \n",
      " conv2d_42 (Conv2D)             (None, 9, 9, 160)    179200      ['activation_41[0][0]']          \n",
      "                                                                                                  \n",
      " conv2d_47 (Conv2D)             (None, 9, 9, 160)    179200      ['activation_46[0][0]']          \n",
      "                                                                                                  \n",
      " batch_normalization_42 (BatchN  (None, 9, 9, 160)   480         ['conv2d_42[0][0]']              \n",
      " ormalization)                                                                                    \n",
      "                                                                                                  \n",
      " batch_normalization_47 (BatchN  (None, 9, 9, 160)   480         ['conv2d_47[0][0]']              \n",
      " ormalization)                                                                                    \n",
      "                                                                                                  \n",
      " activation_42 (Activation)     (None, 9, 9, 160)    0           ['batch_normalization_42[0][0]'] \n",
      "                                                                                                  \n",
      " activation_47 (Activation)     (None, 9, 9, 160)    0           ['batch_normalization_47[0][0]'] \n",
      "                                                                                                  \n",
      " average_pooling2d_4 (AveragePo  (None, 9, 9, 768)   0           ['mixed4[0][0]']                 \n",
      " oling2D)                                                                                         \n",
      "                                                                                                  \n",
      " conv2d_40 (Conv2D)             (None, 9, 9, 192)    147456      ['mixed4[0][0]']                 \n",
      "                                                                                                  \n",
      " conv2d_43 (Conv2D)             (None, 9, 9, 192)    215040      ['activation_42[0][0]']          \n",
      "                                                                                                  \n",
      " conv2d_48 (Conv2D)             (None, 9, 9, 192)    215040      ['activation_47[0][0]']          \n",
      "                                                                                                  \n",
      " conv2d_49 (Conv2D)             (None, 9, 9, 192)    147456      ['average_pooling2d_4[0][0]']    \n",
      "                                                                                                  \n",
      " batch_normalization_40 (BatchN  (None, 9, 9, 192)   576         ['conv2d_40[0][0]']              \n",
      " ormalization)                                                                                    \n",
      "                                                                                                  \n",
      " batch_normalization_43 (BatchN  (None, 9, 9, 192)   576         ['conv2d_43[0][0]']              \n",
      " ormalization)                                                                                    \n",
      "                                                                                                  \n",
      " batch_normalization_48 (BatchN  (None, 9, 9, 192)   576         ['conv2d_48[0][0]']              \n",
      " ormalization)                                                                                    \n",
      "                                                                                                  \n",
      " batch_normalization_49 (BatchN  (None, 9, 9, 192)   576         ['conv2d_49[0][0]']              \n",
      " ormalization)                                                                                    \n",
      "                                                                                                  \n",
      " activation_40 (Activation)     (None, 9, 9, 192)    0           ['batch_normalization_40[0][0]'] \n",
      "                                                                                                  \n",
      " activation_43 (Activation)     (None, 9, 9, 192)    0           ['batch_normalization_43[0][0]'] \n",
      "                                                                                                  \n",
      " activation_48 (Activation)     (None, 9, 9, 192)    0           ['batch_normalization_48[0][0]'] \n",
      "                                                                                                  \n",
      " activation_49 (Activation)     (None, 9, 9, 192)    0           ['batch_normalization_49[0][0]'] \n",
      "                                                                                                  \n",
      " mixed5 (Concatenate)           (None, 9, 9, 768)    0           ['activation_40[0][0]',          \n",
      "                                                                  'activation_43[0][0]',          \n",
      "                                                                  'activation_48[0][0]',          \n",
      "                                                                  'activation_49[0][0]']          \n",
      "                                                                                                  \n",
      " conv2d_54 (Conv2D)             (None, 9, 9, 160)    122880      ['mixed5[0][0]']                 \n",
      "                                                                                                  \n",
      " batch_normalization_54 (BatchN  (None, 9, 9, 160)   480         ['conv2d_54[0][0]']              \n",
      " ormalization)                                                                                    \n",
      "                                                                                                  \n",
      " activation_54 (Activation)     (None, 9, 9, 160)    0           ['batch_normalization_54[0][0]'] \n",
      "                                                                                                  \n",
      " conv2d_55 (Conv2D)             (None, 9, 9, 160)    179200      ['activation_54[0][0]']          \n",
      "                                                                                                  \n",
      " batch_normalization_55 (BatchN  (None, 9, 9, 160)   480         ['conv2d_55[0][0]']              \n",
      " ormalization)                                                                                    \n",
      "                                                                                                  \n",
      " activation_55 (Activation)     (None, 9, 9, 160)    0           ['batch_normalization_55[0][0]'] \n",
      "                                                                                                  \n",
      " conv2d_51 (Conv2D)             (None, 9, 9, 160)    122880      ['mixed5[0][0]']                 \n",
      "                                                                                                  \n",
      " conv2d_56 (Conv2D)             (None, 9, 9, 160)    179200      ['activation_55[0][0]']          \n",
      "                                                                                                  \n",
      " batch_normalization_51 (BatchN  (None, 9, 9, 160)   480         ['conv2d_51[0][0]']              \n",
      " ormalization)                                                                                    \n",
      "                                                                                                  \n",
      " batch_normalization_56 (BatchN  (None, 9, 9, 160)   480         ['conv2d_56[0][0]']              \n",
      " ormalization)                                                                                    \n",
      "                                                                                                  \n",
      " activation_51 (Activation)     (None, 9, 9, 160)    0           ['batch_normalization_51[0][0]'] \n",
      "                                                                                                  \n",
      " activation_56 (Activation)     (None, 9, 9, 160)    0           ['batch_normalization_56[0][0]'] \n",
      "                                                                                                  \n",
      " conv2d_52 (Conv2D)             (None, 9, 9, 160)    179200      ['activation_51[0][0]']          \n",
      "                                                                                                  \n",
      " conv2d_57 (Conv2D)             (None, 9, 9, 160)    179200      ['activation_56[0][0]']          \n",
      "                                                                                                  \n",
      " batch_normalization_52 (BatchN  (None, 9, 9, 160)   480         ['conv2d_52[0][0]']              \n",
      " ormalization)                                                                                    \n",
      "                                                                                                  \n",
      " batch_normalization_57 (BatchN  (None, 9, 9, 160)   480         ['conv2d_57[0][0]']              \n",
      " ormalization)                                                                                    \n",
      "                                                                                                  \n",
      " activation_52 (Activation)     (None, 9, 9, 160)    0           ['batch_normalization_52[0][0]'] \n",
      "                                                                                                  \n",
      " activation_57 (Activation)     (None, 9, 9, 160)    0           ['batch_normalization_57[0][0]'] \n",
      "                                                                                                  \n",
      " average_pooling2d_5 (AveragePo  (None, 9, 9, 768)   0           ['mixed5[0][0]']                 \n",
      " oling2D)                                                                                         \n",
      "                                                                                                  \n",
      " conv2d_50 (Conv2D)             (None, 9, 9, 192)    147456      ['mixed5[0][0]']                 \n",
      "                                                                                                  \n",
      " conv2d_53 (Conv2D)             (None, 9, 9, 192)    215040      ['activation_52[0][0]']          \n",
      "                                                                                                  \n",
      " conv2d_58 (Conv2D)             (None, 9, 9, 192)    215040      ['activation_57[0][0]']          \n",
      "                                                                                                  \n",
      " conv2d_59 (Conv2D)             (None, 9, 9, 192)    147456      ['average_pooling2d_5[0][0]']    \n",
      "                                                                                                  \n",
      " batch_normalization_50 (BatchN  (None, 9, 9, 192)   576         ['conv2d_50[0][0]']              \n",
      " ormalization)                                                                                    \n",
      "                                                                                                  \n",
      " batch_normalization_53 (BatchN  (None, 9, 9, 192)   576         ['conv2d_53[0][0]']              \n",
      " ormalization)                                                                                    \n",
      "                                                                                                  \n",
      " batch_normalization_58 (BatchN  (None, 9, 9, 192)   576         ['conv2d_58[0][0]']              \n",
      " ormalization)                                                                                    \n",
      "                                                                                                  \n",
      " batch_normalization_59 (BatchN  (None, 9, 9, 192)   576         ['conv2d_59[0][0]']              \n",
      " ormalization)                                                                                    \n",
      "                                                                                                  \n",
      " activation_50 (Activation)     (None, 9, 9, 192)    0           ['batch_normalization_50[0][0]'] \n",
      "                                                                                                  \n",
      " activation_53 (Activation)     (None, 9, 9, 192)    0           ['batch_normalization_53[0][0]'] \n",
      "                                                                                                  \n",
      " activation_58 (Activation)     (None, 9, 9, 192)    0           ['batch_normalization_58[0][0]'] \n",
      "                                                                                                  \n",
      " activation_59 (Activation)     (None, 9, 9, 192)    0           ['batch_normalization_59[0][0]'] \n",
      "                                                                                                  \n",
      " mixed6 (Concatenate)           (None, 9, 9, 768)    0           ['activation_50[0][0]',          \n",
      "                                                                  'activation_53[0][0]',          \n",
      "                                                                  'activation_58[0][0]',          \n",
      "                                                                  'activation_59[0][0]']          \n",
      "                                                                                                  \n",
      " conv2d_64 (Conv2D)             (None, 9, 9, 192)    147456      ['mixed6[0][0]']                 \n",
      "                                                                                                  \n",
      " batch_normalization_64 (BatchN  (None, 9, 9, 192)   576         ['conv2d_64[0][0]']              \n",
      " ormalization)                                                                                    \n",
      "                                                                                                  \n",
      " activation_64 (Activation)     (None, 9, 9, 192)    0           ['batch_normalization_64[0][0]'] \n",
      "                                                                                                  \n",
      " conv2d_65 (Conv2D)             (None, 9, 9, 192)    258048      ['activation_64[0][0]']          \n",
      "                                                                                                  \n",
      " batch_normalization_65 (BatchN  (None, 9, 9, 192)   576         ['conv2d_65[0][0]']              \n",
      " ormalization)                                                                                    \n",
      "                                                                                                  \n",
      " activation_65 (Activation)     (None, 9, 9, 192)    0           ['batch_normalization_65[0][0]'] \n",
      "                                                                                                  \n",
      " conv2d_61 (Conv2D)             (None, 9, 9, 192)    147456      ['mixed6[0][0]']                 \n",
      "                                                                                                  \n",
      " conv2d_66 (Conv2D)             (None, 9, 9, 192)    258048      ['activation_65[0][0]']          \n",
      "                                                                                                  \n",
      " batch_normalization_61 (BatchN  (None, 9, 9, 192)   576         ['conv2d_61[0][0]']              \n",
      " ormalization)                                                                                    \n",
      "                                                                                                  \n",
      " batch_normalization_66 (BatchN  (None, 9, 9, 192)   576         ['conv2d_66[0][0]']              \n",
      " ormalization)                                                                                    \n",
      "                                                                                                  \n",
      " activation_61 (Activation)     (None, 9, 9, 192)    0           ['batch_normalization_61[0][0]'] \n",
      "                                                                                                  \n",
      " activation_66 (Activation)     (None, 9, 9, 192)    0           ['batch_normalization_66[0][0]'] \n",
      "                                                                                                  \n",
      " conv2d_62 (Conv2D)             (None, 9, 9, 192)    258048      ['activation_61[0][0]']          \n",
      "                                                                                                  \n",
      " conv2d_67 (Conv2D)             (None, 9, 9, 192)    258048      ['activation_66[0][0]']          \n",
      "                                                                                                  \n",
      " batch_normalization_62 (BatchN  (None, 9, 9, 192)   576         ['conv2d_62[0][0]']              \n",
      " ormalization)                                                                                    \n",
      "                                                                                                  \n",
      " batch_normalization_67 (BatchN  (None, 9, 9, 192)   576         ['conv2d_67[0][0]']              \n",
      " ormalization)                                                                                    \n",
      "                                                                                                  \n",
      " activation_62 (Activation)     (None, 9, 9, 192)    0           ['batch_normalization_62[0][0]'] \n",
      "                                                                                                  \n",
      " activation_67 (Activation)     (None, 9, 9, 192)    0           ['batch_normalization_67[0][0]'] \n",
      "                                                                                                  \n",
      " average_pooling2d_6 (AveragePo  (None, 9, 9, 768)   0           ['mixed6[0][0]']                 \n",
      " oling2D)                                                                                         \n",
      "                                                                                                  \n",
      " conv2d_60 (Conv2D)             (None, 9, 9, 192)    147456      ['mixed6[0][0]']                 \n",
      "                                                                                                  \n",
      " conv2d_63 (Conv2D)             (None, 9, 9, 192)    258048      ['activation_62[0][0]']          \n",
      "                                                                                                  \n",
      " conv2d_68 (Conv2D)             (None, 9, 9, 192)    258048      ['activation_67[0][0]']          \n",
      "                                                                                                  \n",
      " conv2d_69 (Conv2D)             (None, 9, 9, 192)    147456      ['average_pooling2d_6[0][0]']    \n",
      "                                                                                                  \n",
      " batch_normalization_60 (BatchN  (None, 9, 9, 192)   576         ['conv2d_60[0][0]']              \n",
      " ormalization)                                                                                    \n",
      "                                                                                                  \n",
      " batch_normalization_63 (BatchN  (None, 9, 9, 192)   576         ['conv2d_63[0][0]']              \n",
      " ormalization)                                                                                    \n",
      "                                                                                                  \n",
      " batch_normalization_68 (BatchN  (None, 9, 9, 192)   576         ['conv2d_68[0][0]']              \n",
      " ormalization)                                                                                    \n",
      "                                                                                                  \n",
      " batch_normalization_69 (BatchN  (None, 9, 9, 192)   576         ['conv2d_69[0][0]']              \n",
      " ormalization)                                                                                    \n",
      "                                                                                                  \n",
      " activation_60 (Activation)     (None, 9, 9, 192)    0           ['batch_normalization_60[0][0]'] \n",
      "                                                                                                  \n",
      " activation_63 (Activation)     (None, 9, 9, 192)    0           ['batch_normalization_63[0][0]'] \n",
      "                                                                                                  \n",
      " activation_68 (Activation)     (None, 9, 9, 192)    0           ['batch_normalization_68[0][0]'] \n",
      "                                                                                                  \n",
      " activation_69 (Activation)     (None, 9, 9, 192)    0           ['batch_normalization_69[0][0]'] \n",
      "                                                                                                  \n",
      " mixed7 (Concatenate)           (None, 9, 9, 768)    0           ['activation_60[0][0]',          \n",
      "                                                                  'activation_63[0][0]',          \n",
      "                                                                  'activation_68[0][0]',          \n",
      "                                                                  'activation_69[0][0]']          \n",
      "                                                                                                  \n",
      " conv2d_72 (Conv2D)             (None, 9, 9, 192)    147456      ['mixed7[0][0]']                 \n",
      "                                                                                                  \n",
      " batch_normalization_72 (BatchN  (None, 9, 9, 192)   576         ['conv2d_72[0][0]']              \n",
      " ormalization)                                                                                    \n",
      "                                                                                                  \n",
      " activation_72 (Activation)     (None, 9, 9, 192)    0           ['batch_normalization_72[0][0]'] \n",
      "                                                                                                  \n",
      " conv2d_73 (Conv2D)             (None, 9, 9, 192)    258048      ['activation_72[0][0]']          \n",
      "                                                                                                  \n",
      " batch_normalization_73 (BatchN  (None, 9, 9, 192)   576         ['conv2d_73[0][0]']              \n",
      " ormalization)                                                                                    \n",
      "                                                                                                  \n",
      " activation_73 (Activation)     (None, 9, 9, 192)    0           ['batch_normalization_73[0][0]'] \n",
      "                                                                                                  \n",
      " conv2d_70 (Conv2D)             (None, 9, 9, 192)    147456      ['mixed7[0][0]']                 \n",
      "                                                                                                  \n",
      " conv2d_74 (Conv2D)             (None, 9, 9, 192)    258048      ['activation_73[0][0]']          \n",
      "                                                                                                  \n",
      " batch_normalization_70 (BatchN  (None, 9, 9, 192)   576         ['conv2d_70[0][0]']              \n",
      " ormalization)                                                                                    \n",
      "                                                                                                  \n",
      " batch_normalization_74 (BatchN  (None, 9, 9, 192)   576         ['conv2d_74[0][0]']              \n",
      " ormalization)                                                                                    \n",
      "                                                                                                  \n",
      " activation_70 (Activation)     (None, 9, 9, 192)    0           ['batch_normalization_70[0][0]'] \n",
      "                                                                                                  \n",
      " activation_74 (Activation)     (None, 9, 9, 192)    0           ['batch_normalization_74[0][0]'] \n",
      "                                                                                                  \n",
      " conv2d_71 (Conv2D)             (None, 4, 4, 320)    552960      ['activation_70[0][0]']          \n",
      "                                                                                                  \n",
      " conv2d_75 (Conv2D)             (None, 4, 4, 192)    331776      ['activation_74[0][0]']          \n",
      "                                                                                                  \n",
      " batch_normalization_71 (BatchN  (None, 4, 4, 320)   960         ['conv2d_71[0][0]']              \n",
      " ormalization)                                                                                    \n",
      "                                                                                                  \n",
      " batch_normalization_75 (BatchN  (None, 4, 4, 192)   576         ['conv2d_75[0][0]']              \n",
      " ormalization)                                                                                    \n",
      "                                                                                                  \n",
      " activation_71 (Activation)     (None, 4, 4, 320)    0           ['batch_normalization_71[0][0]'] \n",
      "                                                                                                  \n",
      " activation_75 (Activation)     (None, 4, 4, 192)    0           ['batch_normalization_75[0][0]'] \n",
      "                                                                                                  \n",
      " max_pooling2d_3 (MaxPooling2D)  (None, 4, 4, 768)   0           ['mixed7[0][0]']                 \n",
      "                                                                                                  \n",
      " mixed8 (Concatenate)           (None, 4, 4, 1280)   0           ['activation_71[0][0]',          \n",
      "                                                                  'activation_75[0][0]',          \n",
      "                                                                  'max_pooling2d_3[0][0]']        \n",
      "                                                                                                  \n",
      " conv2d_80 (Conv2D)             (None, 4, 4, 448)    573440      ['mixed8[0][0]']                 \n",
      "                                                                                                  \n",
      " batch_normalization_80 (BatchN  (None, 4, 4, 448)   1344        ['conv2d_80[0][0]']              \n",
      " ormalization)                                                                                    \n",
      "                                                                                                  \n",
      " activation_80 (Activation)     (None, 4, 4, 448)    0           ['batch_normalization_80[0][0]'] \n",
      "                                                                                                  \n",
      " conv2d_77 (Conv2D)             (None, 4, 4, 384)    491520      ['mixed8[0][0]']                 \n",
      "                                                                                                  \n",
      " conv2d_81 (Conv2D)             (None, 4, 4, 384)    1548288     ['activation_80[0][0]']          \n",
      "                                                                                                  \n",
      " batch_normalization_77 (BatchN  (None, 4, 4, 384)   1152        ['conv2d_77[0][0]']              \n",
      " ormalization)                                                                                    \n",
      "                                                                                                  \n",
      " batch_normalization_81 (BatchN  (None, 4, 4, 384)   1152        ['conv2d_81[0][0]']              \n",
      " ormalization)                                                                                    \n",
      "                                                                                                  \n",
      " activation_77 (Activation)     (None, 4, 4, 384)    0           ['batch_normalization_77[0][0]'] \n",
      "                                                                                                  \n",
      " activation_81 (Activation)     (None, 4, 4, 384)    0           ['batch_normalization_81[0][0]'] \n",
      "                                                                                                  \n",
      " conv2d_78 (Conv2D)             (None, 4, 4, 384)    442368      ['activation_77[0][0]']          \n",
      "                                                                                                  \n",
      " conv2d_79 (Conv2D)             (None, 4, 4, 384)    442368      ['activation_77[0][0]']          \n",
      "                                                                                                  \n",
      " conv2d_82 (Conv2D)             (None, 4, 4, 384)    442368      ['activation_81[0][0]']          \n",
      "                                                                                                  \n",
      " conv2d_83 (Conv2D)             (None, 4, 4, 384)    442368      ['activation_81[0][0]']          \n",
      "                                                                                                  \n",
      " average_pooling2d_7 (AveragePo  (None, 4, 4, 1280)  0           ['mixed8[0][0]']                 \n",
      " oling2D)                                                                                         \n",
      "                                                                                                  \n",
      " conv2d_76 (Conv2D)             (None, 4, 4, 320)    409600      ['mixed8[0][0]']                 \n",
      "                                                                                                  \n",
      " batch_normalization_78 (BatchN  (None, 4, 4, 384)   1152        ['conv2d_78[0][0]']              \n",
      " ormalization)                                                                                    \n",
      "                                                                                                  \n",
      " batch_normalization_79 (BatchN  (None, 4, 4, 384)   1152        ['conv2d_79[0][0]']              \n",
      " ormalization)                                                                                    \n",
      "                                                                                                  \n",
      " batch_normalization_82 (BatchN  (None, 4, 4, 384)   1152        ['conv2d_82[0][0]']              \n",
      " ormalization)                                                                                    \n",
      "                                                                                                  \n",
      " batch_normalization_83 (BatchN  (None, 4, 4, 384)   1152        ['conv2d_83[0][0]']              \n",
      " ormalization)                                                                                    \n",
      "                                                                                                  \n",
      " conv2d_84 (Conv2D)             (None, 4, 4, 192)    245760      ['average_pooling2d_7[0][0]']    \n",
      "                                                                                                  \n",
      " batch_normalization_76 (BatchN  (None, 4, 4, 320)   960         ['conv2d_76[0][0]']              \n",
      " ormalization)                                                                                    \n",
      "                                                                                                  \n",
      " activation_78 (Activation)     (None, 4, 4, 384)    0           ['batch_normalization_78[0][0]'] \n",
      "                                                                                                  \n",
      " activation_79 (Activation)     (None, 4, 4, 384)    0           ['batch_normalization_79[0][0]'] \n",
      "                                                                                                  \n",
      " activation_82 (Activation)     (None, 4, 4, 384)    0           ['batch_normalization_82[0][0]'] \n",
      "                                                                                                  \n",
      " activation_83 (Activation)     (None, 4, 4, 384)    0           ['batch_normalization_83[0][0]'] \n",
      "                                                                                                  \n",
      " batch_normalization_84 (BatchN  (None, 4, 4, 192)   576         ['conv2d_84[0][0]']              \n",
      " ormalization)                                                                                    \n",
      "                                                                                                  \n",
      " activation_76 (Activation)     (None, 4, 4, 320)    0           ['batch_normalization_76[0][0]'] \n",
      "                                                                                                  \n",
      " mixed9_0 (Concatenate)         (None, 4, 4, 768)    0           ['activation_78[0][0]',          \n",
      "                                                                  'activation_79[0][0]']          \n",
      "                                                                                                  \n",
      " concatenate (Concatenate)      (None, 4, 4, 768)    0           ['activation_82[0][0]',          \n",
      "                                                                  'activation_83[0][0]']          \n",
      "                                                                                                  \n",
      " activation_84 (Activation)     (None, 4, 4, 192)    0           ['batch_normalization_84[0][0]'] \n",
      "                                                                                                  \n",
      " mixed9 (Concatenate)           (None, 4, 4, 2048)   0           ['activation_76[0][0]',          \n",
      "                                                                  'mixed9_0[0][0]',               \n",
      "                                                                  'concatenate[0][0]',            \n",
      "                                                                  'activation_84[0][0]']          \n",
      "                                                                                                  \n",
      " conv2d_89 (Conv2D)             (None, 4, 4, 448)    917504      ['mixed9[0][0]']                 \n",
      "                                                                                                  \n",
      " batch_normalization_89 (BatchN  (None, 4, 4, 448)   1344        ['conv2d_89[0][0]']              \n",
      " ormalization)                                                                                    \n",
      "                                                                                                  \n",
      " activation_89 (Activation)     (None, 4, 4, 448)    0           ['batch_normalization_89[0][0]'] \n",
      "                                                                                                  \n",
      " conv2d_86 (Conv2D)             (None, 4, 4, 384)    786432      ['mixed9[0][0]']                 \n",
      "                                                                                                  \n",
      " conv2d_90 (Conv2D)             (None, 4, 4, 384)    1548288     ['activation_89[0][0]']          \n",
      "                                                                                                  \n",
      " batch_normalization_86 (BatchN  (None, 4, 4, 384)   1152        ['conv2d_86[0][0]']              \n",
      " ormalization)                                                                                    \n",
      "                                                                                                  \n",
      " batch_normalization_90 (BatchN  (None, 4, 4, 384)   1152        ['conv2d_90[0][0]']              \n",
      " ormalization)                                                                                    \n",
      "                                                                                                  \n",
      " activation_86 (Activation)     (None, 4, 4, 384)    0           ['batch_normalization_86[0][0]'] \n",
      "                                                                                                  \n",
      " activation_90 (Activation)     (None, 4, 4, 384)    0           ['batch_normalization_90[0][0]'] \n",
      "                                                                                                  \n",
      " conv2d_87 (Conv2D)             (None, 4, 4, 384)    442368      ['activation_86[0][0]']          \n",
      "                                                                                                  \n",
      " conv2d_88 (Conv2D)             (None, 4, 4, 384)    442368      ['activation_86[0][0]']          \n",
      "                                                                                                  \n",
      " conv2d_91 (Conv2D)             (None, 4, 4, 384)    442368      ['activation_90[0][0]']          \n",
      "                                                                                                  \n",
      " conv2d_92 (Conv2D)             (None, 4, 4, 384)    442368      ['activation_90[0][0]']          \n",
      "                                                                                                  \n",
      " average_pooling2d_8 (AveragePo  (None, 4, 4, 2048)  0           ['mixed9[0][0]']                 \n",
      " oling2D)                                                                                         \n",
      "                                                                                                  \n",
      " conv2d_85 (Conv2D)             (None, 4, 4, 320)    655360      ['mixed9[0][0]']                 \n",
      "                                                                                                  \n",
      " batch_normalization_87 (BatchN  (None, 4, 4, 384)   1152        ['conv2d_87[0][0]']              \n",
      " ormalization)                                                                                    \n",
      "                                                                                                  \n",
      " batch_normalization_88 (BatchN  (None, 4, 4, 384)   1152        ['conv2d_88[0][0]']              \n",
      " ormalization)                                                                                    \n",
      "                                                                                                  \n",
      " batch_normalization_91 (BatchN  (None, 4, 4, 384)   1152        ['conv2d_91[0][0]']              \n",
      " ormalization)                                                                                    \n",
      "                                                                                                  \n",
      " batch_normalization_92 (BatchN  (None, 4, 4, 384)   1152        ['conv2d_92[0][0]']              \n",
      " ormalization)                                                                                    \n",
      "                                                                                                  \n",
      " conv2d_93 (Conv2D)             (None, 4, 4, 192)    393216      ['average_pooling2d_8[0][0]']    \n",
      "                                                                                                  \n",
      " batch_normalization_85 (BatchN  (None, 4, 4, 320)   960         ['conv2d_85[0][0]']              \n",
      " ormalization)                                                                                    \n",
      "                                                                                                  \n",
      " activation_87 (Activation)     (None, 4, 4, 384)    0           ['batch_normalization_87[0][0]'] \n",
      "                                                                                                  \n",
      " activation_88 (Activation)     (None, 4, 4, 384)    0           ['batch_normalization_88[0][0]'] \n",
      "                                                                                                  \n",
      " activation_91 (Activation)     (None, 4, 4, 384)    0           ['batch_normalization_91[0][0]'] \n",
      "                                                                                                  \n",
      " activation_92 (Activation)     (None, 4, 4, 384)    0           ['batch_normalization_92[0][0]'] \n",
      "                                                                                                  \n",
      " batch_normalization_93 (BatchN  (None, 4, 4, 192)   576         ['conv2d_93[0][0]']              \n",
      " ormalization)                                                                                    \n",
      "                                                                                                  \n",
      " activation_85 (Activation)     (None, 4, 4, 320)    0           ['batch_normalization_85[0][0]'] \n",
      "                                                                                                  \n",
      " mixed9_1 (Concatenate)         (None, 4, 4, 768)    0           ['activation_87[0][0]',          \n",
      "                                                                  'activation_88[0][0]']          \n",
      "                                                                                                  \n",
      " concatenate_1 (Concatenate)    (None, 4, 4, 768)    0           ['activation_91[0][0]',          \n",
      "                                                                  'activation_92[0][0]']          \n",
      "                                                                                                  \n",
      " activation_93 (Activation)     (None, 4, 4, 192)    0           ['batch_normalization_93[0][0]'] \n",
      "                                                                                                  \n",
      " mixed10 (Concatenate)          (None, 4, 4, 2048)   0           ['activation_85[0][0]',          \n",
      "                                                                  'mixed9_1[0][0]',               \n",
      "                                                                  'concatenate_1[0][0]',          \n",
      "                                                                  'activation_93[0][0]']          \n",
      "                                                                                                  \n",
      "==================================================================================================\n",
      "Total params: 21,802,784\n",
      "Trainable params: 0\n",
      "Non-trainable params: 21,802,784\n",
      "__________________________________________________________________________________________________\n"
     ]
    }
   ],
   "source": [
    "base_inception_model.summary()"
   ]
  },
  {
   "cell_type": "markdown",
   "metadata": {
    "id": "IwS9BE33KvZd"
   },
   "source": [
    "#### Custom Inception v3 model"
   ]
  },
  {
   "cell_type": "markdown",
   "metadata": {
    "id": "D4KYA1NWeTod"
   },
   "source": [
    "_Next, let's build our custom architecture on top of the base model._"
   ]
  },
  {
   "cell_type": "markdown",
   "metadata": {
    "id": "IwS9BE33KvZd"
   },
   "source": [
    "_We will be using the `base model's` input shape, which we have previously specified, to fit our images._\n",
    "\n",
    "_As a final output we will be using a `Dense` layer with output shape of `4` as we have `4` classes between which we need to classify, with an `activation` of `softmax`._"
   ]
  },
  {
   "cell_type": "code",
   "execution_count": null,
   "metadata": {
    "colab": {
     "base_uri": "https://localhost:8080/"
    },
    "executionInfo": {
     "elapsed": 1839,
     "status": "ok",
     "timestamp": 1644613088532,
     "user": {
      "displayName": "Atanas Kuzmanov",
      "photoUrl": "https://lh3.googleusercontent.com/a-/AOh14GjkQ5zRgLa90vqKiGMiIgsyj9hf9t6u5qTGDXfKnWE=s64",
      "userId": "16147571627289237693"
     },
     "user_tz": -120
    },
    "id": "7aISdGhPLhNJ",
    "outputId": "01404a16-a007-48d0-eed9-35aea3d717f3"
   },
   "outputs": [
    {
     "name": "stdout",
     "output_type": "stream",
     "text": [
      "Model: \"inception_cnn_model\"\n",
      "_________________________________________________________________\n",
      " Layer (type)                Output Shape              Param #   \n",
      "=================================================================\n",
      " inception_v3 (Functional)   (None, 4, 4, 2048)        21802784  \n",
      "                                                                 \n",
      " dropout_71 (Dropout)        (None, 4, 4, 2048)        0         \n",
      "                                                                 \n",
      " global_average_pooling2d_13  (None, 2048)             0         \n",
      "  (GlobalAveragePooling2D)                                       \n",
      "                                                                 \n",
      " flatten_16 (Flatten)        (None, 2048)              0         \n",
      "                                                                 \n",
      " batch_normalization_154 (Ba  (None, 2048)             8192      \n",
      " tchNormalization)                                               \n",
      "                                                                 \n",
      " dense_62 (Dense)            (None, 512)               1049088   \n",
      "                                                                 \n",
      " batch_normalization_155 (Ba  (None, 512)              2048      \n",
      " tchNormalization)                                               \n",
      "                                                                 \n",
      " dropout_72 (Dropout)        (None, 512)               0         \n",
      "                                                                 \n",
      " dense_63 (Dense)            (None, 256)               131328    \n",
      "                                                                 \n",
      " batch_normalization_156 (Ba  (None, 256)              1024      \n",
      " tchNormalization)                                               \n",
      "                                                                 \n",
      " dropout_73 (Dropout)        (None, 256)               0         \n",
      "                                                                 \n",
      " dense_64 (Dense)            (None, 128)               32896     \n",
      "                                                                 \n",
      " batch_normalization_157 (Ba  (None, 128)              512       \n",
      " tchNormalization)                                               \n",
      "                                                                 \n",
      " dropout_74 (Dropout)        (None, 128)               0         \n",
      "                                                                 \n",
      " dense_65 (Dense)            (None, 64)                8256      \n",
      "                                                                 \n",
      " dropout_75 (Dropout)        (None, 64)                0         \n",
      "                                                                 \n",
      " batch_normalization_158 (Ba  (None, 64)               256       \n",
      " tchNormalization)                                               \n",
      "                                                                 \n",
      " dense_66 (Dense)            (None, 4)                 260       \n",
      "                                                                 \n",
      "=================================================================\n",
      "Total params: 23,036,644\n",
      "Trainable params: 1,227,844\n",
      "Non-trainable params: 21,808,800\n",
      "_________________________________________________________________\n"
     ]
    }
   ],
   "source": [
    "### custom_inception_model with global_average_layer\n",
    "\n",
    "custom_inception_model = Sequential([\n",
    "        base_inception_model,\n",
    "        Dropout(0.5),\n",
    "        GlobalAveragePooling2D(),\n",
    "        Flatten(),\n",
    "        BatchNormalization(),\n",
    "        Dense(512, activation='relu'),\n",
    "        BatchNormalization(),\n",
    "        Dropout(0.5),\n",
    "        Dense(256, activation='relu'),\n",
    "        BatchNormalization(),\n",
    "        Dropout(0.5),\n",
    "        Dense(128, activation='relu'),\n",
    "        BatchNormalization(),\n",
    "        Dropout(0.5),\n",
    "        Dense(64, activation='relu'),\n",
    "        Dropout(0.5),\n",
    "        BatchNormalization(),\n",
    "        Dense(4, activation='softmax')        \n",
    "    ], name = \"inception_cnn_model\")"
   ]
  },
  {
   "cell_type": "markdown",
   "metadata": {
    "id": "Lu-HqMGprJ1l"
   },
   "source": [
    "_Let's check the base model's architecture._"
   ]
  },
  {
   "cell_type": "code",
   "execution_count": null,
   "metadata": {
    "colab": {
     "base_uri": "https://localhost:8080/"
    },
    "executionInfo": {
     "elapsed": 21,
     "status": "ok",
     "timestamp": 1644594976299,
     "user": {
      "displayName": "Atanas Kuzmanov",
      "photoUrl": "https://lh3.googleusercontent.com/a-/AOh14GjkQ5zRgLa90vqKiGMiIgsyj9hf9t6u5qTGDXfKnWE=s64",
      "userId": "16147571627289237693"
     },
     "user_tz": -120
    },
    "id": "uF-kETrbDpXc",
    "outputId": "e606a830-984d-4285-8c08-2e4c6857d663"
   },
   "outputs": [],
   "source": [
    "custom_inception_model.summary()"
   ]
  },
  {
   "cell_type": "markdown",
   "metadata": {
    "id": "fDsjxwJwLQqW"
   },
   "source": [
    "#### Defining our callbacks"
   ]
  },
  {
   "cell_type": "markdown",
   "metadata": {
    "id": "FG5ZNuoNE1JG"
   },
   "source": [
    "_Ideally we would be defining a custom callback function to stop training our model when accuracy goes above 99%, however due to the aforementioned difficulties and lack of power on my personal machine and on Google Colab, we would lower all of our metrics and hyperparameters._"
   ]
  },
  {
   "cell_type": "code",
   "execution_count": null,
   "metadata": {
    "id": "5bhgB_uLtjKi"
   },
   "outputs": [],
   "source": [
    "# Defining a custom callback function to stop training our model when accuracy goes above a certain level.\n",
    "# Ideally we would be defining a custom callback function to stop training our model when accuracy goes above 99%,\n",
    "# but because we are doing this as a project with not a lot of computing power,\n",
    "# let set it for when accuracy goes above 65%:\n",
    "\n",
    "class MyCallback(tf.keras.callbacks.Callback):\n",
    "    def on_epoch_end(self, epoch, logs={}):\n",
    "        if logs.get('acc') > 0.65:\n",
    "            print(\"\\nReached accuracy threshold! Terminating training.\")\n",
    "            self.model.stop_training = True\n",
    "            \n",
    "my_callback = MyCallback()"
   ]
  },
  {
   "cell_type": "code",
   "execution_count": null,
   "metadata": {
    "id": "Qgw1va3dFEdE"
   },
   "outputs": [],
   "source": [
    "# Using ReduceLROnPlateau to stabilize the training process of the model\n",
    "rop_callback = ReduceLROnPlateau(monitor=\"val_loss\", patience=3)"
   ]
  },
  {
   "cell_type": "code",
   "execution_count": null,
   "metadata": {
    "id": "zbUh2VRLtjKn"
   },
   "outputs": [],
   "source": [
    "checkpoint_cb = tf.keras.callbacks.ModelCheckpoint(root_dir+\"models/model-inceptionv3-1/alzheimer_model-inceptionv3-1.h5\",\n",
    "                                                    save_best_only=True, \n",
    "                                                   monitor=\"val_loss\", \n",
    "                                                   mode='min')\n",
    "\n",
    "early_stopping_cb = tf.keras.callbacks.EarlyStopping(patience=10,\n",
    "                                                     restore_best_weights=True, \n",
    "                                                     monitor=\"val_loss\", \n",
    "                                                     mode='min')"
   ]
  },
  {
   "cell_type": "code",
   "execution_count": null,
   "metadata": {
    "id": "_B6aiIoOtjKo",
    "scrolled": false
   },
   "outputs": [],
   "source": [
    "METRICS = [tf.keras.metrics.CategoricalAccuracy(name='acc'),\n",
    "           tf.keras.metrics.AUC(name='auc'),\n",
    "           tfa.metrics.F1Score(num_classes=4)]"
   ]
  },
  {
   "cell_type": "code",
   "execution_count": null,
   "metadata": {
    "id": "9ztiNbntT0j3"
   },
   "outputs": [],
   "source": [
    "CALLBACKS = [checkpoint_cb, early_stopping_cb, my_callback, rop_callback]"
   ]
  },
  {
   "cell_type": "markdown",
   "metadata": {
    "id": "IwS9BE33KvZd"
   },
   "source": [
    "#### Compiling our custom model"
   ]
  },
  {
   "cell_type": "markdown",
   "metadata": {
    "id": "4Q1TU30fT0hC"
   },
   "source": [
    "_It's time to compile our custom model._"
   ]
  },
  {
   "cell_type": "code",
   "execution_count": null,
   "metadata": {
    "colab": {
     "base_uri": "https://localhost:8080/"
    },
    "executionInfo": {
     "elapsed": 610,
     "status": "ok",
     "timestamp": 1644613182540,
     "user": {
      "displayName": "Atanas Kuzmanov",
      "photoUrl": "https://lh3.googleusercontent.com/a-/AOh14GjkQ5zRgLa90vqKiGMiIgsyj9hf9t6u5qTGDXfKnWE=s64",
      "userId": "16147571627289237693"
     },
     "user_tz": -120
    },
    "id": "zq8b6TjJtjKp",
    "outputId": "664945d5-ce56-4f22-d1ef-ae497b4863c7"
   },
   "outputs": [
    {
     "name": "stdout",
     "output_type": "stream",
     "text": [
      "Model: \"inception_cnn_model\"\n",
      "_________________________________________________________________\n",
      " Layer (type)                Output Shape              Param #   \n",
      "=================================================================\n",
      " inception_v3 (Functional)   (None, 4, 4, 2048)        21802784  \n",
      "                                                                 \n",
      " dropout_71 (Dropout)        (None, 4, 4, 2048)        0         \n",
      "                                                                 \n",
      " global_average_pooling2d_13  (None, 2048)             0         \n",
      "  (GlobalAveragePooling2D)                                       \n",
      "                                                                 \n",
      " flatten_16 (Flatten)        (None, 2048)              0         \n",
      "                                                                 \n",
      " batch_normalization_154 (Ba  (None, 2048)             8192      \n",
      " tchNormalization)                                               \n",
      "                                                                 \n",
      " dense_62 (Dense)            (None, 512)               1049088   \n",
      "                                                                 \n",
      " batch_normalization_155 (Ba  (None, 512)              2048      \n",
      " tchNormalization)                                               \n",
      "                                                                 \n",
      " dropout_72 (Dropout)        (None, 512)               0         \n",
      "                                                                 \n",
      " dense_63 (Dense)            (None, 256)               131328    \n",
      "                                                                 \n",
      " batch_normalization_156 (Ba  (None, 256)              1024      \n",
      " tchNormalization)                                               \n",
      "                                                                 \n",
      " dropout_73 (Dropout)        (None, 256)               0         \n",
      "                                                                 \n",
      " dense_64 (Dense)            (None, 128)               32896     \n",
      "                                                                 \n",
      " batch_normalization_157 (Ba  (None, 128)              512       \n",
      " tchNormalization)                                               \n",
      "                                                                 \n",
      " dropout_74 (Dropout)        (None, 128)               0         \n",
      "                                                                 \n",
      " dense_65 (Dense)            (None, 64)                8256      \n",
      "                                                                 \n",
      " dropout_75 (Dropout)        (None, 64)                0         \n",
      "                                                                 \n",
      " batch_normalization_158 (Ba  (None, 64)               256       \n",
      " tchNormalization)                                               \n",
      "                                                                 \n",
      " dense_66 (Dense)            (None, 4)                 260       \n",
      "                                                                 \n",
      "=================================================================\n",
      "Total params: 23,036,644\n",
      "Trainable params: 1,227,844\n",
      "Non-trainable params: 21,808,800\n",
      "_________________________________________________________________\n"
     ]
    }
   ],
   "source": [
    "custom_inception_model.compile(optimizer='rmsprop',\n",
    "                               loss=tf.losses.CategoricalCrossentropy(),\n",
    "                               metrics=METRICS)"
   ]
  },
  {
   "cell_type": "markdown",
   "metadata": {
    "id": "pg7Lhg5rFTrF"
   },
   "source": [
    "_Let's check our compiled custom models' architecture._"
   ]
  },
  {
   "cell_type": "code",
   "execution_count": null,
   "metadata": {
    "id": "t8idxslZAphn"
   },
   "outputs": [],
   "source": [
    "custom_inception_model.summary()"
   ]
  },
  {
   "cell_type": "markdown",
   "metadata": {},
   "source": [
    "#### Fitting our model."
   ]
  },
  {
   "cell_type": "markdown",
   "metadata": {
    "id": "MuPT2DUFtjKp"
   },
   "source": [
    "_It's time to fit our model with the training data and validate it using the validation data._"
   ]
  },
  {
   "cell_type": "code",
   "execution_count": null,
   "metadata": {
    "colab": {
     "base_uri": "https://localhost:8080/"
    },
    "executionInfo": {
     "elapsed": 1222393,
     "status": "ok",
     "timestamp": 1644598441784,
     "user": {
      "displayName": "Atanas Kuzmanov",
      "photoUrl": "https://lh3.googleusercontent.com/a-/AOh14GjkQ5zRgLa90vqKiGMiIgsyj9hf9t6u5qTGDXfKnWE=s64",
      "userId": "16147571627289237693"
     },
     "user_tz": -120
    },
    "id": "xOM4DZYNVcS_",
    "outputId": "c2b164c3-007c-4b2b-85d5-af2fe85ef485"
   },
   "outputs": [
    {
     "name": "stdout",
     "output_type": "stream",
     "text": [
      "Epoch 1/8\n",
      "5/5 [==============================] - 454s 19s/step - loss: 1.7664 - acc: 0.2812 - auc: 0.5267 - f1_score: 0.2406 - val_loss: 2.5713 - val_acc: 0.0109 - val_auc: 0.4253 - val_f1_score: 0.0054 - lr: 0.0010\n",
      "Epoch 2/8\n",
      "5/5 [==============================] - 120s 28s/step - loss: 1.8319 - acc: 0.2313 - auc: 0.5045 - f1_score: 0.1782 - val_loss: 2.3674 - val_acc: 0.0141 - val_auc: 0.4309 - val_f1_score: 0.0069 - lr: 0.0010\n",
      "Epoch 3/8\n",
      "5/5 [==============================] - 84s 19s/step - loss: 1.8396 - acc: 0.2500 - auc: 0.5065 - f1_score: 0.2167 - val_loss: 2.1105 - val_acc: 0.0094 - val_auc: 0.4392 - val_f1_score: 0.0062 - lr: 0.0010\n",
      "Epoch 4/8\n",
      "5/5 [==============================] - 84s 19s/step - loss: 1.5939 - acc: 0.2937 - auc: 0.5740 - f1_score: 0.2350 - val_loss: 1.9517 - val_acc: 0.0125 - val_auc: 0.4195 - val_f1_score: 0.0129 - lr: 0.0010\n",
      "Epoch 5/8\n",
      "5/5 [==============================] - 84s 19s/step - loss: 1.6259 - acc: 0.3375 - auc: 0.5825 - f1_score: 0.2565 - val_loss: 1.9015 - val_acc: 0.0281 - val_auc: 0.4367 - val_f1_score: 0.0394 - lr: 0.0010\n",
      "Epoch 6/8\n",
      "5/5 [==============================] - 84s 19s/step - loss: 1.7145 - acc: 0.3125 - auc: 0.5648 - f1_score: 0.2423 - val_loss: 1.7237 - val_acc: 0.0531 - val_auc: 0.4239 - val_f1_score: 0.0693 - lr: 0.0010\n",
      "Epoch 7/8\n",
      "5/5 [==============================] - 120s 28s/step - loss: 1.5848 - acc: 0.3438 - auc: 0.5805 - f1_score: 0.2471 - val_loss: 1.4811 - val_acc: 0.2109 - val_auc: 0.5055 - val_f1_score: 0.1907 - lr: 0.0010\n",
      "Epoch 8/8\n",
      "5/5 [==============================] - 132s 31s/step - loss: 1.5800 - acc: 0.3438 - auc: 0.5939 - f1_score: 0.2512 - val_loss: 1.3880 - val_acc: 0.3281 - val_auc: 0.5781 - val_f1_score: 0.2158 - lr: 0.0010\n"
     ]
    }
   ],
   "source": [
    "#Fit the training data to the model and validate it using the validation data\n",
    "\n",
    "# history_inception_2022_02_08_1627 = custom_inception_model.fit(new_train_ds,\n",
    "#                                      validation_data=new_val_ds, \n",
    "#                                      callbacks=CALLBACKS, \n",
    "#                                      epochs=8,\n",
    "#                                      steps_per_epoch=STEPS_PER_EPOCH)"
   ]
  },
  {
   "cell_type": "code",
   "execution_count": null,
   "metadata": {
    "colab": {
     "base_uri": "https://localhost:8080/"
    },
    "executionInfo": {
     "elapsed": 4882497,
     "status": "ok",
     "timestamp": 1644610737831,
     "user": {
      "displayName": "Atanas Kuzmanov",
      "photoUrl": "https://lh3.googleusercontent.com/a-/AOh14GjkQ5zRgLa90vqKiGMiIgsyj9hf9t6u5qTGDXfKnWE=s64",
      "userId": "16147571627289237693"
     },
     "user_tz": -120
    },
    "id": "qp2V5uOTSgXb",
    "outputId": "4911cb66-2538-432a-9c9e-335601eeccf0"
   },
   "outputs": [
    {
     "name": "stdout",
     "output_type": "stream",
     "text": [
      "Epoch 1/4\n",
      "128/128 [==============================] - 1340s 10s/step - loss: 0.9441 - acc: 0.5581 - auc: 0.8337 - f1_score: 0.3318 - val_loss: 0.8466 - val_acc: 0.6020 - val_auc: 0.8671 - val_f1_score: 0.3673 - lr: 0.0010\n",
      "Epoch 2/4\n",
      "128/128 [==============================] - 1165s 9s/step - loss: 0.9152 - acc: 0.5662 - auc: 0.8419 - f1_score: 0.3427 - val_loss: 0.8540 - val_acc: 0.5961 - val_auc: 0.8643 - val_f1_score: 0.3957 - lr: 0.0010\n",
      "Epoch 3/4\n",
      "128/128 [==============================] - 1185s 9s/step - loss: 0.8962 - acc: 0.5823 - auc: 0.8498 - f1_score: 0.3552 - val_loss: 0.8124 - val_acc: 0.6195 - val_auc: 0.8797 - val_f1_score: 0.3639 - lr: 0.0010\n",
      "Epoch 4/4\n",
      "128/128 [==============================] - 1170s 9s/step - loss: 0.8582 - acc: 0.6077 - auc: 0.8650 - f1_score: 0.3638 - val_loss: 0.7606 - val_acc: 0.6559 - val_auc: 0.8992 - val_f1_score: 0.3842 - lr: 0.0010\n"
     ]
    }
   ],
   "source": [
    "### Keep for now:\n",
    "\n",
    "#Fit the training data to the model and validate it using the validation data\n",
    "\n",
    "# history_inception_2022_02_08_1627 = custom_inception_model.fit(new_train_ds,\n",
    "#                                      validation_data=new_val_ds, \n",
    "#                                      callbacks=CALLBACKS, \n",
    "#                                      epochs=4,\n",
    "#                                      steps_per_epoch=128)"
   ]
  },
  {
   "cell_type": "code",
   "execution_count": null,
   "metadata": {
    "colab": {
     "base_uri": "https://localhost:8080/"
    },
    "executionInfo": {
     "elapsed": 2506,
     "status": "ok",
     "timestamp": 1644610967731,
     "user": {
      "displayName": "Atanas Kuzmanov",
      "photoUrl": "https://lh3.googleusercontent.com/a-/AOh14GjkQ5zRgLa90vqKiGMiIgsyj9hf9t6u5qTGDXfKnWE=s64",
      "userId": "16147571627289237693"
     },
     "user_tz": -120
    },
    "id": "VbqKsPnHSv-n",
    "outputId": "d8a79ab9-8664-48e3-a8d0-06ef4bd746eb"
   },
   "outputs": [
    {
     "data": {
      "text/plain": [
       "['VeryMildDemented', 'NonDemented', 'ModerateDemented', 'MildDemented']"
      ]
     },
     "execution_count": 128,
     "metadata": {},
     "output_type": "execute_result"
    }
   ],
   "source": [
    "#Saving the model for future use\n",
    "\n",
    "# custom_inception_model_dir = root_dir + \"alzheimer_inception_cnn_model_2022_02_08_1627\"\n",
    "# custom_inception_model.save(custom_inception_model_dir, save_format='h5')\n",
    "# os.listdir(work_dir)"
   ]
  },
  {
   "cell_type": "code",
   "execution_count": null,
   "metadata": {
    "colab": {
     "base_uri": "https://localhost:8080/"
    },
    "executionInfo": {
     "elapsed": 6530916,
     "status": "ok",
     "timestamp": 1644619718604,
     "user": {
      "displayName": "Atanas Kuzmanov",
      "photoUrl": "https://lh3.googleusercontent.com/a-/AOh14GjkQ5zRgLa90vqKiGMiIgsyj9hf9t6u5qTGDXfKnWE=s64",
      "userId": "16147571627289237693"
     },
     "user_tz": -120
    },
    "id": "LP-TQZDW_IUo",
    "outputId": "47258d73-bb9e-45d9-ac97-74ce549ffc5e"
   },
   "outputs": [
    {
     "name": "stdout",
     "output_type": "stream",
     "text": [
      "Epoch 1/8\n",
      "128/128 [==============================] - 1236s 10s/step - loss: 12.4290 - acc: 0.4480 - auc: 0.7044 - f1_score: 0.3002 - val_loss: 1.5204 - val_acc: 0.4223 - val_auc: 0.6221 - val_f1_score: 0.2407 - lr: 0.0010\n",
      "Epoch 2/8\n",
      "128/128 [==============================] - 1444s 11s/step - loss: 6.5061 - acc: 0.3726 - auc: 0.6178 - f1_score: 0.1981 - val_loss: 1.7757 - val_acc: 0.4500 - val_auc: 0.6741 - val_f1_score: 0.2277 - lr: 0.0010\n",
      "Epoch 3/8\n",
      "128/128 [==============================] - 1249s 10s/step - loss: 4.2456 - acc: 0.3906 - auc: 0.6734 - f1_score: 0.1908 - val_loss: 1.8201 - val_acc: 0.4453 - val_auc: 0.7543 - val_f1_score: 0.2230 - lr: 0.0010\n",
      "Epoch 4/8\n",
      "128/128 [==============================] - 1210s 9s/step - loss: 3.7205 - acc: 0.4124 - auc: 0.7244 - f1_score: 0.1944 - val_loss: 1.8180 - val_acc: 0.4445 - val_auc: 0.7809 - val_f1_score: 0.2272 - lr: 0.0010\n",
      "Epoch 5/8\n",
      "128/128 [==============================] - 1192s 9s/step - loss: 3.6076 - acc: 0.4094 - auc: 0.7341 - f1_score: 0.1919 - val_loss: 1.8304 - val_acc: 0.4402 - val_auc: 0.7816 - val_f1_score: 0.2111 - lr: 1.0000e-04\n",
      "Epoch 6/8\n",
      "WARNING:tensorflow:Your input ran out of data; interrupting training. Make sure that your dataset or generator can generate at least `steps_per_epoch * epochs` batches (in this case, 1024 batches). You may need to use the repeat() function when building your dataset.\n",
      "128/128 [==============================] - 199s 2s/step - loss: 3.6076 - acc: 0.4094 - auc: 0.7341 - f1_score: 0.1919 - val_loss: 1.9290 - val_acc: 0.4258 - val_auc: 0.7696 - val_f1_score: 0.2051 - lr: 1.0000e-04\n"
     ]
    }
   ],
   "source": [
    "### Keep for now:\n",
    "\n",
    "#Fit the training data to the model and validate it using the validation data\n",
    "\n",
    "history_inception_2022_02_08_1627_2 = custom_inception_model.fit(new_train_ds,\n",
    "                                     validation_data=new_val_ds, \n",
    "                                     callbacks=CALLBACKS, \n",
    "                                     epochs=8,\n",
    "                                     steps_per_epoch=128,\n",
    "                                     class_weight={\n",
    "                                      0: class_weights[0],\n",
    "                                      1: class_weights[1],\n",
    "                                      2: class_weights[2],\n",
    "                                      3: class_weights[3]\n",
    "                                  })"
   ]
  },
  {
   "cell_type": "markdown",
   "metadata": {
    "id": "Vq6MzfD0EoxN"
   },
   "source": [
    "_Saving the model for future use._"
   ]
  },
  {
   "cell_type": "code",
   "execution_count": null,
   "metadata": {
    "colab": {
     "base_uri": "https://localhost:8080/"
    },
    "executionInfo": {
     "elapsed": 884,
     "status": "ok",
     "timestamp": 1644619719475,
     "user": {
      "displayName": "Atanas Kuzmanov",
      "photoUrl": "https://lh3.googleusercontent.com/a-/AOh14GjkQ5zRgLa90vqKiGMiIgsyj9hf9t6u5qTGDXfKnWE=s64",
      "userId": "16147571627289237693"
     },
     "user_tz": -120
    },
    "id": "YmuBYVx8c41N",
    "outputId": "c129776b-fcbc-45da-f32c-f4d32e69086b"
   },
   "outputs": [
    {
     "data": {
      "text/plain": [
       "['VeryMildDemented', 'NonDemented', 'ModerateDemented', 'MildDemented']"
      ]
     },
     "execution_count": 169,
     "metadata": {},
     "output_type": "execute_result"
    }
   ],
   "source": [
    "# Saving the model for future use\n",
    "\n",
    "custom_inception_model_dir = root_dir + \"alzheimer_inception_cnn_model_2022_02_08_1627_2\"\n",
    "custom_inception_model.save(custom_inception_model_dir, save_format='h5')\n",
    "os.listdir(work_dir)"
   ]
  },
  {
   "cell_type": "code",
   "execution_count": null,
   "metadata": {
    "colab": {
     "base_uri": "https://localhost:8080/",
     "height": 334
    },
    "executionInfo": {
     "elapsed": 886,
     "status": "ok",
     "timestamp": 1644619720357,
     "user": {
      "displayName": "Atanas Kuzmanov",
      "photoUrl": "https://lh3.googleusercontent.com/a-/AOh14GjkQ5zRgLa90vqKiGMiIgsyj9hf9t6u5qTGDXfKnWE=s64",
      "userId": "16147571627289237693"
     },
     "user_tz": -120
    },
    "id": "-rQh-WOVSxJA",
    "outputId": "d90a81d3-1720-462a-f737-aa5cd5ff26c6"
   },
   "outputs": [
    {
     "data": {
      "image/png": "[encoded data removed]",
      "text/plain": [
       "<Figure size 2160x360 with 3 Axes>"
      ]
     },
     "metadata": {
      "needs_background": "light"
     },
     "output_type": "display_data"
    }
   ],
   "source": [
    "# Plotting the trend of the metrics during training\n",
    "\n",
    "def plot_history_metrics(history_to_plot):\n",
    "    fig, ax = plt.subplots(1, 3, figsize = (30, 5))\n",
    "    ax = ax.ravel()\n",
    "\n",
    "    for i, metric in enumerate([\"acc\", \"auc\", \"loss\"]):\n",
    "        ax[i].plot(history_to_plot.history[metric])\n",
    "        ax[i].plot(history_to_plot.history[\"val_\" + metric])\n",
    "        ax[i].set_title(\"Model {}\".format(metric))\n",
    "        ax[i].set_xlabel(\"Epochs\")\n",
    "        ax[i].set_ylabel(metric)\n",
    "        ax[i].legend([\"train\", \"val\"])"
   ]
  },
  {
   "cell_type": "code",
   "execution_count": null,
   "metadata": {},
   "outputs": [],
   "source": [
    "plot_history_metrics(history_inception_2022_02_08_1627)"
   ]
  },
  {
   "cell_type": "code",
   "execution_count": null,
   "metadata": {
    "colab": {
     "base_uri": "https://localhost:8080/",
     "height": 334
    },
    "executionInfo": {
     "elapsed": 886,
     "status": "ok",
     "timestamp": 1644619720357,
     "user": {
      "displayName": "Atanas Kuzmanov",
      "photoUrl": "https://lh3.googleusercontent.com/a-/AOh14GjkQ5zRgLa90vqKiGMiIgsyj9hf9t6u5qTGDXfKnWE=s64",
      "userId": "16147571627289237693"
     },
     "user_tz": -120
    },
    "id": "-rQh-WOVSxJA",
    "outputId": "d90a81d3-1720-462a-f737-aa5cd5ff26c6"
   },
   "outputs": [
    {
     "data": {
      "image/png": "[encoded data removed]",
      "text/plain": [
       "<Figure size 2160x360 with 3 Axes>"
      ]
     },
     "metadata": {
      "needs_background": "light"
     },
     "output_type": "display_data"
    }
   ],
   "source": [
    "# Plotting the trend of the metrics during training\n",
    "\n",
    "fig, ax = plt.subplots(1, 3, figsize = (30, 5))\n",
    "ax = ax.ravel()\n",
    "\n",
    "for i, metric in enumerate([\"acc\", \"auc\", \"loss\"]):\n",
    "    ax[i].plot(history_inception_2022_02_08_1627.history[metric])\n",
    "    ax[i].plot(history_inception_2022_02_08_1627.history[\"val_\" + metric])\n",
    "    ax[i].set_title(\"Model {}\".format(metric))\n",
    "    ax[i].set_xlabel(\"Epochs\")\n",
    "    ax[i].set_ylabel(metric)\n",
    "    ax[i].legend([\"train\", \"val\"])"
   ]
  },
  {
   "cell_type": "code",
   "execution_count": null,
   "metadata": {
    "colab": {
     "base_uri": "https://localhost:8080/"
    },
    "executionInfo": {
     "elapsed": 6022299,
     "status": "ok",
     "timestamp": 1644625743727,
     "user": {
      "displayName": "Atanas Kuzmanov",
      "photoUrl": "https://lh3.googleusercontent.com/a-/AOh14GjkQ5zRgLa90vqKiGMiIgsyj9hf9t6u5qTGDXfKnWE=s64",
      "userId": "16147571627289237693"
     },
     "user_tz": -120
    },
    "id": "5cNnQ-nSSwVy",
    "outputId": "f7399d47-4e10-4b45-f43d-8d892e574488"
   },
   "outputs": [
    {
     "name": "stdout",
     "output_type": "stream",
     "text": [
      "Epoch 1/8\n",
      "128/128 [==============================] - 1185s 9s/step - loss: 1.9081 - acc: 0.4055 - auc: 0.7410 - f1_score: 0.1929 - val_loss: 1.6815 - val_acc: 0.4219 - val_auc: 0.7802 - val_f1_score: 0.2021 - lr: 1.0000e-04\n",
      "Epoch 2/8\n",
      "128/128 [==============================] - 1142s 9s/step - loss: 1.6019 - acc: 0.4343 - auc: 0.7584 - f1_score: 0.2120 - val_loss: 1.3944 - val_acc: 0.4551 - val_auc: 0.7941 - val_f1_score: 0.2223 - lr: 1.0000e-04\n",
      "Epoch 3/8\n",
      "128/128 [==============================] - 1140s 9s/step - loss: 1.4135 - acc: 0.4321 - auc: 0.7650 - f1_score: 0.2198 - val_loss: 1.2304 - val_acc: 0.4598 - val_auc: 0.7983 - val_f1_score: 0.2345 - lr: 1.0000e-04\n",
      "Epoch 4/8\n",
      "128/128 [==============================] - 1152s 9s/step - loss: 1.2557 - acc: 0.4680 - auc: 0.7791 - f1_score: 0.2510 - val_loss: 1.1197 - val_acc: 0.4742 - val_auc: 0.8052 - val_f1_score: 0.2488 - lr: 1.0000e-04\n",
      "Epoch 5/8\n",
      "128/128 [==============================] - 1155s 9s/step - loss: 1.1245 - acc: 0.5002 - auc: 0.7998 - f1_score: 0.2726 - val_loss: 0.9991 - val_acc: 0.5125 - val_auc: 0.8253 - val_f1_score: 0.2732 - lr: 1.0000e-04\n",
      "Epoch 6/8\n",
      "WARNING:tensorflow:Your input ran out of data; interrupting training. Make sure that your dataset or generator can generate at least `steps_per_epoch * epochs` batches (in this case, 1024 batches). You may need to use the repeat() function when building your dataset.\n",
      "128/128 [==============================] - 202s 2s/step - loss: 1.1245 - acc: 0.5002 - auc: 0.7998 - f1_score: 0.2726 - val_loss: 1.0034 - val_acc: 0.5094 - val_auc: 0.8232 - val_f1_score: 0.2739 - lr: 1.0000e-04\n"
     ]
    }
   ],
   "source": [
    "#Fit the training data to the model and validate it using the validation data\n",
    "\n",
    "history_inception_2022_02_08_1627_3 = custom_inception_model.fit(new_train_ds,\n",
    "                                     validation_data=new_val_ds, \n",
    "                                     callbacks=CALLBACKS, \n",
    "                                     epochs=8,\n",
    "                                     steps_per_epoch=128)"
   ]
  },
  {
   "cell_type": "code",
   "execution_count": null,
   "metadata": {
    "colab": {
     "base_uri": "https://localhost:8080/"
    },
    "executionInfo": {
     "elapsed": 596,
     "status": "ok",
     "timestamp": 1644625744309,
     "user": {
      "displayName": "Atanas Kuzmanov",
      "photoUrl": "https://lh3.googleusercontent.com/a-/AOh14GjkQ5zRgLa90vqKiGMiIgsyj9hf9t6u5qTGDXfKnWE=s64",
      "userId": "16147571627289237693"
     },
     "user_tz": -120
    },
    "id": "Vhayrk2DTMB6",
    "outputId": "122bf3c3-4374-4782-beea-03b0ae4b4db8"
   },
   "outputs": [
    {
     "data": {
      "text/plain": [
       "['VeryMildDemented', 'NonDemented', 'ModerateDemented', 'MildDemented']"
      ]
     },
     "execution_count": 172,
     "metadata": {},
     "output_type": "execute_result"
    }
   ],
   "source": [
    "# Saving the model for future use\n",
    "def save_model(model_to_save, dir_name):\n",
    "    model_save_dir = root_dir + dir_name\n",
    "    model_to_save.save(model_save_dir, save_format='h5')\n",
    "    os.listdir(work_dir)"
   ]
  },
  {
   "cell_type": "code",
   "execution_count": null,
   "metadata": {},
   "outputs": [],
   "source": [
    "save_model(custom_inception_model, \"alzheimer_inception_cnn_model_2022_02_08_1627_3\")"
   ]
  },
  {
   "cell_type": "code",
   "execution_count": null,
   "metadata": {
    "colab": {
     "base_uri": "https://localhost:8080/"
    },
    "executionInfo": {
     "elapsed": 596,
     "status": "ok",
     "timestamp": 1644625744309,
     "user": {
      "displayName": "Atanas Kuzmanov",
      "photoUrl": "https://lh3.googleusercontent.com/a-/AOh14GjkQ5zRgLa90vqKiGMiIgsyj9hf9t6u5qTGDXfKnWE=s64",
      "userId": "16147571627289237693"
     },
     "user_tz": -120
    },
    "id": "Vhayrk2DTMB6",
    "outputId": "122bf3c3-4374-4782-beea-03b0ae4b4db8"
   },
   "outputs": [
    {
     "data": {
      "text/plain": [
       "['VeryMildDemented', 'NonDemented', 'ModerateDemented', 'MildDemented']"
      ]
     },
     "execution_count": 172,
     "metadata": {},
     "output_type": "execute_result"
    }
   ],
   "source": [
    "# Saving the model for future use\n",
    "\n",
    "custom_inception_model_dir = root_dir + \"alzheimer_inception_cnn_model_2022_02_08_1627_3\"\n",
    "custom_inception_model.save(custom_inception_model_dir, save_format='h5')\n",
    "os.listdir(work_dir)"
   ]
  },
  {
   "cell_type": "code",
   "execution_count": null,
   "metadata": {
    "id": "d6-mFvm9u79e"
   },
   "outputs": [],
   "source": [
    "#Evaluating the model on the data\n",
    "\n",
    "test_scores = custom_inception_model.evaluate(test_data, test_labels)\n",
    "\n",
    "print(\"Testing Accuracy: %.2f%%\"%(test_scores[1] * 100))\n"
   ]
  },
  {
   "cell_type": "code",
   "execution_count": null,
   "metadata": {
    "id": "TfGQfEO43zab"
   },
   "outputs": [],
   "source": [
    "#Predicting the test data\n",
    "\n",
    "pred_labels = custom_inception_model.predict(test_data)"
   ]
  },
  {
   "cell_type": "code",
   "execution_count": null,
   "metadata": {
    "id": "7xR734NRSgCu"
   },
   "outputs": [],
   "source": [
    "#Print the classification report of the tested data\n",
    "\n",
    "#Since the labels are softmax arrays, we need to roundoff to have it in the form of 0s and 1s,\n",
    "#similar to the test_labels\n",
    "def roundoff(arr):\n",
    "    \"\"\"To round off according to the argmax of each predicted label array. \"\"\"\n",
    "    arr[np.argwhere(arr != arr.max())] = 0\n",
    "    arr[np.argwhere(arr == arr.max())] = 1\n",
    "    return arr\n",
    "\n",
    "for labels in pred_labels:\n",
    "    labels = roundoff(labels)\n",
    "\n",
    "print(classification_report(test_labels, pred_labels, target_names=CLASSES))"
   ]
  },
  {
   "cell_type": "code",
   "execution_count": null,
   "metadata": {
    "id": "Rvi_biHsD0TD"
   },
   "outputs": [],
   "source": [
    "#Plot the confusion matrix to understand the classification in detail\n",
    "\n",
    "pred_ls = np.argmax(pred_labels, axis=1)\n",
    "test_ls = np.argmax(test_labels, axis=1)\n",
    "\n",
    "conf_arr = confusion_matrix(test_ls, pred_ls)\n",
    "\n",
    "plt.figure(figsize=(8, 6), dpi=80, facecolor='w', edgecolor='k')\n",
    "\n",
    "ax = sns.heatmap(conf_arr, cmap='Greens', annot=True, fmt='d', xticklabels= CLASSES,\n",
    "                yticklabels=CLASSES)\n",
    "\n",
    "plt.title('Alzheimer\\'s Disease Diagnosis')\n",
    "plt.xlabel('Prediction')\n",
    "plt.ylabel('Truth')\n",
    "plt.show(ax)\n"
   ]
  },
  {
   "cell_type": "code",
   "execution_count": null,
   "metadata": {
    "id": "EKFjluflXjr5"
   },
   "outputs": [],
   "source": [
    "#Printing some other classification metrics\n",
    "\n",
    "print(\"Balanced Accuracy Score: {} %\".format(round(BAS(test_ls, pred_ls) * 100, 2)))\n",
    "print(\"Matthew's Correlation Coefficient: {} %\".format(round(MCC(test_ls, pred_ls) * 100, 2)))"
   ]
  },
  {
   "cell_type": "code",
   "execution_count": null,
   "metadata": {
    "id": "NENpS-qhcpRa"
   },
   "outputs": [],
   "source": [
    "pretrained_model = tf.keras.models.load_model(custom_inception_model_dir)\n",
    "\n",
    "#Check its architecture\n",
    "plot_model(pretrained_model, to_file=work_dir + \"model_plot.png\", show_shapes=True, show_layer_names=True)"
   ]
  },
  {
   "cell_type": "markdown",
   "metadata": {
    "id": "ykAe7IiaSweO"
   },
   "source": [
    "---"
   ]
  },
  {
   "cell_type": "markdown",
   "metadata": {
    "colab": {
     "base_uri": "https://localhost:8080/"
    },
    "executionInfo": {
     "elapsed": 24,
     "status": "ok",
     "timestamp": 1644594977592,
     "user": {
      "displayName": "Atanas Kuzmanov",
      "photoUrl": "https://lh3.googleusercontent.com/a-/AOh14GjkQ5zRgLa90vqKiGMiIgsyj9hf9t6u5qTGDXfKnWE=s64",
      "userId": "16147571627289237693"
     },
     "user_tz": -120
    },
    "id": "vgCxaFqoecRF",
    "outputId": "95b60000-e27f-4bc3-cf37-4a288d5293d9"
   },
   "source": [
    "## Building our own model"
   ]
  },
  {
   "cell_type": "code",
   "execution_count": null,
   "metadata": {
    "id": "6x_z3exBGGsx"
   },
   "outputs": [],
   "source": []
  },
  {
   "cell_type": "markdown",
   "metadata": {
    "id": "D7xg23QNTV0d"
   },
   "source": [
    "### Deciding a Metric\n",
    "\n",
    "The most conventional metric to use is probably accuracy. Accuracy, however, cannot be used for imbalanced datasets. Let's check how many images are in each class for our training data."
   ]
  },
  {
   "cell_type": "code",
   "execution_count": null,
   "metadata": {
    "colab": {
     "base_uri": "https://localhost:8080/"
    },
    "executionInfo": {
     "elapsed": 23,
     "status": "ok",
     "timestamp": 1644594952799,
     "user": {
      "displayName": "Atanas Kuzmanov",
      "photoUrl": "https://lh3.googleusercontent.com/a-/AOh14GjkQ5zRgLa90vqKiGMiIgsyj9hf9t6u5qTGDXfKnWE=s64",
      "userId": "16147571627289237693"
     },
     "user_tz": -120
    },
    "id": "wfTVfFKCTm-T",
    "outputId": "81d0b7e4-353b-43c6-caea-825d123b1ad7"
   },
   "outputs": [
    {
     "data": {
      "text/plain": [
       "[2560, 1792, 717, 52]"
      ]
     },
     "execution_count": 46,
     "metadata": {},
     "output_type": "execute_result"
    }
   ],
   "source": [
    "NUM_IMAGES_PER_CLASS = []\n",
    "\n",
    "for label in CLASSES:\n",
    "    dir_name = base_dir+\"train/\" + label[:-2] + 'ed'\n",
    "    NUM_IMAGES_PER_CLASS.append(len([name for name in os.listdir(dir_name)]))\n",
    "\n",
    "NUM_IMAGES_PER_CLASS"
   ]
  },
  {
   "cell_type": "markdown",
   "metadata": {
    "id": "GScKKODaTm-U"
   },
   "source": [
    "Our dataset is not balanced, so we cannot use accuracy as our metric. For this tutorial, we will be using ROC AUC. Intuitively, ROC AUC gives a score, with higher scores closer to 1 indicating that the different classes can be distinguishable for the model. A lower score closer indicates that the the model cannot distinguish between different classes. A score of 0.5 indicates that the ordering the images is pretty much random. Learn more about ROC AUC [here](https://developers.google.com/machine-learning/crash-course/classification/roc-and-auc)."
   ]
  },
  {
   "cell_type": "code",
   "execution_count": null,
   "metadata": {
    "id": "6x_z3exBGGsx"
   },
   "outputs": [],
   "source": []
  },
  {
   "cell_type": "code",
   "execution_count": null,
   "metadata": {
    "id": "ULuW_lLvxPg3"
   },
   "outputs": [],
   "source": [
    "def conv_block(filters):\n",
    "    block = tf.keras.Sequential([\n",
    "        tf.keras.layers.SeparableConv2D(filters, 3, activation='relu', padding='same'),\n",
    "        tf.keras.layers.SeparableConv2D(filters, 3, activation='relu', padding='same'),\n",
    "        tf.keras.layers.BatchNormalization(),\n",
    "        tf.keras.layers.MaxPool2D()\n",
    "    ]\n",
    "    )\n",
    "    \n",
    "    return block"
   ]
  },
  {
   "cell_type": "code",
   "execution_count": null,
   "metadata": {
    "id": "Z6N5DZsIy_n9"
   },
   "outputs": [],
   "source": [
    "def dense_block(units, dropout_rate):\n",
    "    block = tf.keras.Sequential([\n",
    "        tf.keras.layers.Dense(units, activation='relu'),\n",
    "        tf.keras.layers.BatchNormalization(),\n",
    "        tf.keras.layers.Dropout(dropout_rate)\n",
    "    ])\n",
    "    \n",
    "    return block"
   ]
  },
  {
   "cell_type": "code",
   "execution_count": null,
   "metadata": {
    "id": "NZUC4EgeK3Je"
   },
   "outputs": [],
   "source": [
    "def build_model():\n",
    "    model = tf.keras.Sequential([\n",
    "        tf.keras.Input(shape=(*IMAGE_SIZE, 3)),\n",
    "        \n",
    "        tf.keras.layers.Conv2D(16, 3, activation='relu', padding='same'),\n",
    "        tf.keras.layers.Conv2D(16, 3, activation='relu', padding='same'),\n",
    "        tf.keras.layers.MaxPool2D(),\n",
    "        \n",
    "        conv_block(32),\n",
    "        conv_block(64),\n",
    "        \n",
    "        conv_block(128),\n",
    "        tf.keras.layers.Dropout(0.2),\n",
    "        \n",
    "        conv_block(256),\n",
    "        tf.keras.layers.Dropout(0.2),\n",
    "        \n",
    "        tf.keras.layers.Flatten(),\n",
    "        dense_block(512, 0.7),\n",
    "        dense_block(128, 0.5),\n",
    "        dense_block(64, 0.3),\n",
    "        \n",
    "        tf.keras.layers.Dense(NUM_CLASSES, activation='softmax')\n",
    "    ])\n",
    "    \n",
    "    return model"
   ]
  },
  {
   "cell_type": "code",
   "execution_count": null,
   "metadata": {
    "colab": {
     "base_uri": "https://localhost:8080/"
    },
    "executionInfo": {
     "elapsed": 24,
     "status": "ok",
     "timestamp": 1644594977593,
     "user": {
      "displayName": "Atanas Kuzmanov",
      "photoUrl": "https://lh3.googleusercontent.com/a-/AOh14GjkQ5zRgLa90vqKiGMiIgsyj9hf9t6u5qTGDXfKnWE=s64",
      "userId": "16147571627289237693"
     },
     "user_tz": -120
    },
    "id": "jmLB7YYW8wyg",
    "outputId": "0e7049fe-cd08-4826-ff3c-5f67abe4c883"
   },
   "outputs": [],
   "source": [
    "with strategy.scope():\n",
    "    model = build_model()\n",
    "\n",
    "#     METRICS = [tf.keras.metrics.AUC(name='auc')]\n",
    "    \n",
    "    model.compile(\n",
    "        optimizer='adam',\n",
    "        loss=tf.losses.CategoricalCrossentropy(),\n",
    "        metrics=METRICS\n",
    "    )"
   ]
  },
  {
   "cell_type": "markdown",
   "metadata": {
    "colab": {
     "base_uri": "https://localhost:8080/"
    },
    "executionInfo": {
     "elapsed": 20,
     "status": "ok",
     "timestamp": 1644594977593,
     "user": {
      "displayName": "Atanas Kuzmanov",
      "photoUrl": "https://lh3.googleusercontent.com/a-/AOh14GjkQ5zRgLa90vqKiGMiIgsyj9hf9t6u5qTGDXfKnWE=s64",
      "userId": "16147571627289237693"
     },
     "user_tz": -120
    },
    "id": "sEMg0Uqw9DTj",
    "outputId": "c5f484ac-036b-412b-b679-34f431a467c4"
   },
   "source": [
    "### Training the Model"
   ]
  },
  {
   "cell_type": "code",
   "execution_count": null,
   "metadata": {
    "id": "xebzDlK79qFe"
   },
   "outputs": [],
   "source": [
    "def exponential_decay(lr0, s):\n",
    "    def exponential_decay_fn(epoch):\n",
    "        return lr0 * 0.1 **(epoch / s)\n",
    "    return exponential_decay_fn\n",
    "\n",
    "exponential_decay_fn = exponential_decay(0.01, 20)\n",
    "\n",
    "lr_scheduler = tf.keras.callbacks.LearningRateScheduler(exponential_decay_fn)\n",
    "\n",
    "checkpoint_cb = tf.keras.callbacks.ModelCheckpoint(\"alzheimer_model.h5\",\n",
    "                                                    save_best_only=True)\n",
    "\n",
    "early_stopping_cb = tf.keras.callbacks.EarlyStopping(patience=10,\n",
    "                                                     restore_best_weights=True)"
   ]
  },
  {
   "cell_type": "markdown",
   "metadata": {
    "colab": {
     "base_uri": "https://localhost:8080/"
    },
    "executionInfo": {
     "elapsed": 18,
     "status": "ok",
     "timestamp": 1644594977594,
     "user": {
      "displayName": "Atanas Kuzmanov",
      "photoUrl": "https://lh3.googleusercontent.com/a-/AOh14GjkQ5zRgLa90vqKiGMiIgsyj9hf9t6u5qTGDXfKnWE=s64",
      "userId": "16147571627289237693"
     },
     "user_tz": -120
    },
    "id": "kFl1PNZnevhi",
    "outputId": "a652e2aa-1200-4040-b653-7a77e5b98942"
   },
   "source": [
    "Let's fit our model!"
   ]
  },
  {
   "cell_type": "code",
   "execution_count": null,
   "metadata": {
    "id": "Yx8g0zaQtjKp"
   },
   "outputs": [],
   "source": [
    "diy_model_history = model.fit(\n",
    "    train_ds,\n",
    "    validation_data=val_ds,\n",
    "    callbacks=[checkpoint_cb, early_stopping_cb, lr_scheduler],\n",
    "    epochs=8\n",
    ")"
   ]
  },
  {
   "cell_type": "code",
   "execution_count": null,
   "metadata": {
    "id": "PSueRmNXKcvA"
   },
   "outputs": [],
   "source": []
  },
  {
   "cell_type": "code",
   "execution_count": null,
   "metadata": {
    "id": "5rknbcxCKczY"
   },
   "outputs": [],
   "source": [
    "_ = model.evaluate(test_ds)"
   ]
  },
  {
   "cell_type": "code",
   "execution_count": null,
   "metadata": {
    "id": "3QMcIg-OKc1T"
   },
   "outputs": [],
   "source": []
  },
  {
   "cell_type": "code",
   "execution_count": null,
   "metadata": {
    "id": "oeiQsQoRKc3M"
   },
   "outputs": [],
   "source": []
  },
  {
   "cell_type": "code",
   "execution_count": null,
   "metadata": {
    "id": "RdukPHpgKc6L"
   },
   "outputs": [],
   "source": []
  },
  {
   "cell_type": "markdown",
   "metadata": {
    "id": "NUBj-VLblNmj"
   },
   "source": [
    "---"
   ]
  },
  {
   "cell_type": "code",
   "execution_count": null,
   "metadata": {
    "colab": {
     "base_uri": "https://localhost:8080/"
    },
    "executionInfo": {
     "elapsed": 21,
     "status": "ok",
     "timestamp": 1644594952800,
     "user": {
      "displayName": "Atanas Kuzmanov",
      "photoUrl": "https://lh3.googleusercontent.com/a-/AOh14GjkQ5zRgLa90vqKiGMiIgsyj9hf9t6u5qTGDXfKnWE=s64",
      "userId": "16147571627289237693"
     },
     "user_tz": -120
    },
    "id": "nDNMEUdCLQdz",
    "outputId": "668bbf10-6d48-479a-c4d2-999b2d5b77f8"
   },
   "outputs": [
    {
     "data": {
      "text/plain": [
       "5121"
      ]
     },
     "execution_count": 47,
     "metadata": {},
     "output_type": "execute_result"
    }
   ],
   "source": [
    "# y_train=list of train labels wrt to given directory format\n",
    "\n",
    "y_train=[]\n",
    "for i in range(0, len(NUM_IMAGES_PER_CLASS)):\n",
    "    y_train+=[i]*NUM_IMAGES_PER_CLASS[i]\n",
    "\n",
    "len(y_train)"
   ]
  },
  {
   "cell_type": "code",
   "execution_count": null,
   "metadata": {
    "colab": {
     "base_uri": "https://localhost:8080/"
    },
    "executionInfo": {
     "elapsed": 18,
     "status": "ok",
     "timestamp": 1644594952800,
     "user": {
      "displayName": "Atanas Kuzmanov",
      "photoUrl": "https://lh3.googleusercontent.com/a-/AOh14GjkQ5zRgLa90vqKiGMiIgsyj9hf9t6u5qTGDXfKnWE=s64",
      "userId": "16147571627289237693"
     },
     "user_tz": -120
    },
    "id": "No6p8szFT0eR",
    "outputId": "20b203c0-314f-4d31-b97f-fc4fdc00564b"
   },
   "outputs": [
    {
     "data": {
      "text/plain": [
       "array([ 0.50009766,  0.71442522,  1.78556485, 24.62019231])"
      ]
     },
     "execution_count": 48,
     "metadata": {},
     "output_type": "execute_result"
    }
   ],
   "source": [
    "from sklearn.utils.class_weight import compute_class_weight\n",
    "class_weights=compute_class_weight(class_weight=\"balanced\",classes=[0,1,2,3], y=np.asarray(y_train))\n",
    "class_weights\n",
    "\n",
    "# these weights will be used in fit procedure to compute class-weighted loss"
   ]
  },
  {
   "cell_type": "markdown",
   "metadata": {
    "id": "PVzCBEUZjgbL"
   },
   "source": [
    "---"
   ]
  },
  {
   "cell_type": "code",
   "execution_count": null,
   "metadata": {
    "id": "xOoAjIG9Kc8J"
   },
   "outputs": [],
   "source": []
  },
  {
   "cell_type": "markdown",
   "metadata": {
    "id": "Q5c0rvAmUBxu"
   },
   "source": [
    "### Transfer Learning\n",
    "\n",
    "Main steps involved:\n",
    "\n",
    "- Using Feature extraction from pretrained base model and training classification head\n",
    "\n",
    "- Fine tuning specific layers of pretrained base to suit to our classification task"
   ]
  },
  {
   "cell_type": "code",
   "execution_count": null,
   "metadata": {
    "colab": {
     "base_uri": "https://localhost:8080/"
    },
    "executionInfo": {
     "elapsed": 16393,
     "status": "ok",
     "timestamp": 1644594973903,
     "user": {
      "displayName": "Atanas Kuzmanov",
      "photoUrl": "https://lh3.googleusercontent.com/a-/AOh14GjkQ5zRgLa90vqKiGMiIgsyj9hf9t6u5qTGDXfKnWE=s64",
      "userId": "16147571627289237693"
     },
     "user_tz": -120
    },
    "id": "xRL8nZzlC_aL",
    "outputId": "9d4f91ef-70d8-4830-c416-8ad76c5f1f82"
   },
   "outputs": [
    {
     "name": "stdout",
     "output_type": "stream",
     "text": [
      "(32, 176, 176, 3)\n",
      "(32, 4)\n",
      "(32, 4, 4, 2048)\n"
     ]
    }
   ],
   "source": [
    "image_batch, label_batch = next(iter(new_train_ds))\n",
    "\n",
    "print(image_batch.shape)\n",
    "print(label_batch.shape)\n",
    "\n",
    "feature_batch = base_inception_model(image_batch)\n",
    "print(feature_batch.shape)"
   ]
  },
  {
   "cell_type": "code",
   "execution_count": null,
   "metadata": {
    "colab": {
     "base_uri": "https://localhost:8080/"
    },
    "executionInfo": {
     "elapsed": 4375,
     "status": "ok",
     "timestamp": 1644611018659,
     "user": {
      "displayName": "Atanas Kuzmanov",
      "photoUrl": "https://lh3.googleusercontent.com/a-/AOh14GjkQ5zRgLa90vqKiGMiIgsyj9hf9t6u5qTGDXfKnWE=s64",
      "userId": "16147571627289237693"
     },
     "user_tz": -120
    },
    "id": "4I94ilKfhdPe",
    "outputId": "d0d2aabc-ff99-4c7b-ebd8-14fd1486d349"
   },
   "outputs": [
    {
     "name": "stdout",
     "output_type": "stream",
     "text": [
      "(32, 4, 4, 2048)\n",
      "(32, 2048)\n",
      "(32, 4)\n"
     ]
    }
   ],
   "source": [
    "### To try:\n",
    "\n",
    "feature_batch = base_inception_model(image_batch)\n",
    "print(feature_batch.shape)\n",
    "\n",
    "# Global average pooling layer\n",
    "\n",
    "global_average_layer = tf.keras.layers.GlobalAveragePooling2D()\n",
    "feature_batch_average = global_average_layer(feature_batch)\n",
    "print(feature_batch_average.shape)\n",
    "\n",
    "# Classification head layer\n",
    "\n",
    "prediction_layer = tf.keras.layers.Dense(4, activation=\"softmax\")\n",
    "prediction_batch = prediction_layer(feature_batch_average)\n",
    "print(prediction_batch.shape)"
   ]
  },
  {
   "cell_type": "code",
   "execution_count": null,
   "metadata": {
    "id": "SCKrnelfKc-k"
   },
   "outputs": [],
   "source": []
  },
  {
   "cell_type": "code",
   "execution_count": null,
   "metadata": {
    "id": "tAA93Ho8KdCe"
   },
   "outputs": [],
   "source": []
  },
  {
   "cell_type": "code",
   "execution_count": null,
   "metadata": {
    "id": "najuROPkIY4g"
   },
   "outputs": [],
   "source": []
  },
  {
   "cell_type": "code",
   "execution_count": null,
   "metadata": {
    "id": "L9IlKhGFIY7T"
   },
   "outputs": [],
   "source": []
  },
  {
   "cell_type": "code",
   "execution_count": null,
   "metadata": {
    "id": "MH3Vh09ZIY9w"
   },
   "outputs": [],
   "source": []
  },
  {
   "cell_type": "markdown",
   "metadata": {
    "id": "JicCsEOKPrjb"
   },
   "source": [
    "---"
   ]
  },
  {
   "cell_type": "markdown",
   "metadata": {
    "id": "Ng4UGVXbPrjb"
   },
   "source": [
    "---"
   ]
  },
  {
   "cell_type": "markdown",
   "metadata": {
    "id": "--lo3rFHPrjb"
   },
   "source": [
    "---"
   ]
  },
  {
   "cell_type": "markdown",
   "metadata": {
    "id": "bMfVy9a8Prjb"
   },
   "source": [
    "---"
   ]
  },
  {
   "cell_type": "markdown",
   "metadata": {
    "id": "BzZiUIFaPrjb"
   },
   "source": [
    "## Final results"
   ]
  },
  {
   "cell_type": "markdown",
   "metadata": {
    "id": "P2tGt6luPrjc"
   },
   "source": [
    "__"
   ]
  },
  {
   "cell_type": "markdown",
   "metadata": {
    "id": "zLlzNLodPrjc"
   },
   "source": [
    "---"
   ]
  },
  {
   "cell_type": "markdown",
   "metadata": {
    "id": "OWX6CHzYPrjc"
   },
   "source": [
    "---"
   ]
  },
  {
   "cell_type": "markdown",
   "metadata": {
    "id": "AYuwBVITPrjc"
   },
   "source": [
    "## Conclusion"
   ]
  },
  {
   "cell_type": "markdown",
   "metadata": {
    "id": "4YmsOI8YPrjc"
   },
   "source": [
    "_As we can see from the table in the [Final results](#Final_results) section, **we can indeed use Machine Learning to predict MSRP (manufacturer’s suggested retail price) of cars** as we can achieve accuracy of around $95\\%$ from some of the algorithms._\n",
    "\n",
    "_This means that we can have confidence in them and trust them to do these complex predictions for us and help us define, expect or adjust prices for the future._"
   ]
  },
  {
   "cell_type": "markdown",
   "metadata": {
    "id": "AbEv8v3qPrjd"
   },
   "source": [
    "*Thus we can say that we have both answered our question using the scientific method and we have rejected our [Null Hypothesis $(H_{0})$](#Null-hypothesis-$(H_{0})$) and proved our [Alternative Hypothesis $(H_{1})$](#Alternative-hypothesis-$(H_{1})$) with the experiments carried out of training and then testing different Machine Learning algorithms and seeing if they achieve accuracy levels which are good and can be useful for prediction.*"
   ]
  },
  {
   "cell_type": "markdown",
   "metadata": {
    "id": "uJkxsG2OPrjd"
   },
   "source": [
    "### Further development\n",
    "\n",
    "_I think this article can be further developed in one or more of the following ways:_\n",
    "\n",
    "- __"
   ]
  },
  {
   "cell_type": "markdown",
   "metadata": {
    "id": "_CzsP5OsPrjd"
   },
   "source": [
    "---"
   ]
  },
  {
   "cell_type": "markdown",
   "metadata": {
    "id": "yHyNV6dsPrjd"
   },
   "source": [
    "## Appendix A<a id=\"AppendixA\"></a>"
   ]
  },
  {
   "cell_type": "markdown",
   "metadata": {
    "id": "gj0morZSPrjd"
   },
   "source": [
    "### Glossary"
   ]
  },
  {
   "cell_type": "markdown",
   "metadata": {
    "id": "PFMWiSzbPrjd"
   },
   "source": [
    "- DL - Deep Learning\n",
    "- NN - Neural Network\n",
    "- EDA - exploratory data analysis"
   ]
  },
  {
   "cell_type": "markdown",
   "metadata": {
    "id": "LEpO4u78Prjd"
   },
   "source": [
    "### Table of Contents\n",
    "\n",
    "*In order to use a Table of Contents for this article, please use the `toc2` extension from `Nbextensions` for Jupyter Notebook. You can find instructions on how to install and use it in this <a href=\"https://stackoverflow.com/questions/21151450/how-can-i-add-a-table-of-contents-to-a-jupyter-jupyterlab-notebook\">link</a>.*"
   ]
  },
  {
   "cell_type": "markdown",
   "metadata": {
    "id": "452pU2OBPrjd"
   },
   "source": [
    "### Definitions"
   ]
  },
  {
   "cell_type": "markdown",
   "metadata": {
    "id": "pJnQiRCkPrje"
   },
   "source": []
  },
  {
   "cell_type": "markdown",
   "metadata": {
    "id": "7FLxkG1ePrje"
   },
   "source": []
  },
  {
   "cell_type": "markdown",
   "metadata": {
    "id": "m7cPb6JPPrje"
   },
   "source": [
    "---"
   ]
  },
  {
   "cell_type": "markdown",
   "metadata": {
    "id": "FnwoUE51Prje"
   },
   "source": [
    "## References <a id=\"ReferencesSection\"></a>"
   ]
  },
  {
   "cell_type": "markdown",
   "metadata": {
    "id": "b3DquVFFPrje"
   },
   "source": [
    "\n",
    "### mri_image_classification_using_transfer_learning\n",
    "<https://www.kaggle.com/youssefgdv/mri-image-classification-using-transfer-learning/notebook>\n",
    "\n",
    "### Alzheimer's Disease Classification - InceptionV3\n",
    "<https://www.kaggle.com/youssefgdv/alzheimer-s-disease-classification-inceptionv3/notebook>\n",
    "\n",
    "### Alzheimer MRI Model + TensorFlow 2.3 Data Loading\n",
    "<https://www.kaggle.com/amyjang/alzheimer-mri-model-tensorflow-2-3-data-loading/notebook>\n",
    "\n",
    "### CNN Alzheimer MRI images\n",
    "<https://www.kaggle.com/albertociacci/cnn-alzheimer-mri-images/notebook>\n",
    "\n",
    "### Alzheimer's Dataset ( 4 class of Images)\n",
    "<https://www.kaggle.com/tourist55/alzheimers-dataset-4-class-of-images>\n",
    "\n",
    "### Alzheimer's Dataset ( 4 class of Images) - Header image\n",
    "<https://storage.googleapis.com/kaggle-datasets-images/457093/861496/0e1367b46c9e96bdf3823ec7833b965d/dataset-cover.jpg?t=2019-12-26-19-14-30>\n",
    "\n",
    "---\n",
    "\n",
    "### The Alzheimer's Disease Prediction Of Longitudinal Evolution (TADPOLE) Challenge: Results after 1 Year Follow-up\n",
    "<https://paperswithcode.com/paper/the-alzheimer-s-disease-prediction-of>\n",
    "\n",
    "### The Alzheimer's Disease Prediction Of Longitudinal Evolution (TADPOLE) Challenge: Results after 1 Year Follow-up - arxiv.org\n",
    "<https://arxiv.org/pdf/2002.03419v2.pdf>\n",
    "\n",
    "### Preclinical Stage Alzheimer’s Disease Detection Using MRI Scans\n",
    "<https://github.com/sanchezgrsa/Preclinical-Stage-Alzheimers-Disease-Detection>\n",
    "\n",
    "### alzheimer's disease detection - paperswithcode.com\n",
    "<https://paperswithcode.com/task/alzheimer-s-disease-detection>\n",
    "\n",
    "---\n",
    "\n",
    "### OASIS Brains project\n",
    "<https://www.oasis-brains.org/>\n",
    "\n",
    "---\n",
    "\n",
    "### Deep Learning in Alzheimer's disease: Diagnostic Classification and Prognostic Prediction using Neuroimaging Data\n",
    "<https://arxiv.org/abs/1905.00931>\n",
    "\n",
    "### Automatic Assessment of Alzheimer's Disease Diagnosis Based on Deep Learning Techniques\n",
    "<https://arxiv.org/abs/2105.08446>\n",
    "\n",
    "### An explainable two-dimensional single model deep learning approach for Alzheimer's disease diagnosis and brain atrophy localization\n",
    "<https://arxiv.org/abs/2107.13200>\n",
    "\n",
    "### Convolutional Neural Networks for Classification of Alzheimer's Disease: Overview and Reproducible Evaluation\n",
    "<https://arxiv.org/abs/1904.07773>\n",
    "\n",
    "### Improving 3D convolutional neural network comprehensibility via interactive visualization of relevance maps: Evaluation in Alzheimer's disease\n",
    "<https://arxiv.org/abs/2012.10294>\n",
    "\n",
    "### Diagnosis of Alzheimer's Disease via Multi-modality 3D Convolutional Neural Network\n",
    "<https://arxiv.org/abs/1902.09904>\n",
    "\n",
    "### Detection of Alzheimers Disease from MRI using Convolutional Neural Networks, Exploring Transfer Learning And BellCNN\n",
    "<https://arxiv.org/abs/1901.10231>\n",
    "\n",
    "### Detecting Alzheimer's Disease Using Gated Convolutional Neural Network from Audio Data\n",
    "<https://arxiv.org/abs/1803.11344>\n",
    "\n",
    "### Deep Convolutional Neural Network based Classification of Alzheimer's Disease using MRI data\n",
    "<https://arxiv.org/abs/2101.02876>\n",
    "\n",
    "---\n",
    "\n",
    "### \n",
    "<>\n",
    "\n",
    "### \n",
    "<>\n",
    "\n",
    "### \n",
    "<>\n",
    "\n",
    "### \n",
    "<>\n",
    "\n",
    "### \n",
    "<>\n",
    "\n",
    "### \n",
    "<>\n",
    "\n",
    "### \n",
    "<>\n",
    "\n",
    "### \n",
    "<>\n",
    "\n",
    "### \n",
    "<>\n",
    "\n",
    "### \n",
    "<>\n",
    "\n",
    "### \n",
    "<>\n",
    "\n",
    "### \n",
    "<>\n",
    "\n",
    "### \n",
    "<>\n",
    "\n",
    "### \n",
    "<>\n",
    "\n",
    "### \n",
    "<>\n",
    "\n",
    "### \n",
    "<>\n",
    "\n",
    "### \n",
    "<>\n",
    "\n",
    "### \n",
    "<>\n",
    "\n",
    "### \n",
    "<>\n",
    "\n",
    "### \n",
    "<>\n",
    "\n",
    "### \n",
    "<>\n",
    "\n",
    "### \n",
    "<>\n",
    "\n",
    "### \n",
    "<>\n",
    "\n",
    "### \n",
    "<>\n",
    "\n",
    "### \n",
    "<>\n",
    "\n",
    "### \n",
    "<>\n",
    "\n",
    "### \n",
    "<>\n",
    "\n",
    "### \n",
    "<>\n",
    "\n",
    "### \n",
    "<>\n",
    "\n",
    "### \n",
    "<>\n",
    "\n",
    "### \n",
    "<>\n",
    "\n",
    "### \n",
    "<>\n"
   ]
  },
  {
   "cell_type": "markdown",
   "metadata": {
    "id": "XZxQUL-CPrje"
   },
   "source": [
    "---"
   ]
  },
  {
   "cell_type": "markdown",
   "metadata": {
    "id": "fUaJ_V6WPrjf"
   },
   "source": [
    "### \n",
    "<>\n",
    "\n",
    "### \n",
    "<>\n",
    "\n",
    "### Austin Powers - Live dangerously meme 1\n",
    "<https://i.kym-cdn.com/photos/images/newsfeed/000/511/991/3a5.jpg>\n"
   ]
  },
  {
   "cell_type": "markdown",
   "metadata": {
    "id": "Oy36mSslPrjf"
   },
   "source": [
    "---"
   ]
  },
  {
   "cell_type": "code",
   "execution_count": null,
   "metadata": {
    "id": "jTIaOiiApeJS"
   },
   "outputs": [],
   "source": [
    "while True:pass"
   ]
  }
 ],
 "metadata": {
  "colab": {
   "collapsed_sections": [],
   "name": "softuni-ai-dl-project-2022-v6.ipynb",
   "provenance": [],
   "toc_visible": true
  },
  "kernelspec": {
   "display_name": "Python 3",
   "language": "python",
   "name": "python3"
  },
  "language_info": {
   "codemirror_mode": {
    "name": "ipython",
    "version": 3
   },
   "file_extension": ".py",
   "mimetype": "text/x-python",
   "name": "python",
   "nbconvert_exporter": "python",
   "pygments_lexer": "ipython3",
   "version": "3.8.12"
  },
  "toc": {
   "base_numbering": 1,
   "nav_menu": {},
   "number_sections": true,
   "sideBar": true,
   "skip_h1_title": false,
   "title_cell": "Table of Contents",
   "title_sidebar": "Contents",
   "toc_cell": false,
   "toc_position": {
    "height": "calc(100% - 180px)",
    "left": "10px",
    "top": "150px",
    "width": "307.188px"
   },
   "toc_section_display": true,
   "toc_window_display": true
  }
 },
 "nbformat": 4,
 "nbformat_minor": 5
}
