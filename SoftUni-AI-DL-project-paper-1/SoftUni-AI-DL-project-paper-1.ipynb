{
 "cells": [
  {
   "cell_type": "code",
   "execution_count": 1,
   "metadata": {},
   "outputs": [],
   "source": [
    "%matplotlib inline\n",
    "\n",
    "import numpy as np\n",
    "import pandas as pd\n",
    "import matplotlib.pyplot as plt\n",
    "\n",
    "import os\n",
    "\n",
    "import tensorflow as tf\n",
    "\n",
    "from tensorflow.keras.models import Sequential, Model\n",
    "\n",
    "from tensorflow.keras.layers import Input, Dense, Conv2D, MaxPool2D, Flatten, BatchNormalization, Dropout\n",
    "\n",
    "from tensorflow.keras.callbacks import ModelCheckpoint\n",
    "\n",
    "from tensorflow.keras.datasets import mnist"
   ]
  },
  {
   "cell_type": "markdown",
   "metadata": {},
   "source": [
    "# Introduction to deep learning - an overview of a published paper\n",
    "---\n",
    "---\n",
    "---"
   ]
  },
  {
   "cell_type": "markdown",
   "metadata": {},
   "source": [
    "## Introduction\n",
    "\n",
    "***Author:*** Atanas Kuzmanov\n",
    "\n",
    "***Date:*** 2022-February-20\n",
    "\n",
    "*This paper is a retelling and an overview of the original paper \"Introduction to deep learning\" by Lihi Shiloh-Perl and Raja Giryes.*\n",
    "\n",
    "Published: `[v1] Sat, 29 Feb 2020 14:52:28 UTC (6,344 KB)`\n",
    "\n",
    "Reference:\n",
    "\n",
    "Shiloh-Perl, L. and Giryes, R., 2020. Introduction to deep learning. arXiv preprint arXiv:2003.03253.\n",
    "\n",
    "School of Electrical Engineering, Tel Aviv University, e-mail: {lihishiloh@mail ,raja@tauex}.tau.ac.il\n",
    "\n",
    "[[Reference]](#Introduction-to-deep-learning)\n",
    "\n",
    "[[Reference]](#Introduction-to-deep-learning-PDF)\n",
    "\n",
    "[[Reference]](#Introduction-to-deep-learning-ARXIV)\n",
    "\n",
    "---\n",
    "\n",
    "*This is an article developed as a scientific notebook for an exam project assignment for a Deep Learning course from an Artificial Intelligence module.*\n",
    "\n",
    "*One of the aims of this article is to understand some Deep Learning (DL) basics and basic concepts, more specifically to understand Neural Networks (NNs) and how to improve them, so we can create models, train them, test them and extract predictions and information we might be interested in.*\n",
    "\n",
    "*I have expanded the original paper, on which this article is based on, in the [Additional contributions, expansion and further development of this paper Section](#Additional-contributions,-expansion-and-further-development-of-this-paper),by adding a real practical example of building a Convolutional Neural Network architecture, training the model, evaluating it, and then testing it with an example.*\n",
    "\n",
    "---\n",
    "\n",
    "*This paper was chosen among many considered, and here are a few of the other papers considered:*\n",
    "\n",
    "- *Artificial Neural Network: Understanding the Basic Concepts without Mathematics [[Reference]](#Artificial-Neural-Network:-Understanding-the-Basic-Concepts-without-Mathematic)*\n",
    "- *Deep Learning: A Comprehensive Overview on Techniques, Taxonomy, Applications and Research Directions [[Reference]](#Deep-Learning:-A-Comprehensive-Overview-on-Techniques,-Taxonomy,-Applications-and-Research-Directions)*\n",
    "- *Introduction to Machine Learning, Neural Networks, and Deep Learning [[Reference]](#Introduction-to-Machine-Learning,-Neural-Networks,-and-Deep-Learning)*"
   ]
  },
  {
   "cell_type": "markdown",
   "metadata": {},
   "source": [
    "---"
   ]
  },
  {
   "cell_type": "markdown",
   "metadata": {},
   "source": [
    "## Notes"
   ]
  },
  {
   "cell_type": "markdown",
   "metadata": {},
   "source": [
    "### Foreword\n",
    "\n",
    "_One of the aims of this article is to understand some Deep Learning (DL) basics and basic concepts._\n",
    "\n",
    "_Because of that goal it is important to be able to train and test models multiple times, so we can determine the best hyperparameters and tune models to improve them. Unfortunately at the time of writing this article, in the year 2022, I am using my personal laptop from 2015. I thought this machine has fared rather well for it's age, and have great respect for it and what I have put it through, as we have been together through thick and thin. That was until I had to actually do DL on it for this article when I realized it is not going to fare well for this purpose. Most of the models were unable to run or finish running once I tried to train them, or once I tried to change the hyperparameters to improve them. My machine would just heat up with fans running at the highest rpms and still seem stuck on executing a cell for more than 30min. If I had carried on like this I would not have been able to finish this article, so instead most or all of the hyperparameters for the models are set to severely low or high, depending on the context, in order to reduce iterations or features of the data, so that this notebook would work and I would be able to demonstrate or give an example of the idea I am trying to explain. Please keep this in mind when going through the article._\n",
    "\n",
    "_This will be sufficient for the purpose of this article, just to demonstrate and help understand DL basics and basic concepts, but if you need to try out some of the examples and extend and improve them for actual Deep Learning keep in mind you need a powerful machine with a good GPU, or you can use a cloud platform suitable for DL, such as Google Colab._"
   ]
  },
  {
   "cell_type": "markdown",
   "metadata": {},
   "source": [
    "### References Notes\n",
    "\n",
    "_Any and all references, citations, resources or other materials used to understand and explain, provide examples, and build this article have been referenced in order to give credit where credit is due and avoid plagiarism._\n",
    "_If a citation is the bigger part of a section, and has been edited, added to, modified, etc. the reference to that section would be at the end of it, separated with a horizontal line, like this example:_\n",
    "\n",
    "> ---\n",
    "> [[Example Reference]](#ExampleReference)\n",
    "\n",
    "_If a citation has been inserted and is relatively short, the relevant reference will be at the end of the sentence or paragraph, for example:_\n",
    "\n",
    "> Example. [[Example Reference]](#ExampleReference)\n",
    "\n",
    "_In case a reference is missed due to human error, all references can be found in the [References](#References) section. Anything which is found in the [References](#References) should be considered as a valid reference for everything in this paper, even if not explicitly referenced._"
   ]
  },
  {
   "cell_type": "markdown",
   "metadata": {},
   "source": [
    "---"
   ]
  },
  {
   "cell_type": "markdown",
   "metadata": {},
   "source": [
    "## Abstract"
   ]
  },
  {
   "cell_type": "markdown",
   "metadata": {},
   "source": [
    "Deep Learning (DL) has made a major impact on data science in the last\n",
    "decade. This chapter introduces the basic concepts of this field. It includes both the\n",
    "basic structures used to design deep neural networks and a brief survey of some of\n",
    "its popular use cases."
   ]
  },
  {
   "cell_type": "markdown",
   "metadata": {},
   "source": [
    "## 1 General overview\n",
    "\n",
    "Neural Networks (NN) have revolutionized the modern day-to-day life. Their sig-\n",
    "nificant impact is present even in our most basic actions, such as ordering products\n",
    "on-line via Amazon’s Alexa or passing the time with on-line video games against\n",
    "computer agents. The NN effect is evident in many more occasions, for example,\n",
    "in medical imaging NNs are utilized for lesion detection and segmentation [40, 5],\n",
    "and tasks such as text-to-speech [38, 120] and text-to-image [101] have remarkable\n",
    "improvements thanks to this technology. In addition, the advancements they have\n",
    "caused in fields such as natural language processing (NLP) [24, 144, 77], optics\n",
    "[114, 42], image processing [110, 143] and computer vision (CV) [10, 34] are aston-\n",
    "ishing, creating a leap forward in technology such as autonomous driving [13, 79],\n",
    "face recognition [109, 134, 23], anomaly detection [64], text understanding [54] and\n",
    "art [35, 53], to name a few. Its influence is powerful and is continuing to grow.\n",
    "\n",
    "The NN journey began in the mid 1960’s with the publication of the Perceptron\n",
    "[105]. Its development was motivated by the formulation of the human neuron\n",
    "activity [80] and research regarding the human visual perception [49]. However,\n",
    "quite quickly, a deceleration in the field was experienced, which lasted for almost\n",
    "three decades. This was mainly the result of lack of theory with respect to the\n",
    "possibility of training the (single-layer) perceptron and a series of theoretical results that emphasized its limitations, where the most remarkable one is its inability to\n",
    "learn the XOR function [82]."
   ]
  },
  {
   "cell_type": "markdown",
   "metadata": {},
   "source": [
    "This _NN ice age_ came to a halt in the mid 1980’s, mainly with the introduction\n",
    "of the multi-layer perceptron (MLP) and the backpropagation algorithm [107]. Fur-\n",
    "thermore, the revolutionary convolutional layer was presented [68], where one of its\n",
    "notable achievements was successfully recognizing hand-written digits [67].\n",
    "While some other significant developments have happened in the following\n",
    "decade, such as the development of the long-short memory machine (LSTM) [46],\n",
    "the field experienced another deceleration. Questions were arising with no adequate\n",
    "answers especially with respect to the non-convex nature of the used optimization ob-\n",
    "jectives, overfitting the training data, and the challenge of vanishing gradients. These\n",
    "difficulties led to a second _NN winter_ , which lasted two decades. In the meantime,\n",
    "classical machine learning techniques were developed and attracted much academic\n",
    "and industry attention. One of the prominent algorithms was the newly proposed\n",
    "Support Vector Machine (SVM) [17], which defined a convex optimization prob-\n",
    "lem with a clear mathematical interpretation [16]. These properties increased its\n",
    "popularity and usage in various applications.\n",
    "\n",
    "The 21 stcentury began with some advancements in neural networks in the areas\n",
    "of speech processing and Natural Language Processing (NLP). Hinton _et al._ [45]\n",
    "proposed a method for layer-wise initial training of neural networks, which leveraged\n",
    "some of the challenges in training networks with several layers. However, the great\n",
    "NN _tsunami_ truly hit the field with the publication of _AlexNet_ in 2012 [62]. In this\n",
    "paper, Krizhevsky _et al._ presented a neural network that achieved state-of-the-art\n",
    "performance on the ImageNet [22] challenge, where the goal is to classify images\n",
    "into 1000 categories using 1.2 Million images for training and 150000 images for\n",
    "testing. The improvement over the runner-up, which relied on hand crafted features\n",
    "and one of the best classification techniques of that time, was notable - more than\n",
    "10%. This caused the whole research community to understand that neural networks\n",
    "are way more powerful than what was thought and they bear a great potential for\n",
    "many applications. This led to a myriad of research works that applied NNs for\n",
    "various fields showing their great advantage.\n",
    "\n",
    "Nowadays, it is safe to say that almost every research field has been affected\n",
    "by this NN _tsunami_ wave, experiencing significant improvements in abilities and\n",
    "performance. Many of the tools used today are very similar to the ones used in the\n",
    "previous phase of NN. Indeed, some new regularization techniques such as batch-\n",
    "normalization [50] and dropout [121] have been proposed. Yet, the key-enablers for\n",
    "the current success is the large amounts of data available today that are essential for\n",
    "large NN training, and the developments in GPU computations that accelerate the\n",
    "training time significantly (sometimes even leading to× 100 speed-up compared to\n",
    "training on a conventional CPU). The advantages of NN is remarkable especially\n",
    "at large scales. Thus, having large amounts of data and the appropriate hardware to\n",
    "process them, is vital for their success."
   ]
  },
  {
   "cell_type": "markdown",
   "metadata": {},
   "source": [
    "A major example of a tool that did not exist before is the Generative Adversarial\n",
    "Network (GAN [39]). In 2014, Goodfellow _et al._ published this novel framework for\n",
    "learning data distribution. The framework is composed of two models, a generator and a discriminator, trained as adversaries. The generator is trained to capture the\n",
    "data distribution, while the discriminator is trained to differentiate between generated\n",
    "(“fake”) data and real data. The goal is to let the generator synthesize data, which the\n",
    "discriminator fails to discriminate from the real one. The GAN architecture is used\n",
    "in more and more applications since its introduction in 2014. One such application is\n",
    "the rendering of real scene images were GANs have proved very successful [36, 151].\n",
    "For example, Brock _et al._ introduced the BigGAN [7] architecture that exhibited im-\n",
    "pressive results in creating high-resolution images, shown in Fig. 1. While most GAN\n",
    "techniques learn from a set of images, recently it has been successfully demonstrated\n",
    "that one may even train a GAN just using one image [112]. Other GAN application\n",
    "include inpainting [73, 145], retargeting [115], 3D modeling [1], semi-supervised\n",
    "learning [31], domain adaptation [47] and more."
   ]
  },
  {
   "cell_type": "markdown",
   "metadata": {},
   "source": [
    "![BigGAN_example1.png](2003.03253v1-resources/20031.03253v1-pics/BigGAN_example1.png)\n",
    "\n",
    "Fig. 1: Class-conditional samples generated by a GAN, [7]."
   ]
  },
  {
   "cell_type": "markdown",
   "metadata": {},
   "source": [
    "While neural networks are very successful, the theoretical understanding behind\n",
    "them is still missing. In this respect, there are research efforts that try to provide a\n",
    "mathematical formulation that explains various aspects of NN. For example, they\n",
    "study NN properties such as their optimization [124], generalization [52] and ex-\n",
    "pressive power [108, 88].\n",
    "\n",
    "The rest of the chapter is organized as follows. In Section 2 the basic structure\n",
    "of a NN is described, followed by details regarding popular loss functions and\n",
    "metric learning techniques used today (Section 3). We continue with an introduction\n",
    "to the NN training process in Section 4, including a mathematical derivation of\n",
    "backpropagation and training considerations. Section 5 elaborates on the different\n",
    "optimizers used during training, after which Section 6 presents a review of common\n",
    "regularization schemes. Section 7 details advanced NN architecture with state-of-\n",
    "the-art performances and Section 8 concludes the chapter by highlighting some\n",
    "current important NN challenges."
   ]
  },
  {
   "cell_type": "markdown",
   "metadata": {},
   "source": [
    "## 2 Basic NN structure\n",
    "\n",
    "The basic building block of a NN consists of a linear operation followed by a non-\n",
    "linear function. Each building block consists of a set of parameters, termed weights\n",
    "and biases (sometimes the term weights includes also the biases), that are updated\n",
    "in the training process with the goal of minimizing a pre-defined loss function."
   ]
  },
  {
   "cell_type": "markdown",
   "metadata": {},
   "source": [
    "Assume an input data $\\mathbf{x}\\in \\mathbb{R}^{d_0}$, the output of the building block is of the form \\mbox{$\\psi (\\mathbf{W}\\mathbf{x}+\\mathbf{b})$}, where $\\psi(\\cdot )$ is a non-linear function, $\\mathbf{W}\\in \\mathbb{R}^{d_1 \\times d_0}$ is the linear operation and $\\mathbf{b}\\in \\mathbb{R}^{d_1}$ is the bias. See Fig.2 for an illustration of a single building block. "
   ]
  },
  {
   "cell_type": "markdown",
   "metadata": {},
   "source": [
    "![building_block.png](2003.03253v1-resources/20031.03253v1-pics/building_block.png)\n",
    "\n",
    "Fig. 2: NN building block consists of a linear and a non-linear elements. The weights\n",
    "**W** and biases **b** are the parameters of the layer."
   ]
  },
  {
   "cell_type": "markdown",
   "metadata": {},
   "source": [
    "![NN_illustraion.png](2003.03253v1-resources/20031.03253v1-pics/NN_illustraion.png)\n",
    "\n",
    "Fig. 3: NN layered structure: concatenation of N building blocks, e.g., model layers."
   ]
  },
  {
   "cell_type": "markdown",
   "metadata": {},
   "source": [
    "To form an NN model, such building blocks are concatenated one to another in a\n",
    "layered structure that allows the input data to be gradually processed as it propagates\n",
    "through the network. Such a process is termed the (feed-)forward pass. Following it,\n",
    "during training, a backpropagation process is used to update the NN parameters, as\n",
    "elaborated in Section 4.1. In inference time, only the forward pass is used.\n",
    "\n",
    "Fig. 3 illustrates the concatenation ofKbuilding blocks, e.g., layers. The inter-\n",
    "mediate output at the end of the model (before the “task driven block”) is termed the\n",
    "_network embedding_ and it is formulated as follows:"
   ]
  },
  {
   "cell_type": "markdown",
   "metadata": {},
   "source": [
    "$$Φ( x , W (^1 ), ..., W (K), b (^1 ), ..., b (K))=ψ( W (K)...ψ( W (^2 )ψ( W (^1 ) x + b (^1 ))+ b (^2 ))...+ b (K)). \\quad \\quad (1)$$"
   ]
  },
  {
   "cell_type": "markdown",
   "metadata": {},
   "source": [
    "The final output (prediction) of the network is estimated from the network embedding\n",
    "of the input data using an additional task driven layer. A popular example is the case\n",
    "of classifications, where this block is usually a linear operation followed by the\n",
    "_cross-entropy_ loss function (detailed in Section 3).\n",
    "\n",
    "When approaching the analysis of data with varying length, such as sequential\n",
    "data, a variant of the aforementioned approach is used. A very popular example for\n",
    "such a neural network structure is the Recurrent Neural Network (RNN [51]). In a\n",
    "vanilla RNN model, the network receives at each time step just a single input but\n",
    "with a feedback loop calculated using the result of the same network in the previous\n",
    "time-step (see an illustration in Fig. 4). This enables the network to \"remember\"\n",
    "information and support multiple inputs and producing one or more outputs."
   ]
  },
  {
   "cell_type": "markdown",
   "metadata": {},
   "source": [
    "More complex RNN structures include performing bi-directional calculations or\n",
    "adding gating to the feedback and the input received by the network. The most known\n",
    "complex RNN architecture is the Long-Term-Short-Memory (LSTM) [46, 37], which\n",
    "adds gates to the RNN. These gates decide what information from the current input\n",
    "and the past will be used to calculate the output and the next feedback, as well as\n",
    "what information to mask (i.e., causing the network to forget). This enables an easier\n",
    "combination of past and present information. It is commonly used for time-series\n",
    "data in domains such as NLP and speech processing."
   ]
  },
  {
   "cell_type": "markdown",
   "metadata": {},
   "source": [
    "![RNN_series.png](2003.03253v1-resources/20031.03253v1-pics/RNN_series.png)\n",
    "\n",
    "Fig. 4: Recurrent NN (RNN) illustration for time series data. The feedback loop\n",
    "introduces time dependent characteristics to the NN model using an element-wise\n",
    "function. The weights are the same along all time steps."
   ]
  },
  {
   "cell_type": "markdown",
   "metadata": {},
   "source": [
    "Another common network structure is the _Encoder-Decoder_ architecture. The\n",
    "first part of the model, the encoder, reduces the dimensions of the input to a compact\n",
    "feature vector. This vector functions as the input to the second part of the model, the\n",
    "decoder. The decoder increases its dimension, usually, back to the original input size.\n",
    "This architecture essentially learns to compress (encode) the input to an efficiently\n",
    "small vector and then decode the information from its compact representation. In\n",
    "the context of regular feedforward NN, this model is known as autoencoder [119]\n",
    "and is used for several tasks such as image denoising [102], image captioning [133],\n",
    "feature extraction [132] and segmentation [2]. In the context of sequential data, it is\n",
    "used for tasks such as translation, where the decoder generates a translated sentence\n",
    "from a vector representing the input sentence [126, 14]."
   ]
  },
  {
   "cell_type": "markdown",
   "metadata": {},
   "source": [
    "### 2.1 Common linear layers\n",
    "\n",
    "A common basic NN building block is the Fully Connected (FC) layer. A net-\n",
    "work composed of a concatenation of such layers is termed Multi-Layer Perceptron\n",
    "(MLP) [106]. The FC layer connects every neuron in one layer to every neuron in\n",
    "the following layer, i.e. the matrix **W** is dense. It enables information propagation\n",
    "from all neurons to all the ones following them. However it may not maintain spatial\n",
    "information. Figure 5 illustrates a network with FC layers."
   ]
  },
  {
   "cell_type": "markdown",
   "metadata": {},
   "source": [
    "The convolutional layer [66, 68] is another very common layer. We discuss here\n",
    "the 2D case, where the extension to other dimension is straight-forward. This layer\n",
    "applies one or multiple convolution filters to its input with kernels of sizeW×H.\n",
    "The output of the convolution layer is commonly termed a _feature map_.\n",
    "\n",
    "Each neuron in a feature map receives inputs from a set of neurons from the\n",
    "previous layer, located in a small neighborhood defined by the kernel size. If we\n",
    "apply this relationship recursively, we can find the part of the input that affects each\n",
    "neuron at a given layer, i.e., the area of visible context that each neuron sees from\n",
    "the input. The size of this part is called the _receptive field_. It impacts the type and\n",
    "size of visual features each convolution layer may extract, such as edges, corners\n",
    "and even patterns. Since convolution operations maintain spatial information and are\n",
    "translation equivariant, they are very useful, namely, in image processing and CV.\n",
    "\n",
    "If the input to a convolution layer has some arbitrary third dimension, for example\n",
    "3-channels in an RGB image (C= 3 ) or someC> 1 channels from an output of a\n",
    "hidden layer in the model, the kernel of the matching convolution layer should be\n",
    "of sizeW×H×C. This corresponds to applying a different convolution for each\n",
    "input channel separately, and then summing the outputs to create one feature map.\n",
    "The convolution layer may create a multi-channel feature map by applying multiple\n",
    "filters to the input, i.e., using a kernel of sizeW×H×Cin×Cout, whereCinandCout\n",
    "are the number of channels at the input and output of the layer respectively."
   ]
  },
  {
   "cell_type": "markdown",
   "metadata": {},
   "source": [
    "### 2.2 Common non-linear functions\n",
    "\n",
    "The non-linear functions defined for each layer are of great interest since they\n",
    "introduce the non-linear property to the model and can limit the propagating gradient\n",
    "from vanishing or exploding (see Section 4).\n",
    "Non-linear functions that are applied element-wise are known as _activation func-\n",
    "tions_. Common activation functions are the Rectified Linear Unit (ReLU [20]), leaky\n",
    "ReLU [141], Exponential Linear Unit (ELU) [15], hyperbolic tangent (tanh) and sig-\n",
    "moid. There is no universal rule for choosing a specific activation function, however,"
   ]
  },
  {
   "cell_type": "markdown",
   "metadata": {},
   "source": [
    "![MLP.png](2003.03253v1-resources/20031.03253v1-pics/MLP.png)\n",
    "Fig. 5: Fully-connected layers."
   ]
  },
  {
   "cell_type": "markdown",
   "metadata": {},
   "source": [
    "ReLUs and ELUs are currently more popular for image processing and CV while\n",
    "sigmoid and tanh are more common in speech and NLP. Fig. 6 presents the response\n",
    "of the different activation functions and Table 1 their mathematical formulation."
   ]
  },
  {
   "cell_type": "markdown",
   "metadata": {},
   "source": [
    "![activation_functions.jpg](2003.03253v1-resources/20031.03253v1-pics/activation_functions.jpg)\n",
    "Fig. 6: Different activation functions. Leaky ReLU with $α= 0.1$, ELU with $α= 1$."
   ]
  },
  {
   "cell_type": "markdown",
   "metadata": {},
   "source": [
    "Table 1: Mathematical expressions for non-linear activation functions."
   ]
  },
  {
   "cell_type": "markdown",
   "metadata": {},
   "source": [
    "<table cellspacing=\"1\" cellpadding=\"2\" valign=\"middle\" style=\"border-collapse: collapse; border: none;\">\n",
    "    <tbody>\n",
    "        <tr style=\"border: none;\">\n",
    "            <td style=\"border: none;\">\n",
    "Function\n",
    "            </td>\n",
    "            <td style=\"border: none;\">\n",
    "Formulation $s(x)$\n",
    "            </td>\n",
    "            <td style=\"border: none;\">\n",
    "Derivative $\\frac{ds(x)}{dx}$\n",
    "            </td>\n",
    "            <td style=\"border: none;\">\n",
    "Function output\n",
    "            </td>\n",
    "        </tr>\n",
    "        <tr style=\"border: none;\">\n",
    "            <td style=\"border: none;\">\n",
    "ReLU\n",
    "            </td>\n",
    "            <td style=\"border: none;\">\n",
    "$$\\begin{cases}\n",
    "0, & \\text{for } x<0\\\\ \n",
    "x, & \\text{for } x\\geq 0\n",
    "\\end{cases}$$\n",
    "              </td>\n",
    "            <td style=\"border: none;\">\n",
    "$$\\begin{cases}\n",
    "0, & \\text{for } x<0\\\\ \n",
    "1, & \\text{for } x\\geq 0\n",
    "\\end{cases}$$\n",
    "            </td>\n",
    "            <td style=\"border: none;\">\n",
    "$$[0,\\infty )$$\n",
    "            </td>\n",
    "        </tr>\n",
    "        <tr style=\"border: none;\">\n",
    "            <td style=\"border: none;\">\n",
    "Leaky ReLU\n",
    "            </td>\n",
    "            <td style=\"border: none;\">\n",
    "$$\\begin{cases}\n",
    "\\alpha x, & \\text{for } x<0\\\\ \n",
    "x, & \\text{for } x\\geq 0\n",
    "\\end{cases}$$\n",
    "            </td>\n",
    "            <td style=\"border: none;\">\n",
    "$$\\begin{cases}\n",
    "\\alpha, & \\text{for } x<0\\\\ \n",
    "1, & \\text{for } x\\geq 0\n",
    "\\end{cases}$$\n",
    "            </td>\n",
    "            <td style=\"border: none;\">\n",
    "$$(-\\infty ,\\infty )$$\n",
    "            </td>\n",
    "        </tr>\n",
    "        <tr style=\"border: none;\">\n",
    "            <td style=\"border: none;\">\n",
    "ELU\n",
    "            </td>\n",
    "            <td style=\"border: none;\">\n",
    "$$\\begin{cases}\n",
    "\\alpha(\\mathrm{e}^{x}-1), & \\text{for } x<0\\\\ \n",
    "x, & \\text{for } x\\geq 0\n",
    "\\end{cases}$$\n",
    "            </td>\n",
    "            <td style=\"border: none;\">\n",
    "$$\\begin{cases}\n",
    "\\alpha \\mathrm{e}^{x}, & \\text{for } x<0\\\\ \n",
    "1, & \\text{for } x\\geq 0\n",
    "\\end{cases}$$\n",
    "            </td>\n",
    "            <td style=\"border: none;\">\n",
    "$$[-\\alpha ,\\infty )$$\n",
    "            </td>\n",
    "        </tr>\n",
    "        <tr style=\"border: none;\">\n",
    "            <td style=\"border: none;\">\n",
    "Sigmoid\n",
    "            </td>\n",
    "            <td style=\"border: none;\">\n",
    "$$\\frac{1}{1+\\mathrm{e}^{-x}}$$\n",
    "            </td>\n",
    "            <td style=\"border: none;\">\n",
    "$$\\frac{\\mathrm{e}^{-x}}{(1+\\mathrm{e}^{-x})^2}$$\n",
    "            </td>\n",
    "            <td style=\"border: none;\">\n",
    "$$(0,1)$$\n",
    "            </td>\n",
    "        </tr>\n",
    "        <tr style=\"border: none;\">\n",
    "            <td style=\"border: none;\">\n",
    "tanh\n",
    "            </td>\n",
    "            <td style=\"border: none;\">\n",
    "$$\\tanh(x)=\\frac{\\mathrm{e}^{2x}-1}{\\mathrm{e}^{2x}+1}$$\n",
    "            </td>\n",
    "            <td style=\"border: none;\">\n",
    "$$1-\\tanh^2(x)$$\n",
    "            </td>\n",
    "            <td style=\"border: none;\">\n",
    "$$(-1,1)$$\n",
    "            </td>\n",
    "        </tr>\n",
    "    </tbody>\n",
    "</table>"
   ]
  },
  {
   "cell_type": "markdown",
   "metadata": {},
   "source": [
    "Another common non-linear operations in a NN model are the pooling functions.\n",
    "They are aggregation operations that reduce dimensionality while keeping dominant\n",
    "features. Assume a pooling size ofqand an input vector to a hidden layer of size\n",
    "d, $z =[z 1 ,z 1 , ...,zd]$. For every $m ∈ [ 1 ,d]$, the subset of the input vector $z ̃ =\n",
    "[zm,zm+ 1 , ...,zq+m]$ may undergo one of the following popular pooling operations:"
   ]
  },
  {
   "cell_type": "markdown",
   "metadata": {},
   "source": [
    "Max pooling: $g(\\mathbf{\\tilde{z}})=\\max_i \\mathbf{\\tilde{z}}$\n",
    "\n",
    "Mean pooling: $g(\\mathbf{\\tilde{z}})=\\frac{1}{q}\\sum_{i=m}^{q+m}z_i$\n",
    "\n",
    "$\\ell_p$ pooling: $g(\\mathbf{\\tilde{z}})=\\sqrt[p]{\\sum_{i=m}^{q+m} z^p_i}$"
   ]
  },
  {
   "cell_type": "markdown",
   "metadata": {},
   "source": [
    "All pooling operations are characterized by a stride, $s$, that effectively defines the output dimensions. Applying pooling with a stride $s$, is equivalent to applying the pooling with no stride (i.e., $s=1$) and then sub-sampling by a factor of $s$. It is common to add zero padding to $\\mathbf{z}$ such that its length is divisible by $s$."
   ]
  },
  {
   "cell_type": "markdown",
   "metadata": {},
   "source": [
    "Another very common non-linear function is the $\\textit{softmax}$, which normalizes vectors into probabilities. The output of the model, the embedding, may undergo an additional linear layer to transform it to a vector of size $1 \\times N$, termed $\\textit{logits}$, where $N$ is the number of classes. The logits, here denoted as $\\mathbf{v}$, are the input to the softmax operation defined as follows: \n",
    "\\begin{equation}\\label{eq:softmax}\n",
    "    \\text{softmax}(v_i)=\\frac{\\mathrm{e}^{v_i}}{\\sum_{j=1}^{N}\\mathrm{e}^{v_j}}, ~~~~~ i\\in[1,...,N]. \\quad \\quad (2)\n",
    "\\end{equation}\n",
    "\n"
   ]
  },
  {
   "cell_type": "markdown",
   "metadata": {},
   "source": [
    "## 3 Loss functions"
   ]
  },
  {
   "cell_type": "markdown",
   "metadata": {},
   "source": [
    "Defining the loss function of the model, denoted as $\\mathcal{L}$, is critical and usually chosen based on the characteristics of the dataset and the task at hand. \n",
    "Though datasets can vary, tasks performed by NN models can be divided into two coarse groups: (1) regression tasks and (2) classification tasks.\n",
    "\n",
    "A regression problem aims at approximating a mapping function from input variables to a continuous output variable(s). \n",
    "For NN tasks, the output of the network should predict a continues value of interest. %, as opposed to discrete values. \n",
    "Common NN regression problems include image denoising[148], deblurring [84], inpainting [142] and more.\n",
    "In these tasks, it is common to use the Mean Squared Error (MSE), Structural SIMilarity (SSIM) or $\\ell_1$ loss as the loss function. \n",
    "The MSE ($\\ell_2$ error) imposes a larger penalty for larger errors, compared to the $\\ell_1$ error which is more robust to outliers in the data. \n",
    "The SSIM, and its multiscale version [149], help improving the perceptual quality."
   ]
  },
  {
   "cell_type": "markdown",
   "metadata": {},
   "source": [
    "In the _classification_ task, the goal is to identify the correct class of a given\n",
    "sample from pre-defined $N$ classes. A common loss function for such tasks is the _cross-entropy_  loss. \n",
    "It is implemented based on a normalized vector of probabilities corresponding to a list of potential outcomes. This normalized vector is calculated by the softmax non-linear function (Eq. (2)). The cross-entropy loss is defined as:\n",
    "\n",
    "\\begin{equation}\\label{eq:cross-entropy}\n",
    "\\mathcal{L}_{CE}=-\\sum_{i=1}^{N}y_i\\log(p_i), \\quad \\quad (3)\n",
    "\\end{equation}\n",
    "\n",
    "where $y_i$ is the ground-truth probability (the label) of the input to belong to class $i$ and $p_i$ is the  model prediction score for this class. The label is usually binary, i.e., it contains $1$ in a single index (corresponding to the true class). This type of representation is known as _one-hot encoding_. The class is predicted in the network by selecting the largest probability and the log-loss is used to increase this probability. "
   ]
  },
  {
   "cell_type": "markdown",
   "metadata": {},
   "source": [
    "Notice that a network may provide multiple outputs per input data-point. For example, in the problem of image semantic segmentation, the network predicts a class for each pixel in the image. In the task of object detection, the network outputs a list of objects, where each is defined by a bounding box (found using a regression loss) and a class (found using a classification loss). Section 7.1 details these different tasks.\n",
    "Since in some problems, the labeled data are imbalanced, one may use weighted softmax (that weigh less frequent classes) or the focal loss [72]. "
   ]
  },
  {
   "cell_type": "markdown",
   "metadata": {},
   "source": [
    "### 3.1 Metric Learning"
   ]
  },
  {
   "cell_type": "markdown",
   "metadata": {},
   "source": [
    "An interesting property of the log-loss function used for classification is that it implicitly cluster classes in the network embedding space during training. However, for a clustering task, these vanilla distance criteria often produce unsatisfactory performance as different class clusters can be positioned closely in the embedding space and may cause miss-classification for samples that do not reside in the specific training set distribution."
   ]
  },
  {
   "cell_type": "markdown",
   "metadata": {},
   "source": [
    "Therefore, different metric learning techniques have been developed to produce an embedding space that brings closer intra-class samples and increases inter-class distances. This results in better accuracy and robustness of the network. It allows the network to be able to distinguish between two data samples if they are from the same class or not, just by comparing their embeddings, even if their classes have not been present at training time."
   ]
  },
  {
   "cell_type": "markdown",
   "metadata": {},
   "source": [
    "Metric learning is very useful for tasks such as face recognition and identification, where the number of subjects to be tested are not known at training time and new identities that were not present during training should also be identified/recognized (e.g., given two images the network should decide whether these correspond to the same or different persons). "
   ]
  },
  {
   "cell_type": "markdown",
   "metadata": {},
   "source": [
    "An example for a popular metric loss is the _triplet loss_ [109]. It enforces a margin between instances of the same class and other classes in the embedding feature space. This approach increases performance accuracy and robustness due to the large separation between class clusters in the embedding space.\n",
    "The triplet loss can be used in various tasks, namely detection, classification, recognition and other tasks of unknown number of classes."
   ]
  },
  {
   "cell_type": "markdown",
   "metadata": {},
   "source": [
    "In this approach, three instances are used in each training step $i$: an anchor $\\mathbf{x}_i^a$, another instance $\\mathbf{x}_i^p$ from the same class of the anchor (positive sample), and a sample $\\mathbf{x}_i^n$ from a different class (negative class).\n",
    "They are required to obey the following inequality:\n"
   ]
  },
  {
   "cell_type": "markdown",
   "metadata": {},
   "source": [
    "\\begin{equation}\n",
    "    \\left\\Vert \\Phi(\\mathbf{x}_i^a)-\\Phi(\\mathbf{x}_i^p) \\right\\Vert_2^2+\\alpha<\\left\\Vert \\Phi(\\mathbf{x}_i^a)-\\Phi(\\mathbf{x}_i^n)\\right\\Vert_2^2, \\quad \\quad (4)\n",
    "\\end{equation}\n",
    "where $\\alpha<0$ enforces the wanted margin from other classes.\n",
    "Thus, the triplet loss is defined by:\n",
    "\\begin{equation}\n",
    "    \\mathcal{L}=\\sum_i\\left\\Vert \\Phi(\\mathbf{x}_i^a)-\\Phi(\\mathbf{x}_i^p)\\right\\Vert_2^2-\\left\\Vert \\Phi(\\mathbf{x}_i^a)-\\Phi(\\mathbf{x}_i^n)\\right\\Vert_2^2+\\alpha. \\quad \\quad (5)\n",
    "\\end{equation}"
   ]
  },
  {
   "cell_type": "markdown",
   "metadata": {},
   "source": [
    "Fig. 7 presents a  schematic illustration of the triplet loss influence on samples in the embedding space. \n",
    "This illustration also exhibits a specific triplet example, where the positive examples are relatively far from the anchor while negative examples are relatively near the anchor. Finding such examples that violate the triplet condition is desirable during training. They may be found by on-line or off-line searches known as \\textit{hard negative mining}. A preprocessing of the instances in the embedding space is performed to find violating examples for training the network.\n",
    "\n",
    "Finding the \"best\" instances for training can, evidently, aid in achieving improved convergence. However, searching for them is often time consuming and therefore alternative techniques are being explored. "
   ]
  },
  {
   "cell_type": "markdown",
   "metadata": {},
   "source": [
    "![triplet.png](2003.03253v1-resources/20031.03253v1-pics/triplet.png)\n",
    "\n",
    "Fig. 7: Triplet loss: minimizes the distance between two similar class examples (anchor and positive), and maximizes the distance between two different class examples\n",
    "(anchor and negative)."
   ]
  },
  {
   "cell_type": "markdown",
   "metadata": {},
   "source": [
    "An intriguing metric learning approach relies on 'classification'-type loss functions, where the network is trained given a fixed number of classes. Yet, these losses are designed to create good embedding space that creates margin between classes, which in turn provides good prediction of similarity between two inputs. Popular examples include the Cos-loss [134], Arc-loss [23] and SphereFace [76]."
   ]
  },
  {
   "cell_type": "markdown",
   "metadata": {},
   "source": [
    "## 4 Neural network training"
   ]
  },
  {
   "cell_type": "markdown",
   "metadata": {},
   "source": [
    "Given a loss function, the weights of the neural network are updated to minimize it for a given training set. The training process of a neural network requires a large database due to the nature of the network (structure and amount of parameters) and GPUs for efficient training implementation.\n",
    "\n",
    "In general, training methods can be divided into supervised and unsupervised training. The former consists of labeled data that are usually very expensive and time consuming to obtain. Whereas the latter is the more common case and does not assume known ground-truth labels.\n",
    "However, supervised training usually achieves significantly better network performance compared to the unsupervised case. Therefore, a lot of resources are invested in labeling datasets for training. Thus, we focus here mainly on the supervised setting. \n",
    " \n",
    "In neural networks, regardless of the model task, all training phases have the same goal: to minimize a pre-defined error function, also denoted as the loss/cost function. \n",
    "This is done in two stages: (a) a feed-forward pass of the input data through all the network layers, calculating the error using the predicted outputs and their ground-truth labels (if available); followed by (b) backpropogation of the errors through the network to update their weights, from the last layer to the first. \n",
    "This process is performed continuously to find the optimized values for the weights of the network. \n",
    "\n",
    "The backpropagation algorithm provides the gradients of the error with respect to the network weights. These gradients are used to update the weights of the network. Calculating them based on the whole input data is computationally demanding and therefore, the common practice is to use subsets of the training set, termed $\\textit{mini-batches}$, and cycle over the entire training set multiple times. Each cycle of training over the whole dataset is termed an $\\textit{epoch}$ and in every cycle the data samples are used in a random order to avoid biases.\n",
    "The training process ends when convergence in the loss function is obtained. Since most NN problems are not convex, an optimal solution is not assured. We turn now to describe in more details the training process using backpropagation."
   ]
  },
  {
   "cell_type": "markdown",
   "metadata": {},
   "source": [
    "### 4.1 Backpropogation"
   ]
  },
  {
   "cell_type": "markdown",
   "metadata": {},
   "source": [
    "![example.png](2003.03253v1-resources/20031.03253v1-pics/example.png)"
   ]
  },
  {
   "cell_type": "markdown",
   "metadata": {},
   "source": [
    "The backpropagation process is performed to update all the parameters of the model, with the goal of decreasing the loss function value. \n",
    "The process starts with a feed-forward pass of input data, $\\mathbf{x}$, through all the network layers. After which the loss function value is calculated and denoted as $\\mathcal{L}(\\mathbf{x},{\\bf W})$, where ${\\bf W}$ are the model parameters (including the model weights and biases, for formulation convenience). \n",
    "Then the backpropagation is initiated by computing the value of:~$\\frac{\\partial \\mathcal{L}}{\\partial {\\bf W}}$, followed by the update of the network weights. All the weights are updated recursively by calculating the gradients of every layer, from the final one to the input layer, using the chain rule.\n",
    "\n",
    "Denote the output of layer $l$ as ${\\bf z}^{(l)}$. Following the chain rule, the gradients of a given layer $l$ with parameters ${\\bf W}^{(l)}$ with respect to its input ${\\bf z}^{(l)}$ are:"
   ]
  },
  {
   "cell_type": "markdown",
   "metadata": {},
   "source": [
    "\\begin{equation}\n",
    "    \\frac{\\partial \\mathcal{L}}{\\partial {\\bf z}^{(l-1)}}=\\frac{\\partial \\mathcal{L}}{\\partial {\\bf z}^{(l)}}\\cdot\\frac{\\partial {\\bf z}^{(l)}({\\bf W}^{(l)},{\\bf z}^{(l-1)})}{\\partial {\\bf z}^{(l-1)}}, \\quad (6)\n",
    "\\end{equation}\n",
    "and the gradients with respect to the parameters are:\n",
    "\\begin{equation}\n",
    "    \\frac{\\partial \\mathcal{L}}{\\partial {\\bf W}^{(l)}}=\\frac{\\partial \\mathcal{L}}{\\partial {\\bf z}^{(l)}}\\cdot\\frac{\\partial {\\bf z}^{(l)}({\\bf W}^{(l)},{\\bf z}^{(l-1)})}{\\partial {\\bf W}^{(l)}}. \\quad (7)\n",
    "\\end{equation}"
   ]
  },
  {
   "cell_type": "markdown",
   "metadata": {},
   "source": [
    "These two formulas of the backpropagation algorithm dictate the gradients calculation with respect to the parameters for each layer in the network and, therefore, the optimization can be performed using gradient-based optimizers (see Section 5 for more details).\n",
    "\n",
    "To demonstrate the use of the backpropagation technique for the calculation of the network gradients, we turn to consider an example of a simple classification model with two-layers: a fully-connected layer with a ReLU activation function followed by another fully-connected layer with softmax function and log-loss. See Fig. 8 for the model illustration."
   ]
  },
  {
   "cell_type": "markdown",
   "metadata": {},
   "source": [
    "Denote by ${\\bf z}^{(3)}$ the output of the softmax layer and assume that the input $\\mathbf{x}$ belongs to class $k$ (using one-hot encoding $y_k=1$). The log-loss in this case is:\n",
    "\\begin{equation}\n",
    "    \\mathcal{L}=-\\sum_i\\log\\big(z_i^{(3)}\\big)y_i=-\\log\\Bigg(\\frac{\\exp\\big(z^{(2)}_k\\big)}{\\sum_i\\exp\\big(z^{(2)}_i\\big)}\\Bigg)=-z^{(2)}_k+\\log\\Big(\\sum_j \\exp{z^{(2)}_j}\\Big).\n",
    "    \\quad(8)\n",
    "\\end{equation}\n",
    "For all $i\\neq k$, the gradient of the error with respect to the softmax input $z_i^{(2)}$ is \n",
    "\\begin{equation}\n",
    "    \\frac{\\partial \\mathcal{L}}{\\partial z^{(2)}_i}=\\frac{\\exp\\big({z^{(2)}_i}\\big)}{\\sum_j\\exp\\big(z^{(2)}_j\\big)}\\equiv g_i.\n",
    "    \\quad\\quad\\quad\\quad\\quad\\quad\\quad\\quad\\quad\\quad\\quad\\quad\\quad\\quad\\quad\\quad\\quad\\quad(9)\n",
    "\\end{equation}\n",
    "Notice that this implies that we need to decrease the value of  $z_i^{(2)}$ (the $i^{\\text{th}}$-logit)  proportionally to the probability the network provides to it. \n",
    "While for the correct label, $i=k$, the derivative is:\n",
    "\\begin{equation}\n",
    "    \\frac{\\partial \\mathcal{L}}{\\partial z^{(2)}_k}=-1+\\frac{\\exp\\big({z^{(2)}_k}\\big)}{\\sum_j\\exp\\big(z^{(2)}_j\\big)}= g_k-1,\n",
    "    \\quad\\quad\\quad\\quad\\quad\\quad\\quad\\quad\\quad\\quad\\quad\\quad\\quad\\quad\\quad(10)\n",
    "\\end{equation}\n",
    "which implies that the value of the logit element associated with the true label should be increased proportionally to the mistake the network is currently doing in the prediction."
   ]
  },
  {
   "cell_type": "markdown",
   "metadata": {},
   "source": [
    "The output ${\\bf z}^{(2)}$ is a product of a fully-connect layer. Therefore, it can be formulated as follows:\n",
    "\\begin{equation}\n",
    "    {\\bf z}^{(2)}={\\bf W}^{(2)}\\tilde{{\\bf z}}^{(1)},\n",
    "    \\quad\\quad\\quad\\quad\\quad\\quad\\quad\\quad\\quad\\quad\\quad\\quad\\quad\\quad\\quad\\quad\\quad(11)\n",
    "\\end{equation}\n",
    "where $\\tilde{{\\bf z}}^{(1)}$ is the output of the ReLu function. \n",
    "Following the backpropagation rules we get that for this layer, the derivative with respect to its input is:\n",
    "\\begin{equation}\\label{eq:backprop_fc2}\n",
    "    \\frac{\\partial \\mathcal{L}}{\\partial \\tilde{{\\bf z}}^{(1)}}=\\frac{\\partial \\mathcal{L}}{\\partial {\\bf z}^{(2)}}\\cdot\\frac{\\partial {\\bf z}^{(2)}({\\bf W}^{(2)},\\tilde{{\\bf z}}^{(1)})}{\\partial \\tilde{{\\bf z}}^{(1)}}=\\frac{\\partial \\mathcal{L}}{\\partial {\\bf z}^{(2)}}\\cdot{\\bf W}^{(2)},\n",
    "    \\quad\\quad\\quad\\quad\\quad\\quad(12)\n",
    "\\end{equation}\n",
    "whereas, the derivative with respect to its parameters is:\n",
    "\\begin{equation}\n",
    "    \\frac{\\partial \\mathcal{L}}{\\partial {\\bf W}^{(2)}}=\\frac{\\partial \\mathcal{L}}{\\partial {\\bf z}^{(2)}}\\cdot\\frac{\\partial {\\bf z}^{(2)}({\\bf W}^{(2)},\\tilde{{\\bf z}}^{(1)})}{\\partial {\\bf W}^{(1)}}=\\frac{\\partial \\mathcal{L}}{\\partial {\\bf z}^{(2)}}\\cdot \\tilde{{\\bf z}}^{(1)}. \\quad\\quad\\quad\\quad\\quad\\quad(13)\n",
    "\\end{equation}\n",
    "The ReLU operation has no weight to update, but affects the gradients. The derivative of this stage follows:\n",
    "\\begin{equation}\n",
    "    \\frac{\\partial \\mathcal{L}}{\\partial {\\bf z}^{(1)}}=\\frac{\\partial \\mathcal{L}}{\\partial \\tilde{{\\bf z}}^{(1)}}\\cdot\\frac{\\partial \\tilde{{\\bf z}}^{(1)}({\\bf W}^{(1)},I)}{\\partial {\\bf z}^{(1)}}=\\begin{cases}\n",
    "0, &\\text{if } {\\bf z}^{(1)}<0\\\\\n",
    "\\frac{\\partial \\mathcal{L}}{\\partial \\tilde{{\\bf z}}^{(1)}}, &\\text{otherwise}. \\quad\\quad\\quad\\quad(14)\n",
    "\\end{cases}\n",
    "\\end{equation}\n",
    "The final derivative with respect to the input $\\partial \\mathcal{L}/\\partial \\mathbf{x}$ is calculated similar to Eq. (12)."
   ]
  },
  {
   "cell_type": "markdown",
   "metadata": {},
   "source": [
    "### 4.2 Training considerations"
   ]
  },
  {
   "cell_type": "markdown",
   "metadata": {},
   "source": [
    "There are several considerations that should be addressed when training a NN. \n",
    "The most infamous is the $\\textit{overfitting}$, i.e., when the model too closely fits to the training dataset but does not generalize well to the test set. \n",
    "When this occurs, high training data precision is achieved, while the precision on the test data (not used during training) is low [129]. \n",
    "For this purpose, various regularization techniques have been proposed. We discuss some of them in Section 6.\n",
    "\n",
    "A second consideration is the vanishing/exploding gradients occurring during training.\n",
    "Vanishing gradients are a result of multiplications with values smaller than one during their calculation in the backpropagation recursion. This can be resolved using activation functions and batch normalization detailed in Section 6.\n",
    "On the other hand, the gradients might also explode due to derivatives that are significantly larger than one in the backpropogation calculation. This makes the training unstable and may imply the need for re-designing the model (e.g., replace a vanilla RNN with a gated architecture such as LSTMs) or the use of gradient clipping [91].\n",
    "\n",
    "Another important issue is the requirement that the training dataset must represent the true distribution of the task at hand. This usually enforces very large annotated datasets, which necessitate significant funding and manpower to obtain. In this case, considerable efforts must be invested to train the network using these large datasets, commonly with multiple GPUs for several days [62, 58]. One may use techniques such as domain adaptation [138] or transfer learning [128] to use already existing networks or large datasets for new tasks. \n",
    "  "
   ]
  },
  {
   "cell_type": "markdown",
   "metadata": {},
   "source": [
    "## 5 Training optimizers"
   ]
  },
  {
   "cell_type": "markdown",
   "metadata": {},
   "source": [
    "Training neural networks is done by applying an optimizer to reach an optimal solution for the defined loss function. \n",
    "Its goal is to find the parameters of the model, e.g., weights and biases, which achieve minimum error for the training set samples: $(\\mathbf{x}_i, y_i)$, where $y_i$ is the label for the instance $\\mathbf{x}_i$. For a loss function $\\mathcal{L}(\\cdot)$, the objective reads as:\n",
    "\\begin{equation}\n",
    "\\label{eq:training_error}\n",
    "    \\sum_i{\\mathcal{L}(\\Phi(\\mathbf{x}_i,\\mathbf{W}),y_i)}, \\quad\\quad\\quad\\quad\\quad\\quad(15)\n",
    "\\end{equation}\n",
    "for ease of notation, all model parameters are denoted as $\\mathbf{W}$.\n",
    "A variety of optimizers have been proposed and implemented for minimizing Eq. 15. Yet, \n",
    "due to the size of the network and training dataset, mainly first-order methods are being considered, i.e. strategies that rely only on the gradients (and not on second-order derivatives such as the Hessian)."
   ]
  },
  {
   "cell_type": "markdown",
   "metadata": {},
   "source": [
    "Several gradient based optimizers are commonly used for updating the parameters of the model. \n",
    "These NN parameters are updated in the opposite direction of the objective function's gradient, $g_{\\{\\text{GD},\\mathcal{T}(t)\\}}$, where $\\mathcal{T}(t)$ is a randomly chosen subgroup of size $n'<n$ training samples used in iteration $t$ ($n$ is the size of the training dataset). Namely, at iteration $t$ the weights are calculated as\n",
    "\\begin{equation}\\label{eq:update_weights}\n",
    "\\mathbf{W}(t)=\\mathbf{W}(t-1)-\\eta \\cdot g_{\\{\\text{GD},\\mathcal{T}(t)\\}}, \\quad\\quad\\quad\\quad\\quad\\quad(16)\n",
    "\\end{equation}\n",
    "where $\\eta$ is the learning rate that determines the size of the steps taken to reach the (local) minimum and the gradient step, $g_{\\text{\\{GD},\\mathcal{T}(t)\\}}$ is computed using the samples in $\\mathcal{T}(t)$ as\n",
    "\\begin{equation}\\label{eq:GD}\n",
    "g_{\\text{\\{GD},\\mathcal{T}(t)\\}} = \\frac{1}{n'}\\sum_{i\\in \\mathcal{T}(t)}\\nabla _{W}\\mathcal{L}(\\mathbf{W} (t);\\mathbf{x}_i;y_i), \\quad\\quad\\quad\\quad\\quad(17)\n",
    "\\end{equation}\n",
    "where the pair $(\\mathbf{x}_i,y_i)$ is a training example and its corresponding label in the training set, and $\\mathcal{L}$ is the loss function. \n",
    "However, needless to say that calculating the gradient on the whole dataset is computationally demanding. \n",
    "To this end, Stochastic Gradient Descent (SGD) is more popular, since it calculates the gradient in Eq. 17 for only one randomly chosen example from the data, i.e., $n'=1$."
   ]
  },
  {
   "cell_type": "markdown",
   "metadata": {},
   "source": [
    "\n",
    "Since the update by SGD depends on a different sample at each iteration, it has a high variance that causes the loss value to fluctuate. \n",
    "While this behavior may enable it to jump to a new and potentially better local minima, it might ultimately complicates convergence, as SGD may keep overshooting. \n",
    "To improve convergence and exploit parallel computing power, mini-batch SGD is proposed in which the gradient in Eq. 17 is calculated with $n'>1$ (but not all the data).\n",
    "\n",
    "An acceleration in convergence may be obtained by using the history of the last gradient steps, in order to stabilize the optimization. One such approach uses adaptive momentum instead of a fixed step size. This is calculated based on exponential smoothing on the gradients, i.e:\n",
    "\\begin{equation}\n",
    "\\begin{aligned}\n",
    "    M(t)&=\\beta\\cdot M(t-1)+(1-\\beta)\\cdot g_{\\{\\text{SGD},\\mathcal{T}(t)\\}},\\\\\n",
    "    \\mathbf{W}(t)&=\\mathbf{W}(t-1)-\\eta M(t), \\quad \\quad \\quad \\quad \\quad \\quad \\quad \\quad (18)\n",
    "\\end{aligned}\n",
    "\\end{equation}    \n",
    "where $M(t)$ approximates the $1^\\text{st}$ moment of $g_{\\{\\text{SGD},\\mathcal{T}(t)\\}}$. A typical value for the constant is $\\mbox{$\\beta\\sim 0.9$}$, which implies taking into account the last $10$ gradient steps in the momentum variable $M(t)$ [95]. \n",
    "\n",
    "A well-known variant of Momentum proposed by Nestrov $\\textit{et al.}$ [85] is the Nestrov Accelerated Gradient (NAG). It is similar to Momentum but calculates the gradient step as if the network weights have been already updated with the current Momentum direction.\n"
   ]
  },
  {
   "cell_type": "markdown",
   "metadata": {},
   "source": [
    "\n",
    "Another popular technique is the Adaptive Moment Estimation (ADAM) [61], which also computes adaptive learning rates. In addition to storing an exponentially decaying average of past squared gradients, $V(t)$, ADAM also keeps an exponentially decaying average of past gradients, $M(t)$, in the following way:\n",
    "\n",
    "\\begin{equation}\n",
    "\\begin{aligned}\n",
    "M(t)&=\\beta_1M(t-1)+(1-\\beta_1)g_t, \\\\\n",
    "V(t)&=\\beta_2V(t-1)+(1-\\beta_2)g_t^2, \\quad \\quad (19)\n",
    "\\end{aligned}\n",
    "\\end{equation}\n",
    "\n",
    "where $g_t$ is the gradient of the current batch, $\\beta_1$ and $\\beta_2$ are ADAM's hyperparameters, usually set to 0.9 and 0.999 respectively, and $M(t)$ and $V(t)$ are estimates of the first moment (the mean) and the second moment (the uncentered variance) of the gradients respectively. Hence the name of the method - Adaptive Moment Estimation.\n",
    "As $M(t)$ and $V(t)$ are initialized as vectors of 0’s, the authors of ADAM observe that they are biased towards zero, especially during the initial time steps. To counteract these biases, a bias-corrected first and second moment are used: $\\mbox{$\\hat{M}(t)=M(t)/(1-\\beta_1(t))$}$ and $\\mbox{$\\hat{V}(t)=V(t)/(1-\\beta_2(t))$}$. Therefore, the ADAM update rule is as follows:\n",
    "\\begin{equation}\n",
    "\\mathbf{W}(t+1)=\\mathbf{W}(t)-\\frac{\\eta}{\\sqrt{\\hat{V}(t)+\\epsilon}}\\hat{M}(t). \\quad \\quad (20)\n",
    "\\end{equation}\n",
    "ADAM has two popular extensions: AdamW by Loshchilov $\\textit{et al.}$ [78] and AMSGrad by Redddi $\\textit{et al.}$ [97]. \n",
    "There are several additional common optimizers that have adaptive momentum, such as AdaGrad [29], AdaDelta [146] or RMSprop [21].\n",
    "It must be noted that since the NN optimization is non-convex, the minimal error point reached by each optimizer is rarely the same. Thus, speedy convergence is not always favored. In particular, it has been observed that Momentum leads to better generalization than ADAM, which usually converges faster [60]. Thus, the common practice is to make the development with ADAM and then make the final training with Momentum.\n"
   ]
  },
  {
   "cell_type": "markdown",
   "metadata": {},
   "source": [
    "![cat_crop.png](2003.03253v1-resources/20031.03253v1-pics/cat_crop.png)\n",
    "\n",
    "![cat_flip.png](2003.03253v1-resources/20031.03253v1-pics/cat_flip.png)\n",
    "\n",
    "![cat_noised.png](2003.03253v1-resources/20031.03253v1-pics/cat_noised.png)\n",
    "\n",
    "![cat.png](2003.03253v1-resources/20031.03253v1-pics/cat.png)"
   ]
  },
  {
   "cell_type": "markdown",
   "metadata": {},
   "source": [
    "Fig. 9: Different image augmentations."
   ]
  },
  {
   "cell_type": "markdown",
   "metadata": {},
   "source": [
    "## 6 Training regularizations"
   ]
  },
  {
   "cell_type": "markdown",
   "metadata": {},
   "source": [
    "One of the great advantageous of NN is their ability to generalize, i.e., correctly predict unseen data [52]. This must be ensured during the training process and is accomplished by several regularization methods, detailed here. \n",
    "The most common are weight decay [63], dropout [121], batch normalization [50] and the use of data augmentation [166]. \n",
    "\n",
    "$\\textit{Weight decay}$ is a basic tool to limit the growth of the weights by adding a regularization term to the cost function for large weights, which is  the sum of squares of all the weights, i.e., $\\sum_i |W_i|^2$. \n",
    "\n",
    "The key idea in $\\textit{dropout}$ is to randomly drop units (along with their connections) from the neural network during training and thus prevent units from co-adapting too much. The percentage of dropped units is critical since a large amount will result in poor learning. Common values are $20\\%-50\\%$ dropped units. \n",
    "\n",
    "$\\textit{Batch normalization}$ is a mean to deal with changes in the distribution of the model's parameters during training. The layers need to adapt to these (often noisy) changes between instances during training. Batch normalization causes the features of each training batch to have a mean of 0 and a variance of 1 in the layer it is being applied.\n",
    "To normalize a value across a batch, i.e. to batch normalize the value, the batch mean, $\\mu _B$, is subtracted and the result is divided by the batch standard deviation, $\\sqrt{\\sigma _B^2+\\epsilon}$. Note that a small constant $\\epsilon$ is added to the variance in order to avoid dividing by zero. The batch normalizing transform of a given input, $\\mathbf{x}$, is:\n",
    "\n",
    "\\begin{equation}\n",
    "\\text{BN}(\\mathbf{x})=\\gamma \\Bigg( \\frac{\\mathbf{x}-\\mu_B}{\\sqrt{\\sigma _B^2+\\epsilon}}\\Bigg)+\\beta. \\quad (21)\n",
    "\\end{equation}\n",
    "\n",
    "Notice the (learnable) scale and bias parameters $\\gamma$ and $\\beta$, which provides the NN with freedom to deviate from the zero mean and unit variance.\n",
    "BN is less effective when used with small batch sizes since in this case the statistics calculated per each is less accurate. Thus, techniques such as group normalization [139] or Filter Response Normalization (FRN) [118] have been proposed.\n",
    "\n",
    "$\\textit{Data augmentation}$ is a very common strategy used during training to artificially \"increase\" the size of the training data and make the network robust to transformations that do not change the input label. \n",
    "For example, in the task of classification a shifted cat is still a cat; see Fig. 9 for more similar augmentation. In the task of denoising, flipped noisy input should result in a flipped clean output. Thus, during training the network is trained also with the transformed data to improve its performance. \n",
    "\n",
    "Common augmentations are randomly flipping, rotating, scaling, cropping, translating, or adding noise to the data. Other more sophisticated techniques that lead to a significant improvement in network performance include mixup [147], cutout [26] and augmentations that are learned automatically [18, 71, 19]. "
   ]
  },
  {
   "cell_type": "markdown",
   "metadata": {},
   "source": [
    "## 7 Advanced NN architectures\n",
    "\n",
    "The basic building blocks, which compose the NN model architecture, are used in frequently innovative structures.\n",
    "In this section, such known architectures with state-of-the-art performance are presented, divided by tasks and data types: detection and segmentation  tasks are described in Section 7.1, sequential data handling is elaborated in Section 7.2 and processing data on irregular grids is presented in Section 7.3. Clearly, there are many other use-cases and architectures, which are not mentioned here. "
   ]
  },
  {
   "cell_type": "markdown",
   "metadata": {},
   "source": [
    "## 7.1 Deep learning for detection and segmentation"
   ]
  },
  {
   "cell_type": "markdown",
   "metadata": {},
   "source": [
    "Many research works focus on detecting multiple objects in a scene, due to its numerous applications. This problem can be divided into four sub-tasks as follows, where we refer here to image datasets although the same concept can be applied to different domains as well.\n",
    "\n",
    "\n",
    "1. $\\textit{Classification and localization}$: The main object in the image is detected and then localized by a surrounding bounding box and classified from a pre-known set.\n",
    "2. $\\textit{Object detection}$: Detection of all objects in a scene that belong to a pre-known set and then classifying and providing a bounding box for each of them.\n",
    "3. $\\textit{Semantic segmentation}$:  Partitioning the image into coherent parts by assigning each pixel in the image with its own classification label (associated with the object the pixel belongs to). For example, having a pixel-wise differentiation between animals, sky and background (generic class for all object that no class is assigned to) in an image.\n",
    "4. $\\textit{Instance segmentation}$: Multiple objects segmentation and classification from a pre-known set (similar to object detection but for each object all its pixels are identified instead of providing a bounding box for it).\n",
    "\n",
    "\n",
    "Today, state-of-the-art object detection performance is achieved with architectures such as Faster-RCNN [103, 135],, You Only Look Once (YOLO)  [98, 99, 100], Single Shot Detector (SSD) [75] and Fully Convolutional One-Stage Object Detection (FCOS) [150].\n",
    "The object detection models provide a list of detected bounding boxes with the class of each of them.\n",
    "\n",
    "Segmentation tasks are mostly implemented using fully convolutional network. Known segmentation models include UNet [104], Mask-RCNN [44] and Deeplab [11]. These architecture have the same input/output spatial size since the output represents the segmentation map of the input image. \n",
    "\n",
    "Both object detection and segmentation tasks are analyzed via the Intersection over Union (IoU) metric. The IoU is defined as the ratio between the intersection area of the object's ground-truth pixels, $B_g$, with the corresponding predicted pixels, $B_p$, and the union of these group of pixels. The IoU is formulated as:\n",
    "\n",
    "\\begin{equation}\n",
    "    \\text{IoU}=\\frac{\\text{Area}\\{B_g\\cap B_p\\}}{\\text{Area}\\{B_g\\cup B_p\\}}. \\quad \\quad (22)\n",
    "\\end{equation} \n",
    "\n",
    "As this measure evaluate only the quality of the bounding box, a mean Average Precision (mAP) is commonly used to evaluate the models performance. \n",
    "The mAP is defined as the ratio of the correctly detected (or segmented) objects, where an object is considered to be detected correctly if there is a bounding box for it with the correct class and a  IoU greater than 0.5 (or another specified constant). \n",
    "\n",
    "Another common evaluation metric is the F1 score, which is the harmonic average of the precision and the recall values. See Eq. (24) below. They are calculated using the following definitions that are presented for the case of semantic segmentation:"
   ]
  },
  {
   "cell_type": "markdown",
   "metadata": {},
   "source": [
    "- True Positive (TP): the predicted class of a pixel matches it ground-truth label.\n",
    "- False Positive (FP): the predicted pixel of an object was falsely determined.\n",
    "- False Negative (FN): a ground-truth pixel of an object was not predicted.\n",
    "\n",
    "Now that they are defined, the precision, recall and F1 are given by:\n",
    "\n",
    "\\begin{equation}\n",
    "    \\text{precision}=\\frac{\\text{TP}}{\\text{TP}+\\text{FP}},\\hspace{10pt}\n",
    "    \\text{recall}=\\frac{\\text{TP}}{\\text{TP}+\\text{FN}}\n",
    "    \\quad\\quad\\quad\\quad\\quad\\quad\\quad\\quad\\quad\\quad(23)\n",
    "\\end{equation}\n",
    "\n",
    "<br/>\n",
    "<br/>\n",
    "\n",
    "\\begin{equation}\\label{eq:F1_score}\n",
    "    \\text{F1}=2\\cdot\\frac{\\text{precision}\\cdot\\text{recall}}{\\text{precision}+\\text{recall}}.    \n",
    "    \\quad\\quad\\quad\\quad\\quad\\quad\\quad\\quad\\quad\\quad\\quad\\quad\\quad\\quad\\quad\\quad(24)\n",
    "\\end{equation}"
   ]
  },
  {
   "cell_type": "markdown",
   "metadata": {},
   "source": [
    "### 7.2 Deep learning on sequential data"
   ]
  },
  {
   "cell_type": "markdown",
   "metadata": {},
   "source": [
    "Sequential data are composed of time-sensitive signals such as the output of different sensors, audio recordings, NLP sentences or any signal that its order is of importance. Therefore, this data must be processed accordingly. \n",
    "\n",
    "Initially, sequential data was processed with Recurrent NN (RNN) [51] that has recurrent (feedback) connections, where outputs of the network at a given time-step serve as input to the model (in addition to the input data) at the next time-step. This introduces the time dependent feature of the NN. A RNN is illustrated in Fig. 4. \n",
    "\n",
    "However, it was quickly realized that during training, vanilla RNNs suffer from vanishing/exploding gradients. This phenomena, originated from the use of finite-precision back-propagation process, limits the size of the sequence. \n",
    "\n",
    "To this end, a corner stone block is used: the Long-Short-Term-Memory (LSTM [46]). Mostly used for NLP tasks, the LSTM is a RNN block with gates. \n",
    "During training, these gates learn which part of the sentence to forget or to memorize. \n",
    "The gating allow some of the gradients to backpropagate unchanged, which aids the vanishing gradient symptom.\n",
    "Notice that RNNs (and LSTMs) can process a sentence in a bi-directional mode, i.e., process a sentence in two directions, from the beginning to the end and vice verse. This mechanism allows a better grasp of the input context by the network.\n",
    "Examples for popular research tasks in NLP data include question answering [96], translation [65] and  text generation [41]."
   ]
  },
  {
   "cell_type": "markdown",
   "metadata": {},
   "source": [
    "${\\bf Sentences processing.}$ An important issue in NLP is representing words in preparation to serve as network input.\n",
    "The use of straight forward indices is not effective since there are thousands of words in a language. \n",
    "Therefore, it is common to process text data via $\\textit{word embedding}$, which is a vector representation of each word in some fixed dimension. This method enables to encapsulate relationships between words. \n",
    "\n",
    "A classic methodology to calculate the word embedding is $\\textit{Word2Vec}$ [81], in which these vector representations are calculated using a NN model that learn their context. \n",
    "More advanced options for creating efficient word representations include BERT [25], ELMO [92], RoBERTa [77] and XLNet [144].\n",
    "\n",
    "${\\bf Audio processing.}$ Audio recordings are used for multiple interesting tasks, such as speech to text, text to speech and speech processing. \n",
    "In the audio case, the common input to speech systems is the Mel Frequency Cepstral Coefficient (MFCC) or a Short Time Fourier Transform (STFT) image, as opposed to the audio raw-data.\n",
    "A milestone example for speech processing NN architecture is the $\\textit{wavenet}$ [89]. This architecture is an autoregressive model that synthesizes speech or audio signals. It is based on dilated convolutional layers that have large receptive fields, that allow efficient processing. Another prominent synthesis model for sequential data is the Tacotron [113].\n",
    "\n",
    "${\\bf The attention model.}$\n",
    "As mentioned in Section 2, one may use RNN for translation using the encoder decoder model, which encodes a source sentence into a vector, which is then decoded to a target language. \n",
    "Instead of relying on a compressed vector, which may lose information, the $\\textit{attention models}$ learn where or what to focus on from the whole input sequence. \n",
    "Introduced in 2015 [3], attention models have shown superior performance over encoder-decoder architectures in tasks such as translation, text to speech and image captioning.\n",
    "Recently, it has been suggested to replace the recurrent network structure totally by the attention mechanism, which results with the $\\textit{transformers network}$ models [131]."
   ]
  },
  {
   "cell_type": "markdown",
   "metadata": {},
   "source": [
    "### 7.3 Deep learning on irregular grids\n",
    "\n",
    "A wide variety of data acquisition mechanisms do not represent the data on a grid as is common with images data. A prominent example is 3D imaging (e.g. using LIDAR), where the input data are represented as points in a 3D space with or without color information. \n",
    "Processing such data is not trivial as standard network components, such as convolutions, assume a grid of the data. Therefore, they cannot be applied as is and custom operations are required. We focus our discussion here on the case of NN for 3D data.\n",
    "\n",
    "Today, real-time processing of 3D scenes can be achieved with advanced NN models that are customized to these irregular grids. The different processing techniques for these irregular grid data can be divided by the type of representation used for the data:"
   ]
  },
  {
   "cell_type": "markdown",
   "metadata": {},
   "source": [
    "1. ${\\bf Points processing.}$ 3D data points are processed as points in space, i.e., a list of the point coordinates is given as the input to the NN. A popular network for this representation is  $\\textit{PointNet}$ [93]. It is the first to efficiently achieve satisfactory results directly on the point cloud. Yet, it is limited by the number of points that can be analyzed, computational time and performance. Some more recent models that improves its performance include PointNet++ [94], PointCNN [69], DGCNN [136]. Strategies to improve its efficiency have been proposed in learning to sample [28] and RandLA-Net [48].\n",
    "\n",
    "\n",
    "2. ${\\bf Multi-view 2D projections.}$ 3D data points are projected (from various angles) to the 2D domain so that known 2D processing techniques can be used [70, 56]. \n",
    "\n",
    "\n",
    "3. ${\\bf Volumetric (voxels).}$ 3D data points are represented in a grid-based $\\textit{voxel}$ representation. This is analogous to a 2D representation and is therefore advantageous. However, it is computationally exhaustive [140] and losses resolution.\n",
    "\n",
    "\n",
    "4. ${\\bf Meshes.}$ Mesh represents the 3D domain via a graph that defines the connectivity between the different points. Yet, this graph has a special structure such that it creates the surface of the 3D shape (in the common case of triangular mesh, the shape surface is presented by a set of triangles connected to each other).\n",
    "    In 2015 Masci $\\textit{et al.}$ [6] have shown it is possible to learn features using DL on meshes. Since then, a significant advancement has been made in mesh processing [43, 83].\n",
    "\n",
    "\n",
    "5. ${\\bf Graphs.}$ Graph representations are common for representing non-linear structured data. Some works have proposed efficient NN models for 3D data points on a grid-based graph structure [122, 86]."
   ]
  },
  {
   "cell_type": "markdown",
   "metadata": {},
   "source": [
    "## 8 Summary"
   ]
  },
  {
   "cell_type": "markdown",
   "metadata": {},
   "source": [
    "This chapter provided a general survey of the basic concepts in neural networks. As\n",
    "this field is expanding very fast, the space is too short to describe all the developments\n",
    "in it, even though most of them are from the past eight years. Yet, we briefly mention\n",
    "here few important problems that are currently being studied."
   ]
  },
  {
   "cell_type": "markdown",
   "metadata": {},
   "source": [
    "\n",
    "1. ${\\bf Domain adaptation and transfer learning.}$ As many applications necessitate data that is very difficult to obtain, some methods aim at training models based on scarce datasets.\n",
    "    A popular methodology for dealing with insufficient annotated data is $\\textit{domain adaptation}$, in which a robust and high performance NN model, trained on a source distribution, is used to aid the training of a similar model (usually with the same goal, e.g., in classification the same classes are searched for) on data from a target distribution that are either  unlabelled or small in number [33, 90, 117]. \n",
    "    An example is adapting a NN trained on simulation data to real-life data with the same labels  [130, 47]. \n",
    "    On a similar note, $\\textit{transfer learning}$ [128, 27] can also be used in similar cases, where in addition to the difference in the data, the input and output tasks are not the same but only similar (in domain adaptation the task is the same and only the distributions are different). One such example, is using a network trained on natural images to classify medical  data [4]. \n",
    "\n",
    "\n",
    "2. ${\\bf Few shot learning.}$ A special case of learning with small datasets is $\\textit{few-shot learning}$ [137], where one is provided either with just semantic information of the target classes (zero-shot learning), only one labelled example per class (1-shot learning) or just few samples (general few-shot learning). \n",
    "    Approaches developed for these problems have shown great success in many applications, such as image classification [125, 111, 123], object detection [57] and segmentation [8].\n",
    "    \n",
    "\n",
    "3. ${\\bf On-line learning.}$ Various deep learning challenges occur due to new distributions or class types introduced to the model during a continuous operation of the system (post-training), and now must be learnt by the model. The model can update its weights to incorporate these new data using $\\textit{on-line learning}$ techniques. \n",
    "    There is a need for special training in this case, as  systems that just learn based on the new examples may suffer from a reduced performance on the original data. This phenomena is known as catastrophic forgetting [59]. Often, the model tends to forget the representation of part of the distribution it already learned and thus it develops a bias towards the new data. \n",
    "    A specific example of on-line learning is $\\textit{incremental learning}$ [9], where the new data is of different classes than the original ones.   \n",
    "\n",
    "\n",
    "4. ${\\bf AutoML.}$ When approaching real-life problems, there is an inherent pipeline of tasks to be preformed before using DL tools, such as problem definition, preparing the data and processing it.\n",
    "    Commonly, these tasks are preformed by specialists and require deep system understating. \n",
    "    To this end, the $\\textit{autoML}$ paradigm attempts to generalize this process by automatically learning and tuning the model used [32]. \n",
    "    A particular popular task in autoML is $\\textit{Neural  Architecture Search (NAS)}$ [30]. This is of interest since the NN architecture restricts its performance. \n",
    "    However, searching for the optimal architecture for a specific task, and from a set of pre-defined operations, is computationally exhaustive when performed in a straight forward manner. \n",
    "    Therefore, on-going research attempts to overcome this limitation. An example is the DARTS [74] strategy and its extensions [87, 12] where the key contribution is finding, in a differentiable manner, the connections between network operations that form a NN architecture. This framework decreases the search time and improves the final accuracy.\n",
    "\n",
    "\n",
    "5. ${\\bf Reinforcement Learning.}$ To date, the most effective training method for decision based actions, such as robot movement and video games, is $\\textit{Reinforcement Learning}$ (RL) [55, 127]. In RL, the model tries to maximize some pre-defined award score by learning which action to take, from a set of defined actions in specific scenarios.\n"
   ]
  },
  {
   "cell_type": "markdown",
   "metadata": {},
   "source": [
    "To summarize, being able to efficiently train deep neural networks has revolutionized almost every aspect of the modern day-to-day life. Examples span from bio-medical applications through computer graphics in movies and videos to international scale applications of big companies, such as Google, Amazon, Microsoft, Apple and Facebook.\n",
    "Evidently, this theory is drawing much attention and we believe there is still much to unravel, including exploring and understanding the NN's potential abilities and limitations.\n",
    "\n",
    "The next chapters detail Convolutional Neural Networks (CNN), Recurrent Neural Networks (RNN), generative models and autoencoders. All are very important paradigms that are used in numerous applications. "
   ]
  },
  {
   "cell_type": "markdown",
   "metadata": {},
   "source": [
    "## References from original paper <a id=\"ReferencesOGPaper\"></a>"
   ]
  },
  {
   "cell_type": "markdown",
   "metadata": {},
   "source": [
    "References\n",
    "\n",
    "1. Achlioptas, P., Diamanti, O., Mitliagkas, I., Guibas, L.: Learning representations and generative models for 3D point clouds. In: J. Dy, A. Krause (eds.) Proceedings of the 35th\n",
    "International Conference on Machine Learning, Proceedings of Machine Learning Research,\n",
    "vol. 80, pp. 40–49. PMLR, StockholmsmÃďssan, Stockholm Sweden (2018)\n",
    "2. Atlason, H.E., AskellLove, Sigurdsson, S., Gudnason, V., Ellingsen, L.M.: Unsupervised brain\n",
    "lesion segmentation from mri using a convolutional autoencoder. In: Medical Imaging 2019:\n",
    "Image Processing, vol. 10949, p. 109491H. International Society for Optics and Photonics\n",
    "(2019)\n",
    "3. Bahdanau, D., Cho, K., Bengio, Y.: Neural machine translation by jointly learning to align\n",
    "and translate. In: 3rd International Conference on Learning Representations, ICLR (2015)\n",
    "4. Bar, Y., Diamant, I., Wolf, L., Greenspan, H.: Deep learning with non-medical training used\n",
    "for chest pathology identification. In: Medical Imaging 2015: Computer-Aided Diagnosis,\n",
    "vol. 9414, pp. 215 – 221. International Society for Optics and Photonics, SPIE (2015)\n",
    "5. Ben-Cohen, A., Diamant, I., Klang, E., Amitai, M., Greenspan, H.: Fully convolutional\n",
    "network for liver segmentation and lesions detection. In: Deep learning and data labeling for\n",
    "medical applications, pp. 77–85. Springer (2016)\n",
    "6. Boscaini, D., Masci, J., Melzi, S., Bronstein, M.M., Castellani, U., Vandergheynst, P.: Learning class-specific descriptors for deformable shapes using localized spectral convolutional\n",
    "networks. Comput. Graph. Forum 34, 13–23 (2015)\n",
    "7. Brock, A., Donahue, J., Simonyan, K.: Large scale GAN training for high fidelity natural\n",
    "image synthesis. In: International Conference on Learning Representations (ICLR) (2019)\n",
    "8. Caelles, S., Maninis, K.K., Pont-Tuset, J., Leal-Taixé, L., Cremers, D., Van Gool, L.: One-shot\n",
    "video object segmentation. In: Proceedings of the IEEE conference on computer vision and\n",
    "pattern recognition, pp. 221–230 (2017)\n",
    "9. Castro, F.M., Marín-Jiménez, M.J., Guil, N., Schmid, C., Alahari, K.: End-to-end incremental\n",
    "learning. In: Proceedings of the European Conference on Computer Vision (ECCV), pp. 233–\n",
    "248 (2018)\n",
    "10. Chen, L.C., Zhu, Y., Papandreou, G., Schroff, F., Adam, H.: Encoder-decoder with atrous\n",
    "separable convolution for semantic image segmentation. In: Proceedings of the European\n",
    "conference on computer vision (ECCV), pp. 801–818 (2018)\n",
    "11. Chen, L.C., Zhu, Y., Papandreou, G., Schroff, F., Adam, H.: Encoder-decoder with atrous\n",
    "separable convolution for semantic image segmentation. In: ECCV (2018)\n",
    "12. Chen, X., Xie, L., Wu, J., Tian, Q.: Progressive darts: Bridging the optimization gap for nas\n",
    "in the wild. arXiv preprint arXiv:1912.10952 (2019)\n",
    "13. Chen, Z., Zhang, J., Tao, D.: Progressive lidar adaptation for road detection. IEEE/CAA\n",
    "Journal of Automatica Sinica 6(3), 693–702 (2019)\n",
    "14. Cho, K., van Merriënboer, B., Bahdanau, D., Bengio, Y.: On the properties of neural machine\n",
    "translation: Encoder–decoder approaches. In: Workshop on Syntax, Semantics and Structure\n",
    "in Statistical Translation, pp. 103–111. Association for Computational Linguistics (2014)\n",
    "15. Clevert, D.A., Unterthiner, T., Hochreiter, S.: Fast and accurate deep network learning by\n",
    "exponential linear units (elus). CoRR (2015)\n",
    "16. Cortes, C., Vapnik, V.: Support vector networks. Machine Learning 20, 273–297 (1995)\n",
    "17. Cristianini, N., Shawe-Taylor, J.: An Introduction to Support Vector Machines and Other\n",
    "Kernel-based Learning Methods. Cambridge University Press (2000). DOI 10.1017/\n",
    "CBO9780511801389\n",
    "18. Cubuk, E.D., Zoph, B., Mane, D., Vasudevan, V., Le, Q.V.: Autoaugment: Learning augmentation strategies from data. In: The IEEE Conference on Computer Vision and Pattern\n",
    "Recognition (CVPR) (2019)\n",
    "19. Cubuk, E.D., Zoph, B., Shlens, J., Le, Q.V.: Randaugment: Practical automated data augmentation with a reduced search space. arXiv (2019)\n",
    "20. Dahl, G.E., Sainath, T.N., Hinton, G.E.: Improving deep neural networks for lvcsr using\n",
    "rectified linear units and dropout. In: ICASSP, pp. 8609–8613. IEEE (2013)\n",
    "21. Dauphin, Y.N., de Vries, H., Chung, J., Bengio, Y.: Rmsprop and equilibrated adaptive\n",
    "learning rates for non-convex optimization. CoRR (2015)\n",
    "22. Deng, J., Dong, W., Socher, R., jia Li, L., Li, K., Fei-fei, L.: Imagenet: A large-scale hierarchical image database. CVPR (2009)\n",
    "23. Deng, J., Guo, J., Xue, N., Zafeiriou, S.: Arcface: Additive angular margin loss for deep face\n",
    "recognition. In: The IEEE Conference on Computer Vision and Pattern Recognition (CVPR)\n",
    "(2019)\n",
    "24. Devlin, J., Chang, M.W., Lee, K., Toutanova, K.: Bert: Pre-training of deep bidirectional\n",
    "transformers for language understanding (2018)\n",
    "25. Devlin, J., Chang, M.W., Lee, K., Toutanova, K.: Bert: Pre-training of deep bidirectional\n",
    "transformers for language understanding. In: NAACL-HLT (2019)\n",
    "26. DeVries, T., Taylor, G.W.: Improved regularization of convolutional neural networks with\n",
    "cutout. arXiv (2017)\n",
    "27. Donahue, J., Jia, Y., Vinyals, O., Hoffman, J., Zhang, N., Tzeng, E., Darrell, T.: Decaf: A\n",
    "deep convolutional activation feature for generic visual recognition. In: E.P. Xing, T. Jebara\n",
    "(eds.) Proceedings of the 31st International Conference on Machine Learning, Proceedings\n",
    "of Machine Learning Research, vol. 32, pp. 647–655. PMLR, Bejing, China (2014)\n",
    "28. Dovrat, O., Lang, I., Avidan, S.: Learning to sample. In: The IEEE Conference on Computer\n",
    "Vision and Pattern Recognition (CVPR) (2019)\n",
    "29. Duchi, J., Hazan, E., yORAM Singer: Adaptive subgradient methods for online learning and\n",
    "stochastic optimization. J. Mach. Learn. Res. 12, 2121–2159 (2011)\n",
    "30. Elsken, T., Metzen, J.H., Hutter, F.: Neural architecture search: A survey. J. Mach. Learn.\n",
    "Res. 20, 55:1–55:21 (2018)\n",
    "31. van Engelen, J.E., Hoos, H.H.: A survey on semi-supervised learning. Machine Learning (2019). DOI 10.1007/s10994-019-05855-6. URL https://doi.org/10.1007/\n",
    "s10994-019-05855-6\n",
    "32. Feurer, M., Klein, A., Eggensperger, K., Springenberg, J., Blum, M., Hutter, F.: Efficient and robust automated machine learning. In: C. Cortes, N.D. Lawrence, D.D. Lee,\n",
    "M. Sugiyama, R. Garnett (eds.) Advances in Neural Information Processing Systems 28,\n",
    "pp. 2962–2970. Curran Associates, Inc. (2015). URL http://papers.nips.cc/paper/\n",
    "5872-efficient-and-robust-automated-machine-learning.pdf\n",
    "33. Ganin, Y., Lempitsky, V.: Unsupervised domain adaptation by backpropagation. arXiv\n",
    "preprint arXiv:1409.7495 (2014)\n",
    "34. Gao, C., Gu, D., Zhang, F., Yu, Y.: Reconet: Real-time coherent video style transfer network.\n",
    "In: Asian Conference on Computer Vision, pp. 637–653. Springer (2018)\n",
    "35. Gatys, L.A., Ecker, A.S., Bethge, M.: Image style transfer using convolutional neural networks.\n",
    "In: Proceedings of the IEEE conference on computer vision and pattern recognition, pp. 2414–\n",
    "2423 (2016)\n",
    "36. Gatys, L.A., Ecker, A.S., Bethge, M.: Image style transfer using convolutional neural networks.\n",
    "2016 IEEE Conference on Computer Vision and Pattern Recognition (CVPR) pp. 2414–2423\n",
    "(2016)\n",
    "37. Gers, F.A., Schmidhuber, J., Cummins, F.: Learning to forget: Continual prediction with lstm.\n",
    "ICANN (1999)\n",
    "38. Gibiansky, A., Arik, S., Diamos, G., Miller, J., Peng, K., Ping, W., Raiman, J., Zhou, Y.: Deep\n",
    "voice 2: Multi-speaker neural text-to-speech. In: Advances in neural information processing\n",
    "systems, pp. 2962–2970 (2017)\n",
    "39. Goodfellow, I., Jean Pouget-Abadieand, M.M., Xu, B., Warde-Farley, D., Ozair, S., Courville,\n",
    "A., Bengio, Y.: Generative adversarial nets. In: Z. Ghahramani, M. Welling, C. Cortes, N.D.\n",
    "Lawrence, K.Q. Weinberger (eds.) Advances in Neural Information Processing Systems 27,\n",
    "pp. 2672–2680. Curran Associates, Inc. (2014)\n",
    "40. Greenspan, H., van Ginneken, B., Summers, R.M.: Guest editorial deep learning in medical\n",
    "imaging: Overview and future promise of an exciting new technique. CVPR 35, 1153 – 1159\n",
    "(2016)\n",
    "41. Guo, J., Lu, S., Cai, H., Zhang, W., Yu, Y., Wang, J.: Long text generation via adversarial training with leaked information. In: Thirty-Second AAAI Conference on Artificial Intelligence\n",
    "(2018)\n",
    "42. Haim, H., Elmalem, S., Giryes, R., Bronstein, A.M., Marom, E.: Depth estimation from a\n",
    "single image using deep learned phase coded mask. IEEE Transactions on Computational\n",
    "Imaging 4(3), 298–310 (2018)\n",
    "43. Hanocka, R., Hertz, A., Fish, N., Giryes, R., Fleishman, S., Cohen-Or, D.: Meshcnn: A\n",
    "network with an edge. ACM Transactions on Graphics (TOG) 38(4), 90 (2019)\n",
    "44. He, K., Gkioxari, G., Dollár, P., Girshick, R.B.: Mask r-cnn. IEEE International Conference\n",
    "on Computer Vision (ICCV) pp. 2980–2988 (2017)\n",
    "45. Hinton, G.E., Osindero, S., Teh, Y.W.: A fast learning algorithm for deep belief nets. Neural\n",
    "Comput. 18(7), 1527–1554 (2006). DOI 10.1162/neco.2006.18.7.1527. URL http://dx.\n",
    "doi.org/10.1162/neco.2006.18.7.1527\n",
    "46. Hochreiter, S., Schmidhuber, J.: Long short-term memory. Neural Comput. 9(8), 1735–1780\n",
    "(1997). DOI 10.1162/neco.1997.9.8.1735\n",
    "47. Hoffman, J., Tzeng, E., Park, T., Zhu, J.Y., Isola, P., Saenko, K., Efros, A., Darrell, T.:\n",
    "CyCADA: Cycle-consistent adversarial domain adaptation. In: J. Dy, A. Krause (eds.) Proceedings of the 35th International Conference on Machine Learning, Proceedings of Machine\n",
    "Learning Research, vol. 80, pp. 1989–1998. PMLR, StockholmsmÃďssan, Stockholm Sweden\n",
    "(2018)\n",
    "48. Hu, Q., Yang, B., Xie, L., Rosa, S., Guo, Y., Wang, Z., Trigoni, N., Markham, A.: Randla-net:\n",
    "Efficient semantic segmentation of large-scale point clouds. arXiv preprint arXiv:1911.11236\n",
    "(2019)\n",
    "49. Hubel, D.H., Wiesel, T.N.: Receptive fields of single neurons in the cat’s striate cortex. Journal\n",
    "of Physiology 148, 574–591 (1959)\n",
    "50. Ioffe, S., Szegedy, C.: Batch normalization: Accelerating deep network training by reducing\n",
    "internal covariate shift. In: Proceedings of the 32nd International Conference on Machine\n",
    "Learning, vol. 37, pp. 448–456 (2015)\n",
    "51. Jain, L.C., Medsker, L.R.: Recurrent Neural Networks: Design and Applications, 1st edn.\n",
    "CRC Press, Inc., Boca Raton, FL, USA (1999)\n",
    "52. Jakubovitz, D., Giryes, R., Rodrigues, M.R.D.: Generalization Error in Deep Learning, pp.\n",
    "153–193. Springer International Publishing, Cham (2019)\n",
    "53. Johnson, J., Alahi, A., Fei-Fei, L.: Perceptual losses for real-time style transfer and superresolution. In: European conference on computer vision, pp. 694–711. Springer (2016)\n",
    "54. Kadlec, R., Schmid, M., Bajgar, O., Kleindienst, J.: Text understanding with the attention sum\n",
    "reader network. In: Proceedings of the 54th Annual Meeting of the Association for Computational Linguistics (Volume 1: Long Papers), pp. 908–918. Association for Computational\n",
    "Linguistics, Berlin, Germany (2016). DOI 10.18653/v1/P16-1086\n",
    "55. Kaelbling, L.P., Littman, M.L., Moore, A.W.: Reinforcement learning: A survey. Journal of\n",
    "artificial intelligence research 4, 237–285 (1996)\n",
    "56. Kalogerakis, E., Averkiou, M., Maji, S., Chaudhuri, S.: 3d shape segmentation with projective\n",
    "convolutional networks. 2017 IEEE Conference on Computer Vision and Pattern Recognition\n",
    "(CVPR) pp. 6630–6639 (2016)\n",
    "57. Karlinsky, L., Shtok, J., Harary, S., Schwartz, E., Aides, A., Feris, R., Giryes, R., Bronstein,\n",
    "A.M.: Repmet: Representative-based metric learning for classification and few-shot object\n",
    "detection. In: The IEEE Conference on Computer Vision and Pattern Recognition (CVPR)\n",
    "(2019)\n",
    "58. Karras, T., Aila, T., Laine, S., Lehtinen, J.: Progressive growing of GANs for improved\n",
    "quality, stability, and variation. In: International Conference on Learning Representations\n",
    "(2018). URL https://openreview.net/forum?id=Hk99zCeAb\n",
    "59. Kemker, R., McClure, M., Abitino, A., Hayes, T.L., Kanan, C.: Measuring catastrophic\n",
    "forgetting in neural networks. In: Thirty-second AAAI conference on artificial intelligence\n",
    "(2018)\n",
    "60. Keskar, N.S., Socher, R.: Improving generalization performance by switching from adam to\n",
    "sgd. arXiv preprint arXiv:1712.07628 (2017)\n",
    "61. Kingma, D.P., Ba, J.: Adam: A method for stochastic optimization. CoRR (2014)\n",
    "62. Krizhevsky, A., Sutskever, I., Hinton, G.E.: Imagenet classification with deep convolutional\n",
    "neural networks. In: F. Pereira, C.J.C. Burges, L. Bottou, K.Q. Weinberger (eds.) Advances in\n",
    "Neural Information Processing Systems 25, pp. 1097–1105. Curran Associates, Inc. (2012)\n",
    "63. Krogh, A., Hertz, J.A.: A simple weight decay can improve generalization. In: J.E.\n",
    "Moody, S.J. Hanson, R.P. Lippmann (eds.) Advances in Neural Information Processing Systems 4, pp. 950–957. Morgan-Kaufmann (1992). URL http://papers.nips.cc/paper/\n",
    "563-a-simple-weight-decay-can-improve-generalization.pdf\n",
    "64. Kwon, D., Kim, H., Kim, J., Suh, S.C., Kim, I., Kim, K.J.: A survey of deep learningbased network anomaly detection. Cluster Computing 22(1), 949–961 (2019). DOI 10.1007/\n",
    "s10586-017-1117-8\n",
    "65. Lample, G., Conneau, A., Denoyer, L., Ranzato, M.: Unsupervised machine translation using\n",
    "monolingual corpora only. arXiv preprint arXiv:1711.00043 (2017)\n",
    "66. LeCun, Y., Boser, B., Denker, J.S., Henderson, D., Howard, R.E., Hubbard, W., Jackel, L.D.:\n",
    "Backpropagation applied to handwritten zip code recognition. Neural Comput. 1(4), 541–\n",
    "551 (1989). DOI 10.1162/neco.1989.1.4.541. URL http://dx.doi.org/10.1162/neco.\n",
    "1989.1.4.541\n",
    "67. LeCun, Y., Boser, B.E., Denker, J.S., Henderson, D., Howard, R.E., Hubbard, W.E., Jackel,\n",
    "L.D.: Hand-written digit recognition with a back-propagation network. NIPS (1990)\n",
    "68. Lecun, Y., Bottou, L., Bengio, Y., Haffner, P.: Gradient-based learning applied to document\n",
    "recognition. In: Proceedings of the IEEE, pp. 2278–2324 (1998)\n",
    "69. Li, Y., Bu, R., Sun, M., Wu, W., Di, X., Chen, B.: Pointcnn: Convolution on x-transformed\n",
    "points. In: NeurIPS (2018)\n",
    "70. Li, Y., Pirk, S., Su, H., Qi, C.R., Guibas, L.J.: Fpnn: Field probing neural networks for 3d data. In: D.D. Lee, M. Sugiyama, U.V. Luxburg, I. Guyon,\n",
    "R. Garnett (eds.) Advances in Neural Information Processing Systems 29, pp.\n",
    "307–315. Curran Associates, Inc. (2016). URL http://papers.nips.cc/paper/\n",
    "6416-fpnn-field-probing-neural-networks-for-3d-data.pdf\n",
    "71. Lim, S., Kim, I., Kim, T., Kim, C., Kim, S.: Fast autoaugment. In: Advances in Neural\n",
    "Information Processing Systems (NeurIPS) (2019)\n",
    "72. Lin, T.Y., Goyal, P., Girshick, R., He, K., Dollár, P.: Focal loss for dense object detection. In:\n",
    "Proceedings of the IEEE international conference on computer vision, pp. 2980–2988 (2017)\n",
    "73. Liu, G., Reda, F.A., andx Ting-Chun Shih, K.J.S., Tao, A., Catanzaro, B.: Image inpainting\n",
    "for irregular holes using partial convolutions. In: The European Conference on Computer\n",
    "Vision (ECCV) (2018)\n",
    "74. Liu, H., Simonyan, K., Yang, Y.: DARTS: Differentiable architecture search. In: International\n",
    "Conference on Learning Representations (2019)\n",
    "75. Liu, W., Anguelov, D., Erhan, D., Szegedy, C., Reed, S.E., Fu, C.Y., Berg, A.C.: Ssd: Single\n",
    "shot multibox detector. In: ECCV (2016)\n",
    "76. Liu, W., Wen, Y., Yu, Z., Li, M., Raj, B., Song, L.: Sphereface: Deep hypersphere embedding\n",
    "for face recognition. 2017 IEEE Conference on Computer Vision and Pattern Recognition\n",
    "(CVPR) pp. 6738–6746 (2017)\n",
    "77. Liu, Y., Ott, M., Goyal, N., Du, J., Joshi, M., Chen, D., Levy, O., Lewis, M., Zettlemoyer,\n",
    "L., Stoyanov, V.: Roberta: A robustly optimized bert pretraining approach. arXiv preprint\n",
    "arXiv:1907.11692 (2019)\n",
    "78. Loshchilov, I., Hutter, F.: Decoupled weight decay regularization. In: ICLR (2017)\n",
    "79. Ma, W.C., Wang, S., Hu, R., Xiong, Y., Urtasun, R.: Deep rigid instance scene flow. In:\n",
    "CVPR (2019)\n",
    "80. McCulloch, W.S., Pitts, W.: A logical calculus of the ideas immanent in nervous activity. The\n",
    "bulletin of mathematical biophysics 5(4), 115–133 (1943). DOI 10.1007/BF02478259\n",
    "81. Mikolov, T., Sutskever, I., Chen, K., Corrado, G.S., Dean, J.: Distributed representations of words and phrases and their compositionality. In: C.J.C.\n",
    "Burges, L. Bottou, M. Welling, Z. Ghahramani, K.Q. Weinberger (eds.)\n",
    "Advances in Neural Information Processing Systems 26, pp. 3111–3119. Curran Associates, Inc. (2013). URL http://papers.nips.cc/paper/\n",
    "5021-distributed-representations-of-words-and-phrases-and-their-compositionality.\n",
    "pdf\n",
    "82. Minsky, M., Papert, S.: Perceptrons: An Introduction to Computational Geometry. MIT Press,\n",
    "Cambridge, MA, USA (1969)\n",
    "83. Monti, F., Boscaini, D., Masci, J., Rodolà, E., Svoboda, J., Bronstein, M.M.: Geometric\n",
    "deep learning on graphs and manifolds using mixture model cnns. In: IEEE Conference on\n",
    "Computer Vision and Pattern Recognition, CVPR, pp. 5425–5434 (2017). DOI 10.1109/\n",
    "CVPR.2017.576\n",
    "84. Nah, S., Kim, T.H., Lee, K.M.: Deep multi-scale convolutional neural network for dynamic\n",
    "scene deblurring. In: Proceedings of the IEEE Conference on Computer Vision and Pattern\n",
    "Recognition, pp. 3883–3891 (2017)\n",
    "85. Nesterov, Y.E.: A method for solving the convex programming problem with convergence\n",
    "rate o (1/kˆ 2). In: Dokl. akad. nauk Sssr, vol. 269, pp. 543–547 (1983)\n",
    "86. Niepert, M., Ahmed, M., Kutzkov, K.: Learning convolutional neural networks for graphs. In:\n",
    "Proceedings of the 33rd International Conference on International Conference on Machine\n",
    "Learning - Volume 48, ICML’16, pp. 2014–2023. JMLR.org (2016). URL http://dl.acm.\n",
    "org/citation.cfm?id=3045390.3045603\n",
    "87. Noy, A., Nayman, N., Ridnik, T., Zamir, N., Doveh, S., Friedman, I., Giryes, R., Zelnik-Manor,\n",
    "L.: Asap: Architecture search, anneal and prune. arXiv preprint arXiv:1904.04123 (2019)\n",
    "88. Ongie, G., Willett, R., Soudry, D., Srebro, N.: A function space view of bounded norm\n",
    "infinite width re{lu} nets: The multivariate case. In: International Conference on Learning\n",
    "Representations (ICLR) (2020)\n",
    "89. van den Oord, A., Dieleman, S., Zen, H., Simonyan, K., Vinyals, O., Graves, A., Kalchbrenner,\n",
    "N., Senior, A., Kavukcuoglu, K.: Wavenet: A generative model for raw audio. In: Arxiv (2016).\n",
    "URL https://arxiv.org/abs/1609.03499\n",
    "90. Pan, S.J., Tsang, I.W., Kwok, J.T., Yang, Q.: Domain adaptation via transfer component\n",
    "analysis. IEEE Transactions on Neural Networks 22(2), 199–210 (2010)\n",
    "91. Pascanu, R., Mikolov, T., Bengio, Y.: On the difficulty of training recurrent neural networks.\n",
    "In: S. Dasgupta, D. McAllester (eds.) Proceedings of the 30th International Conference on\n",
    "Machine Learning, Proceedings of Machine Learning Research, vol. 28, pp. 1310–1318.\n",
    "PMLR, Atlanta, Georgia, USA (2013)\n",
    "92. Peters, M.E., Neumann, M., Iyyer, M., Gardner, M., Clark, C., Lee, K., Zettlemoyer, L.: Deep\n",
    "contextualized word representations. In: Proc. of NAACL (2018)\n",
    "93. Qi, C.R., Su, H., Mo, K., Guibas, L.J.: Pointnet: Deep learning on point sets for 3d classification and segmentation. 2017 IEEE Conference on Computer Vision and Pattern Recognition\n",
    "(CVPR) pp. 77–85 (2016)\n",
    "94. Qi, C.R., Yi, L., Su, H., Guibas, L.J.: Pointnet++: Deep hierarchical feature learning on point\n",
    "sets in a metric space. arXiv preprint arXiv:1706.02413 (2017)\n",
    "95. Qian, N.: On the momentum term in gradient descent learning algorithms. Neural Networks\n",
    "12(1), 145–151 (1999)\n",
    "96. Radford, A., Sutskever, I.: Improving language understanding by generative pre-training. In:\n",
    "arxiv (2018)\n",
    "97. Reddi, S.J., Kale, S., Kumar, S.: On the convergence of adam and beyond. In: International\n",
    "Conference on Learning Representations (ICLR) (2018)\n",
    "98. Redmon, J., Divvala, S.K., Girshick, R.B., Farhadi, A.: You only look once: Unified, realtime object detection. 2016 IEEE Conference on Computer Vision and Pattern Recognition\n",
    "(CVPR) pp. 779–788 (2015)\n",
    "99. Redmon, J., Farhadi, A.: Yolo9000: Better, faster, stronger. 2017 IEEE Conference on Computer Vision and Pattern Recognition (CVPR) pp. 6517–6525 (2016)\n",
    "100. Redmon, J., Farhadi, A.: Yolov3: An incremental improvement. ArXiv abs/1804.02767\n",
    "(2018)\n",
    "101. Reed, S., Akata, Z., Yan, X., Logeswaran, L., Schiele, B., Lee, H.: Generative adversarial text\n",
    "to image synthesis. In: Proceedings of the 33rd International Conference on International Conference on Machine Learning - Volume 48, ICMLâĂŹ16, p. 1060âĂŞ1069. JMLR.org\n",
    "(2016)\n",
    "102. Remez, T., Litany, O., Giryes, R., Bronstein, A.M.: Class-aware fully convolutional gaussian\n",
    "and poisson denoising. IEEE Transactions on Image Processing 27(11), 5707–5722 (2018)\n",
    "103. Ren, S., He, K., Girshick, R., Sun, J.: Faster r-cnn: Towards real-time object detection with\n",
    "region proposal networks. In: C. Cortes, N.D. Lawrence, D.D. Lee, M. Sugiyama, R. Garnett\n",
    "(eds.) Advances in Neural Information Processing Systems 28, pp. 91–99. Curran Associates,\n",
    "Inc. (2015)\n",
    "104. Ronneberger, O., P.Fischer, Brox, T.: U-net: Convolutional networks for biomedical image\n",
    "segmentation. In: Medical Image Computing and Computer-Assisted Intervention (MICCAI),\n",
    "LNCS, vol. 9351, pp. 234–241. Springer (2015)\n",
    "105. Rosenblatt, F.: The perceptron: A probabilistic model for information storage and organization\n",
    "in the brain. Psychological Review pp. 65–386 (1958)\n",
    "106. Ruck, D.W., Rogers, S.K.: Feature Selection Using a Multilayer Perceptron. Journal of Neural\n",
    "Network Computing 2(July 1993), 40–48 (1990)\n",
    "107. Rumelhart, D.E., Hinton, G.E.,Williams, R.J.: Learning Representations by Back-propagating\n",
    "Errors. Nature 323(6088), 533–536 (1986). DOI 10.1038/323533a0\n",
    "108. Safran, I., Eldan, R., Shamir, O.: Depth separations in neural networks: What is actually being\n",
    "separated? In: Conference on Learning Theory (COLT), pp. 2664–2666. PMLR (2019)\n",
    "109. Schroff, F., Kalenichenko, D., Philbin, J.: Facenet: A unified embedding for face recognition\n",
    "and clustering. CVPR pp. 815–823 (2015)\n",
    "110. Schwartz, E., Giryes, R., Bronstein, A.M.: Deepisp: Toward learning an end-to-end image\n",
    "processing pipeline. IEEE Transactions on Image Processing 28(2), 912–923 (2019). DOI\n",
    "10.1109/TIP.2018.2872858\n",
    "111. Schwartz, E., Karlinsky, L., Shtok, J., Harary, S., Marder, M., Kumar, A., Feris, R., Giryes,\n",
    "R., Bronstein, A.: Delta-encoder: an effective sample synthesis method for few-shot object\n",
    "recognition. In: S. Bengio, H. Wallach, H. Larochelle, K. Grauman, N. Cesa-Bianchi, R. Garnett (eds.) Advances in Neural Information Processing Systems 31, pp. 2845–2855. Curran\n",
    "Associates, Inc. (2018)\n",
    "112. Shaham, T.R., Dekel, T., Michaeli, T.: Singan: Learning a generative model from a single\n",
    "natural image. In: The IEEE International Conference on Computer Vision (ICCV) (2019)\n",
    "113. Shen, J., Pang, R., Weiss, R.J., Schuster, M., Jaitly, N., Yang, Z., Chen, Z., Zhang, Y., Wang,\n",
    "Y., Skerrv-Ryan, R., Saurous, R.A., Agiomvrgiannakis, Y., Wu, Y.: Natural tts synthesis\n",
    "by conditioning wavenet on mel spectrogram predictions. In: International Conference on\n",
    "Acoustics, Speech and Signal Processing (ICASSP), pp. 4779–4783 (2018)\n",
    "114. Shiloh, L., Eyal, A., Giryes, R.: Efficient processing of distributed acoustic sensing data using\n",
    "a deep learning approach. J. Lightwave Technol. 37(18), 4755–4762 (2019)\n",
    "115. Shocher, A., Bagon, S., Isola, P., Irani, M.: Ingan: Capturing and retargeting the \"dna\" of a\n",
    "natural image. In: The IEEE International Conference on Computer Vision (ICCV) (2019)\n",
    "116. Shorten, C., Khoshgoftaar, T.M.: A survey on image data augmentation for deep learning.\n",
    "Journal of Big Data 6(1), 60 (2019). DOI 10.1186/s40537-019-0197-0\n",
    "117. Shu, R., Bui, H.H., Narui, H., Ermon, S.: A DIRT-T approach to unsupervised domain\n",
    "adaptation. In: 6th International Conference on Learning Representations, ICLR (2018)\n",
    "118. Singh, S., Krishnan, S.: Filter response normalization layer: Eliminating batch dependence\n",
    "in the training of deep neural networks. arXiv (2019)\n",
    "119. Sønderby, C.K., Raiko, T., Maaløe, L., Sønderby, S.K., Winther, O.: Ladder variational\n",
    "autoencoders. In: Advances in neural information processing systems, pp. 3738–3746 (2016)\n",
    "120. Sotelo, J., Mehri, S., Kumar, K., Santos, J.F., Kastner, K., Courville, A.C., Bengio, Y.:\n",
    "Char2wav: End-to-end speech synthesis. In: ICLR (2017)\n",
    "121. Srivastava, N., Hinton, G., Krizhevsky, A., Sutskever, I., Salakhutdinov, R.: Dropout: A\n",
    "simple way to prevent neural networks from overfitting. J. Mach. Learn. Res. 15(1), 1929–\n",
    "1958 (2014)\n",
    "122. Such, F.P., Sah, S., Domínguez, M., Pillai, S., Zhang, C., Michael, A., Cahill, N.D., Ptucha,\n",
    "R.W.: Robust spatial filtering with graph convolutional neural networks. IEEE Journal of\n",
    "Selected Topics in Signal Processing 11, 884–896 (2017)\n",
    "123. Sun, Q., Liu, Y., Chua, T.S., Schiele, B.: Meta-transfer learning for few-shot learning. In: The\n",
    "IEEE Conference on Computer Vision and Pattern Recognition (CVPR) (2019)\n",
    "124. Sun, R.: Optimization for deep learning: theory and algorithms. arXiv preprint\n",
    "arXiv:1912.08957 (2019)\n",
    "125. Sung, F., Yang, Y., Zhang, L., Xiang, T., Torr, P.H., Hospedales, T.M.: Learning to compare:\n",
    "Relation network for few-shot learning. In: Proceedings of the IEEE Conference on Computer\n",
    "Vision and Pattern Recognition, pp. 1199–1208 (2018)\n",
    "126. Sutskever, I., Vinyals, O., Le, Q.V.: Sequence to sequence learning with neural networks. In:\n",
    "Advances in Neural Information Processing Systems, pp. 3104–3112. Curran Associates, Inc.\n",
    "(2014)\n",
    "127. Sutton, R.S., Barto, A.G.: Reinforcement learning: An introduction. MIT press (2018)\n",
    "128. Tan, C., Sun, F., Kong, T., Zhang, W., Yang, C., Liu, C.: A survey on deep transfer learning.\n",
    "In: V. Kůrková, Y. Manolopoulos, B. Hammer, L. Iliadis, I. Maglogiannis (eds.) Artificial\n",
    "Neural Networks and Machine Learning – ICANN 2018, pp. 270–279. Springer International\n",
    "Publishing, Cham (2018)\n",
    "129. Tetko, I.V., Livingstone, D.J., Luik, A.I.: Neural network studies. 1. comparison of overfitting\n",
    "and overtraining. Journal of chemical information and computer sciences 35(5), 826–833\n",
    "(1995)\n",
    "130. Tzeng, E., Hoffman, J., Saenko, K., Darrell, T.: Adversarial discriminative domain adaptation.\n",
    "IEEE Conference on Computer Vision and Pattern Recognition (CVPR) pp. 2962–2971\n",
    "(2017)\n",
    "131. Vaswani, A., Shazeer, N., Parmar, N., Uszkoreit, J., Jones, L., Gomez, A.N., Kaiser, L.u.,\n",
    "Polosukhin, I.: Attention is all you need. In: I. Guyon, U.V. Luxburg, S. Bengio, H. Wallach,\n",
    "R. Fergus, S. Vishwanathan, R. Garnett (eds.) Advances in Neural Information Processing\n",
    "Systems 30, pp. 5998–6008. Curran Associates, Inc. (2017). URL http://papers.nips.\n",
    "cc/paper/7181-attention-is-all-you-need.pdf\n",
    "132. Vincent, P., Larochelle, H., Bengio, Y., Manzagol, P.A.: Extracting and composing robust\n",
    "features with denoising autoencoders. In: Proceedings of the 25th international conference\n",
    "on Machine learning, pp. 1096–1103 (2008)\n",
    "133. Vinyals, O., Toshev, A., Bengio, S., Erhan, D.: Show and tell: A neural image caption\n",
    "generator. In: The IEEE Conference on Computer Vision and Pattern Recognition (CVPR)\n",
    "(2015)\n",
    "134. Wang, H., Wang, Y., Zhou, Z., Ji, X., Li, Z., Gong, D., Zhou, J., Liu, W.: Cosface: Large\n",
    "margin cosine loss for deep face recognition. In: IEEE/CVF Conference on Computer Vision\n",
    "and Pattern Recognition (2018)\n",
    "135. Wang, X., Shrivastava, A., Gupta, A.: A-fast-rcnn: Hard positive generation via adversary for\n",
    "object detection. In: Proceedings of the IEEE Conference on Computer Vision and Pattern\n",
    "Recognition, pp. 2606–2615 (2017)\n",
    "136. Wang, Y., Sun, Y., Liu, Z., Sarma, S.E., Bronstein, M.M., Solomon, J.M.: Dynamic graph\n",
    "cnn for learning on point clouds. ACM Transactions on Graphics (TOG) (2019)\n",
    "137. Wang, Y., Yao, Q.: Generalizing from a few examples: A survey on few-shot learning. ArXiv\n",
    "(2019)\n",
    "138. Wilson, G., Cook, D.J.: A survey of unsupervised deep domain adaptation. In: arxiv (2018)\n",
    "139. Wu, Y., He, K.: Group normalization. In: The European Conference on Computer Vision\n",
    "(ECCV) (2018)\n",
    "140. Wu, Z., Song, S., Khosla, A., Yu, F., Zhang, L., Tang, X., Xiao, J.: 3d shapenets: A deep\n",
    "representation for volumetric shapes. 2015 IEEE Conference on Computer Vision and Pattern\n",
    "Recognition (CVPR) pp. 1912–1920 (2014)\n",
    "141. Xu, B., Wang, N., Chen, T., Li, M.: Empirical evaluation of rectified activations in convolutional network. ArXiv (2015)\n",
    "142. Yang, C., Lu, X., Lu, Z., Shechtman, E., Wang, O., Li, H.: High-resolution image inpainting\n",
    "using multi-scale neural patch synthesis. In: Proceedings of the IEEE Conference on Computer\n",
    "Vision and Pattern Recognition, pp. 6721–6729 (2017)\n",
    "143. Yang, W., Zhang, X., Tian, Y., Wang, W., Xue, J., Liao, Q.: Deep learning for single image\n",
    "super-resolution: A brief review. IEEE Transactions on Multimedia 21(12), 3106–3121\n",
    "(2019). DOI 10.1109/TMM.2019.2919431\n",
    "144. Yang, Z., Dai, Z., Yang, Y., Carbonell, J., Salakhutdinov, R., Le, Q.V.: Xlnet: Generalized\n",
    "autoregressive pretraining for language understanding (2019)\n",
    "145. Yu, J., Lin, Z., Yang, J., Shen, X., Lu, X., Huang, T.S.: Free-form image inpainting with gated\n",
    "convolution. In: The IEEE International Conference on Computer Vision (ICCV) (2019)\n",
    "146. Zeiler, M.D.: Adadelta: An adaptive learning rate method. ArXiv abs/1212.5701 (2012)\n",
    "147. Zhang, H., Cisse, M., Dauphin, Y.N., Lopez-Paz, D.: mixup: Beyond empirical risk\n",
    "minimization. In: International Conference on Learning Representations (2018). URL\n",
    "https://openreview.net/forum?id=r1Ddp1-Rb\n",
    "148. Zhang, K., Zuo, W., Chen, Y., Meng, D., Zhang, L.: Beyond a gaussian denoiser: Residual\n",
    "learning of deep cnn for image denoising. IEEE Transactions on Image Processing 26(7),\n",
    "3142–3155 (2017)\n",
    "149. Zhao, H., Gallo, O., Frosio, I., Kautz, J.: Loss functions for image restoration with neural\n",
    "networks. IEEE Transactions on Computational Imaging 3, 47–57 (2017)\n",
    "150. Zhi Tian Chunhua Shen, H.C., He, T.: Fcos: Fully convolutional one-stage object detection.\n",
    "In: Proceedings of the IEEE International Conference on Computer Vision (ICCV), ICCV\n",
    "’19. IEEE Computer Society (2019)\n",
    "151. Zhu, J.Y., Park, T., Isola, P., Efros, A.A.: Unpaired image-to-image translation using cycleconsistent adversarial networks. 2017 IEEE International Conference on Computer Vision\n",
    "(ICCV) pp. 2242–2251 (2017)"
   ]
  },
  {
   "cell_type": "markdown",
   "metadata": {},
   "source": [
    "---"
   ]
  },
  {
   "cell_type": "markdown",
   "metadata": {},
   "source": [
    "## Additional contributions, expansion and further development of this paper"
   ]
  },
  {
   "cell_type": "markdown",
   "metadata": {},
   "source": [
    "_As an additional contribution and further development of this paper I would like to add some Deep Learning basic examples._\n"
   ]
  },
  {
   "cell_type": "markdown",
   "metadata": {},
   "source": [
    "_Below is an example inspired from the `Module: Artificial Intelligence 2021, SoftUni` [[Reference]](#SoftUni-Module:-Artificial-Intelligence---February-2021). It is a simple Convolutional Neural Network (CNN) which is trained on the mnist dataset [[Reference]](#THE-MNIST-DATABASE-of-handwritten-digits) [[Reference]](#mnist). Then the network is asked to try and predict an image and classify it as one of the numbers from 0 to 9 on which it was trained._"
   ]
  },
  {
   "cell_type": "code",
   "execution_count": 2,
   "metadata": {},
   "outputs": [
    {
     "data": {
      "text/plain": [
       "[PhysicalDevice(name='/physical_device:CPU:0', device_type='CPU')]"
      ]
     },
     "execution_count": 2,
     "metadata": {},
     "output_type": "execute_result"
    }
   ],
   "source": [
    "# A check to list what physical devices you are using, whether its CPU or GPU:\n",
    "\n",
    "tf.config.list_physical_devices()"
   ]
  },
  {
   "cell_type": "code",
   "execution_count": 3,
   "metadata": {},
   "outputs": [],
   "source": [
    "# Clearing the session, comment it out if you want to:\n",
    "\n",
    "tf.keras.backend.clear_session()"
   ]
  },
  {
   "cell_type": "markdown",
   "metadata": {},
   "source": [
    "_Loading the mnist dataset:_"
   ]
  },
  {
   "cell_type": "code",
   "execution_count": 4,
   "metadata": {},
   "outputs": [],
   "source": [
    "# Loading the mnist dataset:\n",
    "\n",
    "(attributes_train, labels_train), (attributes_test, labels_test) = mnist.load_data()"
   ]
  },
  {
   "cell_type": "code",
   "execution_count": 5,
   "metadata": {},
   "outputs": [
    {
     "data": {
      "text/plain": [
       "(10000, 28, 28)"
      ]
     },
     "execution_count": 5,
     "metadata": {},
     "output_type": "execute_result"
    }
   ],
   "source": [
    "# Shape of the test attributes, 10000 images, 28x28 pixels each:\n",
    "\n",
    "attributes_test.shape"
   ]
  },
  {
   "cell_type": "code",
   "execution_count": 6,
   "metadata": {},
   "outputs": [
    {
     "name": "stdout",
     "output_type": "stream",
     "text": [
      "[[[[0]\n",
      "   [0]\n",
      "   [0]\n",
      "   ...\n",
      "   [0]\n",
      "   [0]\n",
      "   [0]]\n",
      "\n",
      "  [[0]\n",
      "   [0]\n",
      "   [0]\n",
      "   ...\n",
      "   [0]\n",
      "   [0]\n",
      "   [0]]\n",
      "\n",
      "  [[0]\n",
      "   [0]\n",
      "   [0]\n",
      "   ...\n",
      "   [0]\n",
      "   [0]\n",
      "   [0]]\n",
      "\n",
      "  ...\n",
      "\n",
      "  [[0]\n",
      "   [0]\n",
      "   [0]\n",
      "   ...\n",
      "   [0]\n",
      "   [0]\n",
      "   [0]]\n",
      "\n",
      "  [[0]\n",
      "   [0]\n",
      "   [0]\n",
      "   ...\n",
      "   [0]\n",
      "   [0]\n",
      "   [0]]\n",
      "\n",
      "  [[0]\n",
      "   [0]\n",
      "   [0]\n",
      "   ...\n",
      "   [0]\n",
      "   [0]\n",
      "   [0]]]\n",
      "\n",
      "\n",
      " [[[0]\n",
      "   [0]\n",
      "   [0]\n",
      "   ...\n",
      "   [0]\n",
      "   [0]\n",
      "   [0]]\n",
      "\n",
      "  [[0]\n",
      "   [0]\n",
      "   [0]\n",
      "   ...\n",
      "   [0]\n",
      "   [0]\n",
      "   [0]]\n",
      "\n",
      "  [[0]\n",
      "   [0]\n",
      "   [0]\n",
      "   ...\n",
      "   [0]\n",
      "   [0]\n",
      "   [0]]\n",
      "\n",
      "  ...\n",
      "\n",
      "  [[0]\n",
      "   [0]\n",
      "   [0]\n",
      "   ...\n",
      "   [0]\n",
      "   [0]\n",
      "   [0]]\n",
      "\n",
      "  [[0]\n",
      "   [0]\n",
      "   [0]\n",
      "   ...\n",
      "   [0]\n",
      "   [0]\n",
      "   [0]]\n",
      "\n",
      "  [[0]\n",
      "   [0]\n",
      "   [0]\n",
      "   ...\n",
      "   [0]\n",
      "   [0]\n",
      "   [0]]]\n",
      "\n",
      "\n",
      " [[[0]\n",
      "   [0]\n",
      "   [0]\n",
      "   ...\n",
      "   [0]\n",
      "   [0]\n",
      "   [0]]\n",
      "\n",
      "  [[0]\n",
      "   [0]\n",
      "   [0]\n",
      "   ...\n",
      "   [0]\n",
      "   [0]\n",
      "   [0]]\n",
      "\n",
      "  [[0]\n",
      "   [0]\n",
      "   [0]\n",
      "   ...\n",
      "   [0]\n",
      "   [0]\n",
      "   [0]]\n",
      "\n",
      "  ...\n",
      "\n",
      "  [[0]\n",
      "   [0]\n",
      "   [0]\n",
      "   ...\n",
      "   [0]\n",
      "   [0]\n",
      "   [0]]\n",
      "\n",
      "  [[0]\n",
      "   [0]\n",
      "   [0]\n",
      "   ...\n",
      "   [0]\n",
      "   [0]\n",
      "   [0]]\n",
      "\n",
      "  [[0]\n",
      "   [0]\n",
      "   [0]\n",
      "   ...\n",
      "   [0]\n",
      "   [0]\n",
      "   [0]]]\n",
      "\n",
      "\n",
      " ...\n",
      "\n",
      "\n",
      " [[[0]\n",
      "   [0]\n",
      "   [0]\n",
      "   ...\n",
      "   [0]\n",
      "   [0]\n",
      "   [0]]\n",
      "\n",
      "  [[0]\n",
      "   [0]\n",
      "   [0]\n",
      "   ...\n",
      "   [0]\n",
      "   [0]\n",
      "   [0]]\n",
      "\n",
      "  [[0]\n",
      "   [0]\n",
      "   [0]\n",
      "   ...\n",
      "   [0]\n",
      "   [0]\n",
      "   [0]]\n",
      "\n",
      "  ...\n",
      "\n",
      "  [[0]\n",
      "   [0]\n",
      "   [0]\n",
      "   ...\n",
      "   [0]\n",
      "   [0]\n",
      "   [0]]\n",
      "\n",
      "  [[0]\n",
      "   [0]\n",
      "   [0]\n",
      "   ...\n",
      "   [0]\n",
      "   [0]\n",
      "   [0]]\n",
      "\n",
      "  [[0]\n",
      "   [0]\n",
      "   [0]\n",
      "   ...\n",
      "   [0]\n",
      "   [0]\n",
      "   [0]]]\n",
      "\n",
      "\n",
      " [[[0]\n",
      "   [0]\n",
      "   [0]\n",
      "   ...\n",
      "   [0]\n",
      "   [0]\n",
      "   [0]]\n",
      "\n",
      "  [[0]\n",
      "   [0]\n",
      "   [0]\n",
      "   ...\n",
      "   [0]\n",
      "   [0]\n",
      "   [0]]\n",
      "\n",
      "  [[0]\n",
      "   [0]\n",
      "   [0]\n",
      "   ...\n",
      "   [0]\n",
      "   [0]\n",
      "   [0]]\n",
      "\n",
      "  ...\n",
      "\n",
      "  [[0]\n",
      "   [0]\n",
      "   [0]\n",
      "   ...\n",
      "   [0]\n",
      "   [0]\n",
      "   [0]]\n",
      "\n",
      "  [[0]\n",
      "   [0]\n",
      "   [0]\n",
      "   ...\n",
      "   [0]\n",
      "   [0]\n",
      "   [0]]\n",
      "\n",
      "  [[0]\n",
      "   [0]\n",
      "   [0]\n",
      "   ...\n",
      "   [0]\n",
      "   [0]\n",
      "   [0]]]\n",
      "\n",
      "\n",
      " [[[0]\n",
      "   [0]\n",
      "   [0]\n",
      "   ...\n",
      "   [0]\n",
      "   [0]\n",
      "   [0]]\n",
      "\n",
      "  [[0]\n",
      "   [0]\n",
      "   [0]\n",
      "   ...\n",
      "   [0]\n",
      "   [0]\n",
      "   [0]]\n",
      "\n",
      "  [[0]\n",
      "   [0]\n",
      "   [0]\n",
      "   ...\n",
      "   [0]\n",
      "   [0]\n",
      "   [0]]\n",
      "\n",
      "  ...\n",
      "\n",
      "  [[0]\n",
      "   [0]\n",
      "   [0]\n",
      "   ...\n",
      "   [0]\n",
      "   [0]\n",
      "   [0]]\n",
      "\n",
      "  [[0]\n",
      "   [0]\n",
      "   [0]\n",
      "   ...\n",
      "   [0]\n",
      "   [0]\n",
      "   [0]]\n",
      "\n",
      "  [[0]\n",
      "   [0]\n",
      "   [0]\n",
      "   ...\n",
      "   [0]\n",
      "   [0]\n",
      "   [0]]]]\n"
     ]
    }
   ],
   "source": [
    "attributes_train_expanded = np.expand_dims(attributes_train, 3)\n",
    "print(attributes_train_expanded)"
   ]
  },
  {
   "cell_type": "code",
   "execution_count": 7,
   "metadata": {},
   "outputs": [
    {
     "name": "stdout",
     "output_type": "stream",
     "text": [
      "[[[[0.]\n",
      "   [0.]\n",
      "   [0.]\n",
      "   ...\n",
      "   [0.]\n",
      "   [0.]\n",
      "   [0.]]\n",
      "\n",
      "  [[0.]\n",
      "   [0.]\n",
      "   [0.]\n",
      "   ...\n",
      "   [0.]\n",
      "   [0.]\n",
      "   [0.]]\n",
      "\n",
      "  [[0.]\n",
      "   [0.]\n",
      "   [0.]\n",
      "   ...\n",
      "   [0.]\n",
      "   [0.]\n",
      "   [0.]]\n",
      "\n",
      "  ...\n",
      "\n",
      "  [[0.]\n",
      "   [0.]\n",
      "   [0.]\n",
      "   ...\n",
      "   [0.]\n",
      "   [0.]\n",
      "   [0.]]\n",
      "\n",
      "  [[0.]\n",
      "   [0.]\n",
      "   [0.]\n",
      "   ...\n",
      "   [0.]\n",
      "   [0.]\n",
      "   [0.]]\n",
      "\n",
      "  [[0.]\n",
      "   [0.]\n",
      "   [0.]\n",
      "   ...\n",
      "   [0.]\n",
      "   [0.]\n",
      "   [0.]]]\n",
      "\n",
      "\n",
      " [[[0.]\n",
      "   [0.]\n",
      "   [0.]\n",
      "   ...\n",
      "   [0.]\n",
      "   [0.]\n",
      "   [0.]]\n",
      "\n",
      "  [[0.]\n",
      "   [0.]\n",
      "   [0.]\n",
      "   ...\n",
      "   [0.]\n",
      "   [0.]\n",
      "   [0.]]\n",
      "\n",
      "  [[0.]\n",
      "   [0.]\n",
      "   [0.]\n",
      "   ...\n",
      "   [0.]\n",
      "   [0.]\n",
      "   [0.]]\n",
      "\n",
      "  ...\n",
      "\n",
      "  [[0.]\n",
      "   [0.]\n",
      "   [0.]\n",
      "   ...\n",
      "   [0.]\n",
      "   [0.]\n",
      "   [0.]]\n",
      "\n",
      "  [[0.]\n",
      "   [0.]\n",
      "   [0.]\n",
      "   ...\n",
      "   [0.]\n",
      "   [0.]\n",
      "   [0.]]\n",
      "\n",
      "  [[0.]\n",
      "   [0.]\n",
      "   [0.]\n",
      "   ...\n",
      "   [0.]\n",
      "   [0.]\n",
      "   [0.]]]\n",
      "\n",
      "\n",
      " [[[0.]\n",
      "   [0.]\n",
      "   [0.]\n",
      "   ...\n",
      "   [0.]\n",
      "   [0.]\n",
      "   [0.]]\n",
      "\n",
      "  [[0.]\n",
      "   [0.]\n",
      "   [0.]\n",
      "   ...\n",
      "   [0.]\n",
      "   [0.]\n",
      "   [0.]]\n",
      "\n",
      "  [[0.]\n",
      "   [0.]\n",
      "   [0.]\n",
      "   ...\n",
      "   [0.]\n",
      "   [0.]\n",
      "   [0.]]\n",
      "\n",
      "  ...\n",
      "\n",
      "  [[0.]\n",
      "   [0.]\n",
      "   [0.]\n",
      "   ...\n",
      "   [0.]\n",
      "   [0.]\n",
      "   [0.]]\n",
      "\n",
      "  [[0.]\n",
      "   [0.]\n",
      "   [0.]\n",
      "   ...\n",
      "   [0.]\n",
      "   [0.]\n",
      "   [0.]]\n",
      "\n",
      "  [[0.]\n",
      "   [0.]\n",
      "   [0.]\n",
      "   ...\n",
      "   [0.]\n",
      "   [0.]\n",
      "   [0.]]]]\n",
      "\n",
      "---------\n",
      "\n",
      "[[[[0.]\n",
      "   [0.]\n",
      "   [0.]\n",
      "   ...\n",
      "   [0.]\n",
      "   [0.]\n",
      "   [0.]]\n",
      "\n",
      "  [[0.]\n",
      "   [0.]\n",
      "   [0.]\n",
      "   ...\n",
      "   [0.]\n",
      "   [0.]\n",
      "   [0.]]\n",
      "\n",
      "  [[0.]\n",
      "   [0.]\n",
      "   [0.]\n",
      "   ...\n",
      "   [0.]\n",
      "   [0.]\n",
      "   [0.]]\n",
      "\n",
      "  ...\n",
      "\n",
      "  [[0.]\n",
      "   [0.]\n",
      "   [0.]\n",
      "   ...\n",
      "   [0.]\n",
      "   [0.]\n",
      "   [0.]]\n",
      "\n",
      "  [[0.]\n",
      "   [0.]\n",
      "   [0.]\n",
      "   ...\n",
      "   [0.]\n",
      "   [0.]\n",
      "   [0.]]\n",
      "\n",
      "  [[0.]\n",
      "   [0.]\n",
      "   [0.]\n",
      "   ...\n",
      "   [0.]\n",
      "   [0.]\n",
      "   [0.]]]\n",
      "\n",
      "\n",
      " [[[0.]\n",
      "   [0.]\n",
      "   [0.]\n",
      "   ...\n",
      "   [0.]\n",
      "   [0.]\n",
      "   [0.]]\n",
      "\n",
      "  [[0.]\n",
      "   [0.]\n",
      "   [0.]\n",
      "   ...\n",
      "   [0.]\n",
      "   [0.]\n",
      "   [0.]]\n",
      "\n",
      "  [[0.]\n",
      "   [0.]\n",
      "   [0.]\n",
      "   ...\n",
      "   [0.]\n",
      "   [0.]\n",
      "   [0.]]\n",
      "\n",
      "  ...\n",
      "\n",
      "  [[0.]\n",
      "   [0.]\n",
      "   [0.]\n",
      "   ...\n",
      "   [0.]\n",
      "   [0.]\n",
      "   [0.]]\n",
      "\n",
      "  [[0.]\n",
      "   [0.]\n",
      "   [0.]\n",
      "   ...\n",
      "   [0.]\n",
      "   [0.]\n",
      "   [0.]]\n",
      "\n",
      "  [[0.]\n",
      "   [0.]\n",
      "   [0.]\n",
      "   ...\n",
      "   [0.]\n",
      "   [0.]\n",
      "   [0.]]]\n",
      "\n",
      "\n",
      " [[[0.]\n",
      "   [0.]\n",
      "   [0.]\n",
      "   ...\n",
      "   [0.]\n",
      "   [0.]\n",
      "   [0.]]\n",
      "\n",
      "  [[0.]\n",
      "   [0.]\n",
      "   [0.]\n",
      "   ...\n",
      "   [0.]\n",
      "   [0.]\n",
      "   [0.]]\n",
      "\n",
      "  [[0.]\n",
      "   [0.]\n",
      "   [0.]\n",
      "   ...\n",
      "   [0.]\n",
      "   [0.]\n",
      "   [0.]]\n",
      "\n",
      "  ...\n",
      "\n",
      "  [[0.]\n",
      "   [0.]\n",
      "   [0.]\n",
      "   ...\n",
      "   [0.]\n",
      "   [0.]\n",
      "   [0.]]\n",
      "\n",
      "  [[0.]\n",
      "   [0.]\n",
      "   [0.]\n",
      "   ...\n",
      "   [0.]\n",
      "   [0.]\n",
      "   [0.]]\n",
      "\n",
      "  [[0.]\n",
      "   [0.]\n",
      "   [0.]\n",
      "   ...\n",
      "   [0.]\n",
      "   [0.]\n",
      "   [0.]]]]\n"
     ]
    }
   ],
   "source": [
    "# Normalizing the RGB codes by dividing it to the max RGB value: 255\n",
    "\n",
    "attributes_test_expanded = np.expand_dims(attributes_test, 3)\n",
    "attributes_test_expanded = attributes_test_expanded / 255.0\n",
    "print(attributes_test_expanded[0 : 3])\n",
    "\n",
    "print(\"\\n---------\\n\")\n",
    "\n",
    "attributes_train_expanded = attributes_train_expanded / 255.0\n",
    "print(attributes_train_expanded[0 : 3])"
   ]
  },
  {
   "cell_type": "markdown",
   "metadata": {},
   "source": [
    "_Here we are building the Convolutional Neural Network (CNN) model architecture._\n",
    "\n",
    "_It's a small model but we only need it for an example._\n",
    "\n",
    "_Using this model, we are demonstrating concepts from this paper, such as `dropout`, `dense layer`, `ReLu`, `Softmax`, etc._"
   ]
  },
  {
   "cell_type": "code",
   "execution_count": 8,
   "metadata": {},
   "outputs": [],
   "source": [
    "# Building the Convolutional Neural Network (CNN) model architecture:\n",
    "\n",
    "cnn = Sequential([\n",
    "    Input(shape = (28, 28, 1)),\n",
    "    Conv2D(64, (3, 3), padding = \"same\", activation = \"relu\"),\n",
    "    Conv2D(32, (3, 3), padding = \"same\", activation = \"relu\"),\n",
    "    MaxPool2D(),\n",
    "    Conv2D(32, (3, 3), padding = \"same\", activation = \"relu\"),\n",
    "    Conv2D(16, (3, 3), padding = \"same\", activation = \"relu\"),\n",
    "    MaxPool2D(),\n",
    "    Flatten(),\n",
    "    \n",
    "    Dense(64, activation = \"relu\"),\n",
    "    Dropout(0.05),\n",
    "    Dense(10, activation = \"softmax\")    \n",
    "])"
   ]
  },
  {
   "cell_type": "code",
   "execution_count": 9,
   "metadata": {},
   "outputs": [
    {
     "name": "stdout",
     "output_type": "stream",
     "text": [
      "Model: \"sequential\"\n",
      "_________________________________________________________________\n",
      "Layer (type)                 Output Shape              Param #   \n",
      "=================================================================\n",
      "conv2d (Conv2D)              (None, 28, 28, 64)        640       \n",
      "_________________________________________________________________\n",
      "conv2d_1 (Conv2D)            (None, 28, 28, 32)        18464     \n",
      "_________________________________________________________________\n",
      "max_pooling2d (MaxPooling2D) (None, 14, 14, 32)        0         \n",
      "_________________________________________________________________\n",
      "conv2d_2 (Conv2D)            (None, 14, 14, 32)        9248      \n",
      "_________________________________________________________________\n",
      "conv2d_3 (Conv2D)            (None, 14, 14, 16)        4624      \n",
      "_________________________________________________________________\n",
      "max_pooling2d_1 (MaxPooling2 (None, 7, 7, 16)          0         \n",
      "_________________________________________________________________\n",
      "flatten (Flatten)            (None, 784)               0         \n",
      "_________________________________________________________________\n",
      "dense (Dense)                (None, 64)                50240     \n",
      "_________________________________________________________________\n",
      "dropout (Dropout)            (None, 64)                0         \n",
      "_________________________________________________________________\n",
      "dense_1 (Dense)              (None, 10)                650       \n",
      "=================================================================\n",
      "Total params: 83,866\n",
      "Trainable params: 83,866\n",
      "Non-trainable params: 0\n",
      "_________________________________________________________________\n"
     ]
    }
   ],
   "source": [
    "# The Convolutional Neural Network (CNN) model summary:\n",
    "\n",
    "cnn.summary()"
   ]
  },
  {
   "cell_type": "markdown",
   "metadata": {},
   "source": [
    "_Below we are compiling the model, and we are using it to demonstrate other concepts from this paper, such as `Adam optimizer`, `cross-entropy (crossentropy)` for the `loss function`, `metrics`, such as `accuracy`, etc._"
   ]
  },
  {
   "cell_type": "code",
   "execution_count": 10,
   "metadata": {},
   "outputs": [],
   "source": [
    "# Compiling the model with some parameters, such as ADAM optimizer etc:\n",
    "\n",
    "cnn.compile(loss = \"sparse_categorical_crossentropy\", optimizer = \"adam\", metrics = [\"accuracy\"])"
   ]
  },
  {
   "cell_type": "markdown",
   "metadata": {},
   "source": [
    "_Here we are training the model on the training part of the dataset._\n",
    "\n",
    "_Due to the reasons explained in the [[Foreword]](#Foreword) section we are training a small model and we are training it very little - only one epoch, and we are limiting the steps per epoch._"
   ]
  },
  {
   "cell_type": "code",
   "execution_count": 11,
   "metadata": {},
   "outputs": [
    {
     "name": "stdout",
     "output_type": "stream",
     "text": [
      "500/500 [==============================] - 151s 300ms/step - loss: 0.5606 - accuracy: 0.8091\n"
     ]
    },
    {
     "data": {
      "text/plain": [
       "<tensorflow.python.keras.callbacks.History at 0x104711d30>"
      ]
     },
     "execution_count": 11,
     "metadata": {},
     "output_type": "execute_result"
    }
   ],
   "source": [
    "# Training the model, this is an example of training it only a little, as we are just using it for example:\n",
    "\n",
    "cnn.fit(attributes_train_expanded, labels_train, steps_per_epoch = 500, epochs = 1)"
   ]
  },
  {
   "cell_type": "markdown",
   "metadata": {},
   "source": [
    "_As we can see while the model is training the `loss function` is decreasing while the `accuracy` is increasing, which is the correct thing to happen._\n",
    "\n",
    "_We are receiving values similar to:_\n",
    "\n",
    "```\n",
    "loss: 0.3468\n",
    "accuracy: 0.8854\n",
    "```\n",
    "\n",
    "...\n",
    "\n",
    "```\n",
    "loss: 0.5606\n",
    "accuracy: 0.8091\n",
    "```\n",
    "\n",
    "_As mentioned, a few sentences back, we are training a small model and we are training it very little, but if we had more processing power and time we could have trained it to achieve better results and higher `accuracy`._"
   ]
  },
  {
   "cell_type": "code",
   "execution_count": 12,
   "metadata": {},
   "outputs": [
    {
     "data": {
      "text/plain": [
       "(TensorShape([None, 28, 28, 1]), TensorShape([None, 28, 28, 64]))"
      ]
     },
     "execution_count": 12,
     "metadata": {},
     "output_type": "execute_result"
    }
   ],
   "source": [
    "# Checking the shapes of the input and the output layers:\n",
    "\n",
    "cnn.layers[0].input.shape, cnn.layers[0].output.shape"
   ]
  },
  {
   "cell_type": "code",
   "execution_count": 13,
   "metadata": {},
   "outputs": [
    {
     "data": {
      "text/plain": [
       "<tf.Variable 'conv2d/kernel:0' shape=(3, 3, 1, 64) dtype=float32, numpy=\n",
       "array([[[[ 9.11146775e-02,  6.58011064e-02,  9.38120764e-03,\n",
       "           1.06287107e-01, -5.36887124e-02, -2.05025766e-02,\n",
       "           1.06712822e-02, -9.10094231e-02, -4.83714826e-02,\n",
       "           2.04702597e-02,  3.21879797e-03, -5.93592599e-02,\n",
       "           1.65572137e-01,  1.44944966e-01, -5.53226173e-02,\n",
       "           6.54253885e-02,  7.02179736e-03, -5.77826425e-02,\n",
       "          -7.26372749e-02,  5.28353779e-03,  2.40466427e-02,\n",
       "           1.45409271e-01,  2.29364056e-02,  4.09230441e-02,\n",
       "           2.93590594e-02,  6.99883178e-02, -2.11466663e-02,\n",
       "           1.03005216e-01, -5.50956689e-02, -5.28403409e-02,\n",
       "           1.06129587e-01,  1.03776664e-01,  7.85399824e-02,\n",
       "          -6.48844019e-02, -7.22897574e-02, -1.09015964e-03,\n",
       "          -6.15423992e-02,  1.49982395e-02,  2.36085448e-02,\n",
       "           1.00403540e-01,  1.25266790e-01,  5.78709580e-02,\n",
       "           1.46019921e-01, -7.92784318e-02,  1.33188903e-01,\n",
       "          -1.80854183e-02, -1.34593276e-02,  5.43874577e-02,\n",
       "           2.66626496e-02, -2.99256127e-02,  1.43034698e-03,\n",
       "          -5.20615978e-03, -7.44219869e-02, -9.88757610e-02,\n",
       "           1.41540915e-01, -5.61656207e-02, -5.67651913e-03,\n",
       "           1.14941277e-01,  1.17212586e-01, -1.72476508e-02,\n",
       "           1.24610357e-01, -4.02698182e-02,  1.71432327e-02,\n",
       "          -3.12705450e-02]],\n",
       "\n",
       "        [[ 1.41965961e-02, -1.72632784e-02,  7.69343823e-02,\n",
       "          -6.18838519e-02,  7.51005560e-02, -1.35101154e-01,\n",
       "           2.89513320e-02, -8.41527358e-02,  1.58357639e-02,\n",
       "          -1.13896921e-01, -1.11152977e-02, -5.29567450e-02,\n",
       "           5.27854860e-02,  4.74008918e-02, -1.00383289e-01,\n",
       "           2.88111391e-03, -1.28159106e-01,  1.19215511e-01,\n",
       "           6.78980798e-02,  1.04481578e-01, -1.80472545e-02,\n",
       "           7.64761493e-02,  8.75591561e-02,  5.55407815e-02,\n",
       "           9.35534239e-02,  3.02989185e-02, -2.76046414e-02,\n",
       "           9.77922454e-02, -1.95262134e-02,  8.85931030e-02,\n",
       "           6.36575967e-02,  8.71403366e-02, -8.96229893e-02,\n",
       "          -4.09011059e-02,  3.90529260e-02, -7.71452338e-02,\n",
       "           2.43067462e-02,  1.87028274e-02, -2.22109407e-02,\n",
       "          -3.19868401e-02,  1.25740588e-01,  3.32592167e-02,\n",
       "          -1.22616356e-02,  8.07557777e-02,  2.43527759e-02,\n",
       "           3.05542946e-02, -9.89024863e-02,  1.57505739e-02,\n",
       "           6.29305989e-02,  7.90457353e-02,  8.15357491e-02,\n",
       "          -6.04206920e-02,  5.11107817e-02, -4.38426845e-02,\n",
       "           7.78794885e-02,  1.07405916e-01, -6.04607128e-02,\n",
       "           7.59070856e-04,  4.36788388e-02, -5.74261956e-02,\n",
       "           9.11851302e-02, -8.46913010e-02, -5.44587597e-02,\n",
       "           3.05977128e-02]],\n",
       "\n",
       "        [[-1.36911094e-01, -1.24746658e-01,  1.26682252e-01,\n",
       "          -1.34259656e-01,  1.21528357e-01, -1.34277627e-01,\n",
       "           3.63077000e-02,  3.62357832e-02,  1.16280377e-01,\n",
       "          -2.16389145e-03, -6.88333064e-02,  5.34022301e-02,\n",
       "           4.55134250e-02, -3.80977523e-03,  1.48755565e-01,\n",
       "           1.30625233e-01, -5.94109371e-02,  7.41226375e-02,\n",
       "           8.12278464e-02,  7.54810646e-02, -1.67312578e-03,\n",
       "           4.11941074e-02, -9.68316793e-02,  1.22479061e-02,\n",
       "          -5.60274497e-02,  7.58650824e-02, -1.36244223e-01,\n",
       "           1.52060822e-01,  4.91369888e-02, -4.46963534e-02,\n",
       "           8.20407793e-02,  9.96810272e-02,  1.10832066e-03,\n",
       "          -2.58008670e-02,  4.05366644e-02,  1.05663918e-01,\n",
       "          -4.50075157e-02, -4.65616994e-02,  1.13478266e-01,\n",
       "          -1.48960121e-03,  1.48587003e-02,  1.24227054e-01,\n",
       "          -9.80267078e-02, -6.91101551e-02,  1.43803909e-01,\n",
       "           1.10967204e-01, -1.38709217e-01,  9.98900607e-02,\n",
       "           1.70914739e-01,  6.43670261e-02,  2.24890281e-02,\n",
       "          -1.03849344e-01,  1.02126442e-01,  9.98805538e-02,\n",
       "           1.02884904e-01,  3.14704329e-02, -2.72016157e-03,\n",
       "          -2.70146299e-02,  1.04605325e-01, -1.91942602e-02,\n",
       "           5.21968864e-03, -8.81330892e-02,  4.26551141e-02,\n",
       "          -9.04875696e-02]]],\n",
       "\n",
       "\n",
       "       [[[-3.89169306e-02, -1.35643855e-01,  1.47612199e-01,\n",
       "          -5.61879799e-02,  4.55686077e-02,  8.19016993e-02,\n",
       "           8.80289748e-02, -1.06885009e-01,  1.11047528e-03,\n",
       "          -3.90785597e-02,  8.67276341e-02,  1.30587146e-01,\n",
       "          -5.08113056e-02,  9.43807438e-02, -1.33392096e-01,\n",
       "          -3.09114531e-02,  4.44885576e-03,  1.01709038e-01,\n",
       "          -4.11048345e-02,  8.30224976e-02, -2.59463210e-02,\n",
       "          -5.92193268e-02,  7.53510147e-02,  4.20404114e-02,\n",
       "           7.36828819e-02,  1.00105137e-01, -1.26664918e-02,\n",
       "           2.02854294e-02,  1.13183975e-01,  1.43039301e-01,\n",
       "          -2.38177981e-02, -3.01080495e-02,  3.95769253e-02,\n",
       "           1.07613444e-01,  4.59664352e-02, -7.68264458e-02,\n",
       "          -6.96488619e-02,  1.19186435e-02,  6.73772097e-02,\n",
       "          -6.48017377e-02,  1.39885275e-02,  5.16789779e-02,\n",
       "           1.12087019e-01, -3.20069008e-02, -2.53408514e-02,\n",
       "           3.52039672e-02, -4.03964077e-05,  1.30755424e-01,\n",
       "          -6.22358508e-02, -2.85982806e-02,  7.64275566e-02,\n",
       "          -6.56516524e-03,  1.79270040e-02, -8.76587182e-02,\n",
       "          -2.98458207e-02,  8.68780911e-02, -8.07397217e-02,\n",
       "           6.37022331e-02, -4.46202494e-02, -1.16355389e-01,\n",
       "           5.91578633e-02, -3.00049484e-02, -8.85553882e-02,\n",
       "          -1.09216161e-01]],\n",
       "\n",
       "        [[ 1.46015752e-02, -1.04812626e-02,  9.82646272e-02,\n",
       "          -1.36881113e-01,  1.24406509e-01,  8.28338880e-03,\n",
       "           1.35385677e-01,  7.18438104e-02,  1.21247873e-01,\n",
       "           8.52319002e-02,  7.57909492e-02,  4.92251925e-02,\n",
       "          -7.86538050e-02, -5.02769463e-02, -8.21158886e-02,\n",
       "          -5.10385213e-03,  5.09198830e-02,  1.18241245e-02,\n",
       "           1.36763290e-01, -4.57970649e-02, -6.39923438e-02,\n",
       "          -3.21760736e-02,  1.22033052e-01,  1.15096509e-01,\n",
       "          -5.95849007e-02,  8.16202238e-02,  8.95015970e-02,\n",
       "          -5.94939142e-02,  1.23872794e-01,  1.27263814e-01,\n",
       "           3.09762917e-02, -3.73464823e-02, -4.94557396e-02,\n",
       "           1.10148408e-01,  4.45455760e-02,  6.16425648e-02,\n",
       "           6.44152611e-02,  2.67459266e-02,  1.16005920e-01,\n",
       "           1.00860849e-01,  1.15909986e-01,  6.12997375e-02,\n",
       "           1.09559834e-01,  6.96008578e-02, -5.92759401e-02,\n",
       "           1.76784471e-02, -7.45370868e-04,  1.33175820e-01,\n",
       "           1.03561580e-01,  3.46627571e-02,  1.24962233e-01,\n",
       "          -3.11377682e-02, -5.69946505e-02,  4.69286442e-02,\n",
       "          -5.13348989e-02,  3.67648825e-02, -5.97067773e-02,\n",
       "           1.42820012e-02,  2.83604078e-02,  1.01331249e-02,\n",
       "           9.03340727e-02, -7.96349049e-02, -1.24988426e-02,\n",
       "           6.08279221e-02]],\n",
       "\n",
       "        [[-1.44094095e-01,  5.23752533e-02,  1.05529159e-01,\n",
       "           1.93044730e-02, -4.16078120e-02,  7.91302919e-02,\n",
       "           5.33289500e-02,  1.97072327e-02,  6.37725145e-02,\n",
       "           9.58185643e-02, -1.15202636e-01,  1.28470268e-02,\n",
       "           5.94904944e-02, -8.57359096e-02,  1.60962254e-01,\n",
       "          -1.01190537e-01,  1.63058072e-01,  1.27403423e-01,\n",
       "          -1.51102357e-02, -1.11242145e-01, -8.67897049e-02,\n",
       "          -5.66803738e-02,  5.51004969e-02,  1.31115958e-01,\n",
       "          -1.12468436e-01, -1.63767338e-02, -3.52329649e-02,\n",
       "           7.56026357e-02,  1.35392547e-01, -3.24336737e-02,\n",
       "           1.14308698e-02, -4.27824557e-02,  6.64862469e-02,\n",
       "          -1.55132636e-03,  5.89475371e-02,  1.41700000e-01,\n",
       "           5.67428358e-02,  1.32454932e-01,  6.00285316e-03,\n",
       "           1.35121718e-01, -5.57356328e-03, -7.50084147e-02,\n",
       "           1.54422205e-02,  1.30505145e-01,  5.56245111e-02,\n",
       "          -4.17933948e-02, -2.42031906e-02,  1.01214290e-01,\n",
       "          -1.78397037e-02,  5.47866598e-02,  1.05035774e-01,\n",
       "          -7.83422738e-02, -6.15676045e-02,  6.48520589e-02,\n",
       "           6.72644079e-02,  1.21862613e-01, -7.29176998e-02,\n",
       "          -1.23630442e-01,  7.45607689e-02,  1.02230042e-01,\n",
       "           1.32320389e-01, -6.37651905e-02, -1.08583346e-02,\n",
       "           9.57804695e-02]]],\n",
       "\n",
       "\n",
       "       [[[ 1.53285235e-01, -2.72421874e-02, -2.40159295e-02,\n",
       "          -4.49359454e-02, -1.10311061e-01,  9.92145017e-02,\n",
       "          -8.72104019e-02,  4.64079976e-02,  1.22978188e-01,\n",
       "           3.96896116e-02,  9.13647339e-02,  1.13228597e-01,\n",
       "          -2.72511542e-02,  2.38933577e-03, -9.40524489e-02,\n",
       "          -9.65014622e-02,  2.25190781e-02,  1.16533767e-02,\n",
       "           1.14928789e-01, -5.36835305e-02,  7.01508746e-02,\n",
       "          -1.17602423e-01,  4.43184450e-02, -5.11914212e-03,\n",
       "           6.34981319e-02,  5.05387187e-02,  5.91015443e-02,\n",
       "           4.82274517e-02, -3.07391137e-02,  1.09321274e-01,\n",
       "          -1.04447819e-01, -1.59760237e-01,  1.29325718e-01,\n",
       "           4.02358733e-03,  8.03742185e-02, -1.35068791e-02,\n",
       "           1.19004540e-01,  7.73945972e-02, -1.47651106e-01,\n",
       "           1.20585784e-01,  1.11124061e-01, -1.44340783e-01,\n",
       "           1.00329354e-01,  1.40606582e-01,  5.67927323e-02,\n",
       "           6.72757775e-02,  4.52401899e-02,  1.24119617e-01,\n",
       "          -1.77404329e-01,  5.15023693e-02,  3.40299271e-02,\n",
       "           6.95756897e-02,  8.55449587e-02, -4.27555703e-02,\n",
       "          -1.29888356e-01,  8.96818191e-02,  9.78931785e-02,\n",
       "           1.14487343e-01, -1.06538936e-01, -1.48047814e-02,\n",
       "           4.38092873e-02, -2.25309506e-02,  8.69771987e-02,\n",
       "          -6.20420501e-02]],\n",
       "\n",
       "        [[ 1.24311551e-01, -3.77809675e-03, -4.83419886e-03,\n",
       "          -7.61841610e-02, -5.45424782e-02,  7.79853016e-02,\n",
       "          -7.35068619e-02,  1.50502965e-01,  7.42811430e-03,\n",
       "           1.13388803e-02, -4.59729545e-02,  8.91116187e-02,\n",
       "          -3.41750011e-02,  3.30888666e-02, -9.98155251e-02,\n",
       "          -5.41784540e-02, -3.05494610e-02, -2.29367148e-02,\n",
       "           1.61454622e-02, -9.51689407e-02,  1.95874736e-01,\n",
       "          -7.87763223e-02,  8.99844803e-03,  5.19534908e-02,\n",
       "           4.37800586e-02,  8.81565455e-03,  1.69067636e-01,\n",
       "          -1.99469421e-02,  6.54922202e-02,  2.93813739e-02,\n",
       "          -1.03319965e-01, -1.93170439e-02,  4.60530594e-02,\n",
       "          -1.16481431e-01,  1.18013859e-01, -1.50102913e-01,\n",
       "           1.48880139e-01, -1.32389115e-02, -9.81282219e-02,\n",
       "          -1.57787241e-02,  7.34089166e-02, -9.92098749e-02,\n",
       "          -1.93251688e-02,  2.14373283e-02, -9.08560455e-02,\n",
       "           8.69319066e-02,  1.74007028e-01,  5.35792038e-02,\n",
       "          -1.04793422e-01, -4.11840044e-02,  6.58182651e-02,\n",
       "           1.39954612e-01,  4.29559648e-02,  7.79466704e-02,\n",
       "          -1.03203297e-01, -1.49495127e-02,  1.18716501e-01,\n",
       "          -2.14261487e-02, -9.52004194e-02,  1.63804159e-01,\n",
       "          -8.36026371e-02, -6.77115172e-02,  1.58010826e-01,\n",
       "           1.16840325e-01]],\n",
       "\n",
       "        [[-3.14482749e-02,  7.44616017e-02, -7.74732605e-02,\n",
       "          -1.28214836e-01,  9.23547372e-02,  3.46081592e-02,\n",
       "           1.09399587e-01,  1.04182340e-01, -5.52606434e-02,\n",
       "           5.98051064e-02, -3.15739820e-03, -3.83832417e-02,\n",
       "          -1.31239578e-01, -1.05963558e-01, -5.14076324e-04,\n",
       "          -4.25153524e-02,  1.58879772e-01,  6.20388091e-02,\n",
       "           8.21142271e-02, -1.77056866e-03, -2.69709397e-02,\n",
       "          -1.12900287e-02, -3.05683035e-02, -2.66832095e-02,\n",
       "          -2.72582397e-02, -1.10907368e-02,  1.59857407e-01,\n",
       "          -2.39228159e-02, -7.40068704e-02,  1.19752735e-01,\n",
       "          -1.08021893e-01, -1.40113845e-01,  1.06570803e-01,\n",
       "          -1.14937425e-01, -4.58655097e-02, -5.73066920e-02,\n",
       "           1.51719213e-01,  1.31278425e-01,  3.88679318e-02,\n",
       "           3.10291369e-02,  9.66243669e-02,  6.90574422e-02,\n",
       "          -6.23153225e-02,  1.38618484e-01, -9.72762480e-02,\n",
       "           1.13949478e-01,  9.06291753e-02, -6.63793925e-03,\n",
       "           6.24848194e-02, -2.82461308e-02,  9.88117903e-02,\n",
       "           1.02089949e-01,  3.62423025e-02,  5.91154173e-02,\n",
       "           4.79351468e-02,  1.30629325e-02,  7.31344149e-02,\n",
       "          -7.21488595e-02, -9.04956013e-02,  1.44088760e-01,\n",
       "           8.11779499e-02, -9.00822431e-02,  6.19680583e-02,\n",
       "           1.53063998e-01]]]], dtype=float32)>"
      ]
     },
     "execution_count": 13,
     "metadata": {},
     "output_type": "execute_result"
    }
   ],
   "source": [
    "# Printing some wieghts for visibility:\n",
    "\n",
    "cnn.layers[0].weights[0]"
   ]
  },
  {
   "cell_type": "markdown",
   "metadata": {},
   "source": [
    "_Printing out a few of the filters used for the convolutions, just to get an idea:_"
   ]
  },
  {
   "cell_type": "code",
   "execution_count": 14,
   "metadata": {},
   "outputs": [
    {
     "data": {
      "image/png": "[encoded data removed]",
      "text/plain": [
       "<Figure size 432x288 with 1 Axes>"
      ]
     },
     "metadata": {
      "needs_background": "light"
     },
     "output_type": "display_data"
    },
    {
     "data": {
      "image/png": "[encoded data removed]",
      "text/plain": [
       "<Figure size 432x288 with 1 Axes>"
      ]
     },
     "metadata": {
      "needs_background": "light"
     },
     "output_type": "display_data"
    },
    {
     "data": {
      "image/png": "[encoded data removed]",
      "text/plain": [
       "<Figure size 432x288 with 1 Axes>"
      ]
     },
     "metadata": {
      "needs_background": "light"
     },
     "output_type": "display_data"
    },
    {
     "data": {
      "image/png": "[encoded data removed]",
      "text/plain": [
       "<Figure size 432x288 with 1 Axes>"
      ]
     },
     "metadata": {
      "needs_background": "light"
     },
     "output_type": "display_data"
    },
    {
     "data": {
      "image/png": "[encoded data removed]",
      "text/plain": [
       "<Figure size 432x288 with 1 Axes>"
      ]
     },
     "metadata": {
      "needs_background": "light"
     },
     "output_type": "display_data"
    },
    {
     "data": {
      "image/png": "[encoded data removed]",
      "text/plain": [
       "<Figure size 432x288 with 1 Axes>"
      ]
     },
     "metadata": {
      "needs_background": "light"
     },
     "output_type": "display_data"
    },
    {
     "data": {
      "image/png": "[encoded data removed]",
      "text/plain": [
       "<Figure size 432x288 with 1 Axes>"
      ]
     },
     "metadata": {
      "needs_background": "light"
     },
     "output_type": "display_data"
    },
    {
     "data": {
      "image/png": "[encoded data removed]",
      "text/plain": [
       "<Figure size 432x288 with 1 Axes>"
      ]
     },
     "metadata": {
      "needs_background": "light"
     },
     "output_type": "display_data"
    },
    {
     "data": {
      "image/png": "[encoded data removed]",
      "text/plain": [
       "<Figure size 432x288 with 1 Axes>"
      ]
     },
     "metadata": {
      "needs_background": "light"
     },
     "output_type": "display_data"
    },
    {
     "data": {
      "image/png": "[encoded data removed]",
      "text/plain": [
       "<Figure size 432x288 with 1 Axes>"
      ]
     },
     "metadata": {
      "needs_background": "light"
     },
     "output_type": "display_data"
    }
   ],
   "source": [
    "# Printing out a few of the filters, just to get an idea:\n",
    "\n",
    "for i in range(10):\n",
    "    filter_contents = tf.squeeze(cnn.layers[0].kernel[:, :, :, 0]).numpy()\n",
    "    plt.imshow(filter_contents, cmap = \"gray\")\n",
    "    plt.show()"
   ]
  },
  {
   "cell_type": "markdown",
   "metadata": {},
   "source": [
    "_Printing out a few of the images, just to get an idea of the dataset:_"
   ]
  },
  {
   "cell_type": "code",
   "execution_count": 15,
   "metadata": {},
   "outputs": [
    {
     "data": {
      "image/png": "[encoded data removed]",
      "text/plain": [
       "<Figure size 432x288 with 1 Axes>"
      ]
     },
     "metadata": {
      "needs_background": "light"
     },
     "output_type": "display_data"
    },
    {
     "data": {
      "image/png": "[encoded data removed]",
      "text/plain": [
       "<Figure size 432x288 with 1 Axes>"
      ]
     },
     "metadata": {
      "needs_background": "light"
     },
     "output_type": "display_data"
    },
    {
     "data": {
      "image/png": "[encoded data removed]",
      "text/plain": [
       "<Figure size 432x288 with 1 Axes>"
      ]
     },
     "metadata": {
      "needs_background": "light"
     },
     "output_type": "display_data"
    },
    {
     "data": {
      "image/png": "[encoded data removed]",
      "text/plain": [
       "<Figure size 432x288 with 1 Axes>"
      ]
     },
     "metadata": {
      "needs_background": "light"
     },
     "output_type": "display_data"
    },
    {
     "data": {
      "image/png": "[encoded data removed]",
      "text/plain": [
       "<Figure size 432x288 with 1 Axes>"
      ]
     },
     "metadata": {
      "needs_background": "light"
     },
     "output_type": "display_data"
    },
    {
     "data": {
      "image/png": "[encoded data removed]",
      "text/plain": [
       "<Figure size 432x288 with 1 Axes>"
      ]
     },
     "metadata": {
      "needs_background": "light"
     },
     "output_type": "display_data"
    },
    {
     "data": {
      "image/png": "[encoded data removed]",
      "text/plain": [
       "<Figure size 432x288 with 1 Axes>"
      ]
     },
     "metadata": {
      "needs_background": "light"
     },
     "output_type": "display_data"
    },
    {
     "data": {
      "image/png": "[encoded data removed]",
      "text/plain": [
       "<Figure size 432x288 with 1 Axes>"
      ]
     },
     "metadata": {
      "needs_background": "light"
     },
     "output_type": "display_data"
    },
    {
     "data": {
      "image/png": "[encoded data removed]",
      "text/plain": [
       "<Figure size 432x288 with 1 Axes>"
      ]
     },
     "metadata": {
      "needs_background": "light"
     },
     "output_type": "display_data"
    },
    {
     "data": {
      "image/png": "[encoded data removed]",
      "text/plain": [
       "<Figure size 432x288 with 1 Axes>"
      ]
     },
     "metadata": {
      "needs_background": "light"
     },
     "output_type": "display_data"
    }
   ],
   "source": [
    "# Printing out a few of the images, just to get an idea of the dataset:\n",
    "\n",
    "for i in range(10):\n",
    "    plt.imshow(attributes_train[i], cmap = \"gray\")\n",
    "    plt.title(f\"label: {labels_train[i]}\")\n",
    "    plt.show()"
   ]
  },
  {
   "cell_type": "markdown",
   "metadata": {},
   "source": [
    "_Here we are loading an example image to pass to the model and ask to classify it as one of the numbers it was trained on:_"
   ]
  },
  {
   "cell_type": "markdown",
   "metadata": {},
   "source": [
    "_We select the image of a handwritten `3` from our testing set and we can see that indeed our CNN predicts correctly that it is the number `3`._"
   ]
  },
  {
   "cell_type": "code",
   "execution_count": 16,
   "metadata": {},
   "outputs": [
    {
     "name": "stdout",
     "output_type": "stream",
     "text": [
      "Image to predict: \n"
     ]
    },
    {
     "data": {
      "image/png": "[encoded data removed]",
      "text/plain": [
       "<Figure size 432x288 with 1 Axes>"
      ]
     },
     "metadata": {
      "needs_background": "light"
     },
     "output_type": "display_data"
    },
    {
     "name": "stdout",
     "output_type": "stream",
     "text": [
      "CNN Predicted:  3\n"
     ]
    }
   ],
   "source": [
    "# Loading an example image to pass to the model and ask to classify it as one of the numbers it was trained on:\n",
    "\n",
    "image_index = 369\n",
    "test_image = attributes_test[image_index].reshape(28, 28)\n",
    "print(\"Image to predict: \")\n",
    "plt.imshow(test_image, cmap='Greys')\n",
    "plt.show()\n",
    "test_image = tf.keras.preprocessing.image.img_to_array(test_image)\n",
    "test_image = tf.expand_dims(test_image, 0)\n",
    "predictions = cnn.predict(test_image)\n",
    "print(\"CNN Predicted: \", predictions.argmax())"
   ]
  },
  {
   "cell_type": "markdown",
   "metadata": {},
   "source": [
    "_Let's print out the predictions for the example number in a more readable way:_\n",
    "\n",
    "_We can see that our model is indeed pretty certain that the predicted number is classified as the number `3`._"
   ]
  },
  {
   "cell_type": "code",
   "execution_count": 17,
   "metadata": {},
   "outputs": [
    {
     "name": "stdout",
     "output_type": "stream",
     "text": [
      "0  0.00 \n",
      "1  0.00 \n",
      "2  0.00 \n",
      "3  100.00 \n",
      "4  0.00 \n",
      "5  0.00 \n",
      "6  0.00 \n",
      "7  0.00 \n",
      "8  0.00 \n",
      "9  0.00 \n"
     ]
    }
   ],
   "source": [
    "# Printing out the predictions for the example number:\n",
    "\n",
    "predictions = predictions.flatten()\n",
    "for i in range(0, 10):\n",
    "    print(i , \" %.2f \" % (100 * predictions[i]))"
   ]
  },
  {
   "cell_type": "markdown",
   "metadata": {},
   "source": [
    "_Finally we can evaluate our trained model with the test part of the data set:_"
   ]
  },
  {
   "cell_type": "code",
   "execution_count": 18,
   "metadata": {},
   "outputs": [
    {
     "name": "stdout",
     "output_type": "stream",
     "text": [
      "313/313 [==============================] - 5s 16ms/step - loss: 0.0520 - accuracy: 0.9833\n"
     ]
    },
    {
     "data": {
      "text/plain": [
       "[0.05202137306332588, 0.983299970626831]"
      ]
     },
     "execution_count": 18,
     "metadata": {},
     "output_type": "execute_result"
    }
   ],
   "source": [
    "cnn.evaluate(attributes_test_expanded, labels_test)"
   ]
  },
  {
   "cell_type": "markdown",
   "metadata": {},
   "source": [
    "_We achieved about ~$98.0\\%$ accuracy with such a basic model. To be honest, in many image classification cases (e.g. for autonomous cars), we cannot tolerate even a 0.1% error since, as an analogy, it will cause 1 accident in every 1000 cases. However, for the example purposes of this paper, the results of this model are still pretty good, considering everything so far._"
   ]
  },
  {
   "cell_type": "markdown",
   "metadata": {},
   "source": [
    "## Conclusion"
   ]
  },
  {
   "cell_type": "markdown",
   "metadata": {},
   "source": [
    "_In this article we have achieved our goal, which was to understand some Deep Learning (DL) basics and basic concepts, more specifically to understand Neural Networks (NNs) and how to improve them, so we can create models, train them, test them and extract predictions and information we might be interested in._\n",
    "\n",
    "_I have expanded the original paper, on which this article is based on, by adding a real practical example of building a Convolutional Neural Network architecture, training the model, evaluating it, and then testing it with an example._"
   ]
  },
  {
   "cell_type": "markdown",
   "metadata": {},
   "source": [
    "### Future improvements\n",
    "\n",
    "_This article and this paper can be further improved by expanding them with more examples of the Deep Learning concepts mentioned in the paper, and training those examples on more powerful machines or on Deep Learning cloud platforms._"
   ]
  },
  {
   "cell_type": "markdown",
   "metadata": {},
   "source": [
    "References:\n",
    "\n",
    "***Module: Artificial Intelligence 2021, SoftUni*** [[Reference]](#SoftUni-Module:-Artificial-Intelligence---February-2021)\n",
    "- *Course: Math Concepts for Developers 2021* [[Reference]](#SoftUni-Course:-Math-Concepts-for-Developers---February-2021)\n",
    "- *Course: Data Science 2021* [[Reference]](#SoftUni-Course:-Data-Science---June-2021)\n",
    "- *Course: Machine Learning 2021* [[Reference]](#SoftUni-Course:-Machine-Learning---September-2021)\n",
    "- *Course: Deep Learning 2021* [[Reference]](#SoftUni-Course:-Deep-Learning---December-2021)\n",
    "\n",
    "***Other references:***\n",
    "- *Image classification from scratch [[Reference]](#Image-classification-from-scratch)*\n",
    "- *Basic classification: Classify images of clothing [[Reference]](#Basic-classification:-Classify-images-of-clothing)*\n",
    "- *Image Classification in 10 Minutes with MNIST Dataset [[Reference]](#Image-Classification-in-10-Minutes-with-MNIST-Dataset)*"
   ]
  },
  {
   "cell_type": "markdown",
   "metadata": {},
   "source": [
    "---\n",
    "---\n",
    "---"
   ]
  },
  {
   "cell_type": "markdown",
   "metadata": {},
   "source": [
    "## References"
   ]
  },
  {
   "cell_type": "markdown",
   "metadata": {},
   "source": [
    "### Introduction to deep learning\n",
    "<https://paperswithcode.com/paper/introduction-to-deep-learning>\n",
    "\n",
    "### Introduction to deep learning PDF\n",
    "<https://arxiv.org/pdf/2003.03253v1.pdf>\n",
    "\n",
    "### Introduction to deep learning ARXIV\n",
    "<https://arxiv.org/abs/2003.03253v1>\n",
    "\n",
    "---\n",
    "\n",
    "\n",
    "### Artificial Neural Network: Understanding the Basic Concepts without Mathematics\n",
    "<https://www.ncbi.nlm.nih.gov/pmc/articles/PMC6428006/pdf/dnd-17-83.pdf>\n",
    "\n",
    "### Deep Learning: A Comprehensive Overview on Techniques, Taxonomy, Applications and Research Directions\n",
    "<https://link.springer.com/content/pdf/10.1007/s42979-021-00815-1.pdf>\n",
    "\n",
    "### Introduction to Machine Learning, Neural Networks, and Deep Learning\n",
    "<https://tvst.arvojournals.org/article.aspx?articleid=2762344>\n",
    "\n",
    "---\n",
    "\n",
    "### SoftUni Module: Artificial Intelligence - February 2021\n",
    "<https://softuni.bg/modules/111/artificial-intelligence-february-2021/1276>\n",
    "\n",
    "### SoftUni Course: Math Concepts for Developers - February 2021\n",
    "<https://softuni.bg/trainings/3282/math-concepts-for-developers-february-2021>\n",
    "\n",
    "### SoftUni Course: Data Science - June 2021\n",
    "<https://softuni.bg/trainings/3283/data-science-june-2021>\n",
    "\n",
    "### SoftUni Course: Machine Learning - September 2021\n",
    "<https://softuni.bg/trainings/3284/machine-learning-september-2021>\n",
    "\n",
    "### SoftUni Course: Deep Learning - December 2021\n",
    "<https://softuni.bg/trainings/3285/deep-learning-december-2021>\n",
    "\n",
    "---\n",
    "\n",
    "### THE MNIST DATABASE of handwritten digits\n",
    "<http://yann.lecun.com/exdb/mnist/>\n",
    "\n",
    "### mnist\n",
    "<https://www.tensorflow.org/datasets/catalog/mnist>\n",
    "\n",
    "---\n",
    "\n",
    "### Image classification from scratch\n",
    "<https://keras.io/examples/vision/image_classification_from_scratch/>\n",
    "\n",
    "### Basic classification: Classify images of clothing\n",
    "<https://www.tensorflow.org/tutorials/keras/classification>\n",
    "\n",
    "### Image Classification in 10 Minutes with MNIST Dataset\n",
    "<https://towardsdatascience.com/image-classification-in-10-minutes-with-mnist-dataset-54c35b77a38d>\n",
    "\n",
    "---\n"
   ]
  },
  {
   "cell_type": "markdown",
   "metadata": {},
   "source": [
    "---\n",
    "---\n",
    "---"
   ]
  }
 ],
 "metadata": {
  "kernelspec": {
   "display_name": "Python 3",
   "language": "python",
   "name": "python3"
  },
  "language_info": {
   "codemirror_mode": {
    "name": "ipython",
    "version": 3
   },
   "file_extension": ".py",
   "mimetype": "text/x-python",
   "name": "python",
   "nbconvert_exporter": "python",
   "pygments_lexer": "ipython3",
   "version": "3.8.12"
  },
  "toc": {
   "base_numbering": 1,
   "nav_menu": {},
   "number_sections": true,
   "sideBar": true,
   "skip_h1_title": false,
   "title_cell": "Table of Contents",
   "title_sidebar": "Contents",
   "toc_cell": false,
   "toc_position": {
    "height": "691.2px",
    "left": "148px",
    "top": "304.925px",
    "width": "307.2px"
   },
   "toc_section_display": true,
   "toc_window_display": true
  }
 },
 "nbformat": 4,
 "nbformat_minor": 4
}
